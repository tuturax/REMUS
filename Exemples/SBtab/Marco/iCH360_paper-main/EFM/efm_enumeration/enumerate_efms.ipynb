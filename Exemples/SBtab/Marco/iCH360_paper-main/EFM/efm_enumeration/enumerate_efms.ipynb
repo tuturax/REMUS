{
 "cells": [
  {
   "cell_type": "code",
   "execution_count": 1,
   "metadata": {},
   "outputs": [],
   "source": [
    "import cobra\n",
    "from scipy.io import savemat \n",
    "import os\n",
    "import efmtool\n",
    "import sys\n",
    "import numpy as np\n",
    "import pandas as pd\n",
    "import tqdm"
   ]
  },
  {
   "cell_type": "code",
   "execution_count": 2,
   "metadata": {},
   "outputs": [
    {
     "name": "stdout",
     "output_type": "stream",
     "text": [
      "Set parameter Username\n",
      "Academic license - for non-commercial use only - expires 2025-03-12\n"
     ]
    }
   ],
   "source": [
    "model=cobra.io.read_sbml_model('../../Model/iCH360red/iCH360red.xml')"
   ]
  },
  {
   "cell_type": "code",
   "execution_count": 3,
   "metadata": {},
   "outputs": [],
   "source": [
    "def count_flux_supporting(efm_df,fluxes:list):\n",
    "    satisfied=np.ones(efm_df.shape[1])\n",
    "    for flux in fluxes:\n",
    "        satisfied=np.logical_and(satisfied,efm_df.loc[flux].to_numpy())\n",
    "    candidates=np.nonzero(satisfied)[0]\n",
    "    return candidates\n",
    "\n",
    "def enumerate_efms(model,\n",
    "                carbon_source,\n",
    "                condition,\n",
    "                fluxes_to_enforce=['Biomass'],\n",
    "                carbon_source_specific_remove=None,\n",
    "                condition_specific_remove=None,\n",
    "                out_path='./efms',\n",
    "                save_to_file=False):\n",
    "    with model as m:\n",
    "        m.reactions.EX_glc__D_e.bounds=(0,1000)\n",
    "        m.reactions.get_by_id(f'EX_{carbon_source}_e').lower_bound=-10\n",
    "        if condition=='aerobic':\n",
    "            m.reactions.get_by_id('EX_o2_e').lower_bound=-1000\n",
    "        elif condition=='anaerobic':\n",
    "            m.reactions.get_by_id('EX_o2_e').lower_bound=0\n",
    "\n",
    "        else:\n",
    "            raise ValueError\n",
    "        print(f'Computing EFMs for {carbon_source} {condition}....')\n",
    "        original_rxn_ixs=[r.id for r in model.reactions]\n",
    "        removed_ids=[]\n",
    "        #Remove carbon source specific reactions\n",
    "        if carbon_source_specific_remove is not None:\n",
    "            for cs in carbon_source_specific_remove.keys():\n",
    "                if carbon_source==cs:\n",
    "                    removed_rxns=[m.reactions.get_by_id(r) for r in carbon_source_specific_remove[cs] if r in model.reactions]\n",
    "                    removed_ids+=[r.id for r in removed_rxns]\n",
    "                    m.remove_reactions(removed_rxns)\n",
    "        #Remove condition-specific reactions\n",
    "        if condition_specific_remove is not None:\n",
    "            for cond in condition_specific_remove.keys():\n",
    "                if condition==cond:\n",
    "                    removed_rxns=[m.reactions.get_by_id(r) for r in condition_specific_remove[cond] if r in model.reactions]\n",
    "                    removed_ids+=[r.id for r in removed_rxns]\n",
    "                    m.remove_reactions(removed_rxns)\n",
    "        print(f'Removed {removed_ids} due to carbon source or condition specific parameter.')\n",
    "        reversibilities=[int(r.reversibility) for r in m.reactions]\n",
    "        reactions_ids=[r.id for r in m.reactions]\n",
    "        metabolite_ids=[m.id for m in m.metabolites]\n",
    "        S=cobra.util.array.create_stoichiometric_matrix(m,array_type='DataFrame')\n",
    "        S=S.values\n",
    "\n",
    "\n",
    "        filename_mat=f'ich360red_{carbon_source}_{condition}_efmtool_data.mat'\n",
    "        filename_csv=f'ich360red_{carbon_source}_{condition}_efms.csv'\n",
    "        path_csv=os.path.join(out_path,filename_csv)\n",
    "        \n",
    "        \n",
    "        \n",
    "        print('Starting EFMTools computation') \n",
    "        efm_options={\n",
    "                \"kind\": \"stoichiometry\",\n",
    "                \"arithmetic\": \"fractional\",\n",
    "                \"zero\": \"1e-12\",\n",
    "                \"compression\": \"default\",\n",
    "                \"log\": \"console\",\n",
    "                \"level\": \"INFO\",\n",
    "                \"maxthreads\": \"-1\",\n",
    "                \"normalize\": \"min\",\n",
    "                \"adjacency-method\": \"pattern-tree-minzero\",\n",
    "                \"rowordering\": \"MostZerosOrAbsLexMin\",\n",
    "            }\n",
    "        \n",
    "        \n",
    "        efms=efmtool.calculate_efms(stoichiometry=S,\n",
    "                                reversibilities=reversibilities,\n",
    "                                reaction_names=reactions_ids,\n",
    "                                metabolite_names=metabolite_ids,\n",
    "                                options=efm_options)\n",
    "        \n",
    "        efms_df=pd.DataFrame(data=efms,index=reactions_ids,columns=list(range(efms.shape[1])))\n",
    "        #If we have removed any reaction because of condition specific simplifications, let's add them back with 0 flux for consistency\n",
    "        if removed_ids:\n",
    "            zero_efm_rows=pd.DataFrame(index=removed_ids,\n",
    "                                    columns=efms_df.columns,\n",
    "                                    data=np.zeros((len(removed_ids),efms.shape[1]))\n",
    "                                    )\n",
    "            efms_df=pd.concat([efms_df,zero_efm_rows])\n",
    "\n",
    "        #Reindex for consistency\n",
    "        efms_df=efms_df.loc[original_rxn_ixs]\n",
    "\n",
    "        #Filter        \n",
    "        n_original=efms_df.shape[1]\n",
    "        print(f'DONE... Computed {n_original} EFMs')\n",
    "        for r in fluxes_to_enforce:\n",
    "            efms_df=efms_df.loc[:,efms_df.loc[r]!=0.]\n",
    "        n_final=efms_df.shape[1]\n",
    "\n",
    "        #Transpose (It's easier to have differetn EFMs being different rows, so that they can be better read in chunks)\n",
    "        efms_df=efms_df.transpose()\n",
    "        \n",
    "        print(f'Removed {n_original-n_final} EFMs. {n_final} EFMs left after filtering.  Saving to file (this may take a while)')\n",
    "        efms_df.to_csv(path_csv)\n",
    "        print(f'Found {efms_df.shape[0]} EFMs for {carbon_source} under {condition} conditions')\n",
    "        print('...........................................')\n",
    "        print('\\n\\n\\n')\n",
    "        \n",
    "        return {'S':S,'reversibilities':reversibilities,'reaction_ids':reactions_ids,'metabolite_ids':metabolite_ids},efms_df\n",
    "\n"
   ]
  },
  {
   "cell_type": "markdown",
   "metadata": {},
   "source": [
    "# Enumerate EFMs (removing Oxygen-sensitive reactions from aerobic EFM enumeration)"
   ]
  },
  {
   "cell_type": "code",
   "execution_count": 4,
   "metadata": {},
   "outputs": [],
   "source": [
    "carbon_sources=['glc__D','succ','fum','lac__D','ac','pyr' ,'glyc','rib__D','xyl__D','akg']\n",
    "conditions=['aerobic','anaerobic']\n",
    "carbon_source_specific_remove=None\n",
    "condition_specific_remove={'aerobic':['DHORD5','PFL','FRD2']}"
   ]
  },
  {
   "cell_type": "code",
   "execution_count": 5,
   "metadata": {},
   "outputs": [
    {
     "name": "stderr",
     "output_type": "stream",
     "text": [
      "  0%|          | 0/10 [00:00<?, ?it/s]"
     ]
    },
    {
     "name": "stdout",
     "output_type": "stream",
     "text": [
      "Computing EFMs for glc__D aerobic....\n",
      "Removed ['DHORD5', 'PFL', 'FRD2'] due to carbon source or condition specific parameter.\n",
      "Starting EFMTools computation\n",
      "DONE... Computed 1093914 EFMs\n",
      "Removed 58218 EFMs. 1035696 EFMs left after filtering.  Saving to file (this may take a while)\n",
      "Found 1035696 EFMs for glc__D under aerobic conditions\n",
      "...........................................\n",
      "\n",
      "\n",
      "\n",
      "\n",
      "Computing EFMs for glc__D anaerobic....\n",
      "Removed [] due to carbon source or condition specific parameter.\n",
      "Starting EFMTools computation\n",
      "DONE... Computed 204028 EFMs\n",
      "Removed 8358 EFMs. 195670 EFMs left after filtering.  Saving to file (this may take a while)\n"
     ]
    },
    {
     "name": "stderr",
     "output_type": "stream",
     "text": [
      " 10%|█         | 1/10 [10:41<1:36:14, 641.57s/it]"
     ]
    },
    {
     "name": "stdout",
     "output_type": "stream",
     "text": [
      "Found 195670 EFMs for glc__D under anaerobic conditions\n",
      "...........................................\n",
      "\n",
      "\n",
      "\n",
      "\n",
      "Computing EFMs for succ aerobic....\n",
      "Removed ['DHORD5', 'PFL', 'FRD2'] due to carbon source or condition specific parameter.\n",
      "Starting EFMTools computation\n",
      "DONE... Computed 71617 EFMs\n",
      "Removed 6479 EFMs. 65138 EFMs left after filtering.  Saving to file (this may take a while)\n",
      "Found 65138 EFMs for succ under aerobic conditions\n",
      "...........................................\n",
      "\n",
      "\n",
      "\n",
      "\n",
      "Computing EFMs for succ anaerobic....\n",
      "Removed [] due to carbon source or condition specific parameter.\n",
      "Starting EFMTools computation\n"
     ]
    },
    {
     "name": "stderr",
     "output_type": "stream",
     "text": [
      " 20%|██        | 2/10 [11:17<38:04, 285.57s/it]  "
     ]
    },
    {
     "name": "stdout",
     "output_type": "stream",
     "text": [
      "DONE... Computed 0 EFMs\n",
      "Removed 0 EFMs. 0 EFMs left after filtering.  Saving to file (this may take a while)\n",
      "Found 0 EFMs for succ under anaerobic conditions\n",
      "...........................................\n",
      "\n",
      "\n",
      "\n",
      "\n",
      "Computing EFMs for fum aerobic....\n",
      "Removed ['DHORD5', 'PFL', 'FRD2'] due to carbon source or condition specific parameter.\n",
      "Starting EFMTools computation\n",
      "DONE... Computed 304565 EFMs\n",
      "Removed 14705 EFMs. 289860 EFMs left after filtering.  Saving to file (this may take a while)\n",
      "Found 289860 EFMs for fum under aerobic conditions\n",
      "...........................................\n",
      "\n",
      "\n",
      "\n",
      "\n",
      "Computing EFMs for fum anaerobic....\n",
      "Removed [] due to carbon source or condition specific parameter.\n",
      "Starting EFMTools computation\n",
      "DONE... Computed 14143 EFMs\n",
      "Removed 1471 EFMs. 12672 EFMs left after filtering.  Saving to file (this may take a while)\n"
     ]
    },
    {
     "name": "stderr",
     "output_type": "stream",
     "text": [
      " 30%|███       | 3/10 [13:52<26:18, 225.55s/it]"
     ]
    },
    {
     "name": "stdout",
     "output_type": "stream",
     "text": [
      "Found 12672 EFMs for fum under anaerobic conditions\n",
      "...........................................\n",
      "\n",
      "\n",
      "\n",
      "\n",
      "Computing EFMs for lac__D aerobic....\n",
      "Removed ['DHORD5', 'PFL', 'FRD2'] due to carbon source or condition specific parameter.\n",
      "Starting EFMTools computation\n",
      "DONE... Computed 58978 EFMs\n",
      "Removed 2367 EFMs. 56611 EFMs left after filtering.  Saving to file (this may take a while)\n",
      "Found 56611 EFMs for lac__D under aerobic conditions\n",
      "...........................................\n",
      "\n",
      "\n",
      "\n",
      "\n",
      "Computing EFMs for lac__D anaerobic....\n",
      "Removed [] due to carbon source or condition specific parameter.\n",
      "Starting EFMTools computation\n",
      "DONE... Computed 1497 EFMs\n",
      "Removed 73 EFMs. 1424 EFMs left after filtering.  Saving to file (this may take a while)\n"
     ]
    },
    {
     "name": "stderr",
     "output_type": "stream",
     "text": [
      " 40%|████      | 4/10 [14:24<14:56, 149.43s/it]"
     ]
    },
    {
     "name": "stdout",
     "output_type": "stream",
     "text": [
      "Found 1424 EFMs for lac__D under anaerobic conditions\n",
      "...........................................\n",
      "\n",
      "\n",
      "\n",
      "\n",
      "Computing EFMs for ac aerobic....\n",
      "Removed ['DHORD5', 'PFL', 'FRD2'] due to carbon source or condition specific parameter.\n",
      "Starting EFMTools computation\n",
      "DONE... Computed 9367 EFMs\n",
      "Removed 1771 EFMs. 7596 EFMs left after filtering.  Saving to file (this may take a while)\n",
      "Found 7596 EFMs for ac under aerobic conditions\n",
      "...........................................\n",
      "\n",
      "\n",
      "\n",
      "\n",
      "Computing EFMs for ac anaerobic....\n",
      "Removed [] due to carbon source or condition specific parameter.\n",
      "Starting EFMTools computation\n"
     ]
    },
    {
     "name": "stderr",
     "output_type": "stream",
     "text": [
      " 50%|█████     | 5/10 [14:34<08:15, 99.10s/it] "
     ]
    },
    {
     "name": "stdout",
     "output_type": "stream",
     "text": [
      "DONE... Computed 0 EFMs\n",
      "Removed 0 EFMs. 0 EFMs left after filtering.  Saving to file (this may take a while)\n",
      "Found 0 EFMs for ac under anaerobic conditions\n",
      "...........................................\n",
      "\n",
      "\n",
      "\n",
      "\n",
      "Computing EFMs for pyr aerobic....\n",
      "Removed ['DHORD5', 'PFL', 'FRD2'] due to carbon source or condition specific parameter.\n",
      "Starting EFMTools computation\n",
      "DONE... Computed 143347 EFMs\n",
      "Removed 8081 EFMs. 135266 EFMs left after filtering.  Saving to file (this may take a while)\n",
      "Found 135266 EFMs for pyr under aerobic conditions\n",
      "...........................................\n",
      "\n",
      "\n",
      "\n",
      "\n",
      "Computing EFMs for pyr anaerobic....\n",
      "Removed [] due to carbon source or condition specific parameter.\n",
      "Starting EFMTools computation\n",
      "DONE... Computed 6949 EFMs\n",
      "Removed 469 EFMs. 6480 EFMs left after filtering.  Saving to file (this may take a while)\n"
     ]
    },
    {
     "name": "stderr",
     "output_type": "stream",
     "text": [
      " 60%|██████    | 6/10 [15:50<06:04, 91.09s/it]"
     ]
    },
    {
     "name": "stdout",
     "output_type": "stream",
     "text": [
      "Found 6480 EFMs for pyr under anaerobic conditions\n",
      "...........................................\n",
      "\n",
      "\n",
      "\n",
      "\n",
      "Computing EFMs for glyc aerobic....\n",
      "Removed ['DHORD5', 'PFL', 'FRD2'] due to carbon source or condition specific parameter.\n",
      "Starting EFMTools computation\n",
      "DONE... Computed 86270 EFMs\n",
      "Removed 4158 EFMs. 82112 EFMs left after filtering.  Saving to file (this may take a while)\n",
      "Found 82112 EFMs for glyc under aerobic conditions\n",
      "...........................................\n",
      "\n",
      "\n",
      "\n",
      "\n",
      "Computing EFMs for glyc anaerobic....\n",
      "Removed [] due to carbon source or condition specific parameter.\n",
      "Starting EFMTools computation\n"
     ]
    },
    {
     "name": "stderr",
     "output_type": "stream",
     "text": [
      " 70%|███████   | 7/10 [16:46<03:59, 79.70s/it]"
     ]
    },
    {
     "name": "stdout",
     "output_type": "stream",
     "text": [
      "DONE... Computed 35 EFMs\n",
      "Removed 35 EFMs. 0 EFMs left after filtering.  Saving to file (this may take a while)\n",
      "Found 0 EFMs for glyc under anaerobic conditions\n",
      "...........................................\n",
      "\n",
      "\n",
      "\n",
      "\n",
      "Computing EFMs for rib__D aerobic....\n",
      "Removed ['DHORD5', 'PFL', 'FRD2'] due to carbon source or condition specific parameter.\n",
      "Starting EFMTools computation\n",
      "DONE... Computed 126357 EFMs\n",
      "Removed 20053 EFMs. 106304 EFMs left after filtering.  Saving to file (this may take a while)\n",
      "Found 106304 EFMs for rib__D under aerobic conditions\n",
      "...........................................\n",
      "\n",
      "\n",
      "\n",
      "\n",
      "Computing EFMs for rib__D anaerobic....\n",
      "Removed [] due to carbon source or condition specific parameter.\n",
      "Starting EFMTools computation\n",
      "DONE... Computed 20821 EFMs\n",
      "Removed 1513 EFMs. 19308 EFMs left after filtering.  Saving to file (this may take a while)\n"
     ]
    },
    {
     "name": "stderr",
     "output_type": "stream",
     "text": [
      " 80%|████████  | 8/10 [18:29<02:54, 87.11s/it]"
     ]
    },
    {
     "name": "stdout",
     "output_type": "stream",
     "text": [
      "Found 19308 EFMs for rib__D under anaerobic conditions\n",
      "...........................................\n",
      "\n",
      "\n",
      "\n",
      "\n",
      "Computing EFMs for xyl__D aerobic....\n",
      "Removed ['DHORD5', 'PFL', 'FRD2'] due to carbon source or condition specific parameter.\n",
      "Starting EFMTools computation\n",
      "DONE... Computed 365989 EFMs\n",
      "Removed 63077 EFMs. 302912 EFMs left after filtering.  Saving to file (this may take a while)\n",
      "Found 302912 EFMs for xyl__D under aerobic conditions\n",
      "...........................................\n",
      "\n",
      "\n",
      "\n",
      "\n",
      "Computing EFMs for xyl__D anaerobic....\n",
      "Removed [] due to carbon source or condition specific parameter.\n",
      "Starting EFMTools computation\n",
      "DONE... Computed 31355 EFMs\n",
      "Removed 4253 EFMs. 27102 EFMs left after filtering.  Saving to file (this may take a while)\n"
     ]
    },
    {
     "name": "stderr",
     "output_type": "stream",
     "text": [
      " 90%|█████████ | 9/10 [21:26<01:55, 115.11s/it]"
     ]
    },
    {
     "name": "stdout",
     "output_type": "stream",
     "text": [
      "Found 27102 EFMs for xyl__D under anaerobic conditions\n",
      "...........................................\n",
      "\n",
      "\n",
      "\n",
      "\n",
      "Computing EFMs for akg aerobic....\n",
      "Removed ['DHORD5', 'PFL', 'FRD2'] due to carbon source or condition specific parameter.\n",
      "Starting EFMTools computation\n",
      "DONE... Computed 232672 EFMs\n",
      "Removed 31665 EFMs. 201007 EFMs left after filtering.  Saving to file (this may take a while)\n",
      "Found 201007 EFMs for akg under aerobic conditions\n",
      "...........................................\n",
      "\n",
      "\n",
      "\n",
      "\n",
      "Computing EFMs for akg anaerobic....\n",
      "Removed [] due to carbon source or condition specific parameter.\n",
      "Starting EFMTools computation\n"
     ]
    },
    {
     "name": "stderr",
     "output_type": "stream",
     "text": [
      "100%|██████████| 10/10 [23:01<00:00, 138.19s/it]"
     ]
    },
    {
     "name": "stdout",
     "output_type": "stream",
     "text": [
      "DONE... Computed 19 EFMs\n",
      "Removed 19 EFMs. 0 EFMs left after filtering.  Saving to file (this may take a while)\n",
      "Found 0 EFMs for akg under anaerobic conditions\n",
      "...........................................\n",
      "\n",
      "\n",
      "\n",
      "\n"
     ]
    },
    {
     "name": "stderr",
     "output_type": "stream",
     "text": [
      "\n"
     ]
    }
   ],
   "source": [
    "out={}\n",
    "for substrate in tqdm.tqdm(carbon_sources):\n",
    "    out[substrate]={}\n",
    "    for condition in conditions:\n",
    "        if condition=='aerobic':\n",
    "            fluxes_to_enforce=['Biomass','EX_o2_e']\n",
    "        elif condition=='anaerobic':\n",
    "            fluxes_to_enforce=['Biomass']\n",
    "        data,efms=\\\n",
    "        enumerate_efms(model,\n",
    "                       substrate,\n",
    "                       condition,\n",
    "                       fluxes_to_enforce=fluxes_to_enforce,\n",
    "                       carbon_source_specific_remove=carbon_source_specific_remove,\n",
    "                       condition_specific_remove=condition_specific_remove,\n",
    "                       )\n",
    "        del efms"
   ]
  }
 ],
 "metadata": {
  "kernelspec": {
   "display_name": "kinetic_data",
   "language": "python",
   "name": "python3"
  },
  "language_info": {
   "codemirror_mode": {
    "name": "ipython",
    "version": 3
   },
   "file_extension": ".py",
   "mimetype": "text/x-python",
   "name": "python",
   "nbconvert_exporter": "python",
   "pygments_lexer": "ipython3",
   "version": "3.10.9"
  },
  "orig_nbformat": 4
 },
 "nbformat": 4,
 "nbformat_minor": 2
}
