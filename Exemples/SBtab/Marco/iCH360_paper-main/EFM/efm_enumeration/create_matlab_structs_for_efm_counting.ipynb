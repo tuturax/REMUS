{
 "cells": [
  {
   "cell_type": "code",
   "execution_count": 1,
   "metadata": {},
   "outputs": [],
   "source": [
    "import cobra\n",
    "from scipy.io import savemat \n",
    "import os\n",
    "import tqdm"
   ]
  },
  {
   "cell_type": "markdown",
   "metadata": {},
   "source": [
    "# Load SBML Model"
   ]
  },
  {
   "cell_type": "code",
   "execution_count": 2,
   "metadata": {},
   "outputs": [
    {
     "name": "stdout",
     "output_type": "stream",
     "text": [
      "Set parameter Username\n",
      "Academic license - for non-commercial use only - expires 2025-03-12\n"
     ]
    }
   ],
   "source": [
    "model=cobra.io.read_sbml_model('../../Model/iCH360red/iCH360red.xml')"
   ]
  },
  {
   "cell_type": "markdown",
   "metadata": {},
   "source": [
    "# Export condition-specific data structures to use with EFMTool in Matlab"
   ]
  },
  {
   "cell_type": "code",
   "execution_count": 3,
   "metadata": {},
   "outputs": [],
   "source": [
    "def export_matlab_structure(model,\n",
    "                            carbon_source,\n",
    "                            condition,\n",
    "                            carbon_source_specific_remove=None,\n",
    "                            condition_specific_remove=None,\n",
    "                            out_path='./matlab_models/'):\n",
    "\n",
    "        with model as m:\n",
    "            m.reactions.EX_glc__D_e.bounds=(0,1000)\n",
    "            m.reactions.get_by_id(f'EX_{carbon_source}_e').lower_bound=-10\n",
    "            if condition=='aerobic':\n",
    "                m.reactions.get_by_id('EX_o2_e').lower_bound=-1000\n",
    "            elif condition=='anaerobic':\n",
    "                m.reactions.get_by_id('EX_o2_e').lower_bound=0\n",
    "\n",
    "            else:\n",
    "                raise ValueError\n",
    "            print(f'Exporting EFMTools Matlab structure for {carbon_source} {condition}....')\n",
    "            removed_ids=[]\n",
    "            #Remove carbon source specific reactions\n",
    "            if carbon_source_specific_remove is not None:\n",
    "                for cs in carbon_source_specific_remove.keys():\n",
    "                    if carbon_source==cs:\n",
    "                        removed_rxns=[m.reactions.get_by_id(r) for r in carbon_source_specific_remove[cs] if r in model.reactions]\n",
    "                        removed_ids+=[r.id for r in removed_rxns]\n",
    "                        m.remove_reactions(removed_rxns)\n",
    "            #Remove condition-specific reactions\n",
    "            if condition_specific_remove is not None:\n",
    "                for cond in condition_specific_remove.keys():\n",
    "                    if condition==cond:\n",
    "                        removed_rxns=[m.reactions.get_by_id(r) for r in condition_specific_remove[cond] if r in model.reactions]\n",
    "                        removed_ids+=[r.id for r in removed_rxns]\n",
    "                        m.remove_reactions(removed_rxns)\n",
    "            print(f'Removed {removed_ids} due to carbon source or condition specific parameter.')\n",
    "            reversibilities=[int(r.reversibility) for r in m.reactions]\n",
    "            reactions_ids=[r.id for r in m.reactions]\n",
    "            metabolite_ids=[m.id for m in m.metabolites]\n",
    "            S=cobra.util.array.create_stoichiometric_matrix(m,array_type='DataFrame')\n",
    "            S=S.values\n",
    "\n",
    "\n",
    "            filename_mat=f'ich360red_{carbon_source}_{condition}_efmtool_data.mat'\n",
    "            path_mat=os.path.join(out_path,filename_mat)\n",
    "            \n",
    "            savemat(path_mat,{'S':S,'reversibilities':reversibilities,'reaction_ids':reactions_ids,'metabolite_ids':metabolite_ids})\n",
    "        \n",
    "\n"
   ]
  },
  {
   "cell_type": "code",
   "execution_count": 4,
   "metadata": {},
   "outputs": [
    {
     "name": "stderr",
     "output_type": "stream",
     "text": [
      "  0%|          | 0/9 [00:00<?, ?it/s]"
     ]
    },
    {
     "name": "stderr",
     "output_type": "stream",
     "text": [
      "100%|██████████| 9/9 [00:00<00:00, 100.95it/s]"
     ]
    },
    {
     "name": "stdout",
     "output_type": "stream",
     "text": [
      "Exporting EFMTools Matlab structure for glc__D aerobic....\n",
      "Removed [] due to carbon source or condition specific parameter.\n",
      "Exporting EFMTools Matlab structure for glc__D anaerobic....\n",
      "Removed [] due to carbon source or condition specific parameter.\n",
      "Exporting EFMTools Matlab structure for lac__D aerobic....\n",
      "Removed [] due to carbon source or condition specific parameter.\n",
      "Exporting EFMTools Matlab structure for lac__D anaerobic....\n",
      "Removed [] due to carbon source or condition specific parameter.\n",
      "Exporting EFMTools Matlab structure for ac aerobic....\n",
      "Removed [] due to carbon source or condition specific parameter.\n",
      "Exporting EFMTools Matlab structure for ac anaerobic....\n",
      "Removed [] due to carbon source or condition specific parameter.\n",
      "Exporting EFMTools Matlab structure for pyr aerobic....\n",
      "Removed [] due to carbon source or condition specific parameter.\n",
      "Exporting EFMTools Matlab structure for pyr anaerobic....\n",
      "Removed [] due to carbon source or condition specific parameter.\n",
      "Exporting EFMTools Matlab structure for glyc aerobic....\n",
      "Removed [] due to carbon source or condition specific parameter.\n",
      "Exporting EFMTools Matlab structure for glyc anaerobic....\n",
      "Removed [] due to carbon source or condition specific parameter.\n",
      "Exporting EFMTools Matlab structure for rib__D aerobic....\n",
      "Removed [] due to carbon source or condition specific parameter.\n",
      "Exporting EFMTools Matlab structure for rib__D anaerobic....\n",
      "Removed [] due to carbon source or condition specific parameter.\n",
      "Exporting EFMTools Matlab structure for xyl__D aerobic....\n",
      "Removed [] due to carbon source or condition specific parameter.\n",
      "Exporting EFMTools Matlab structure for xyl__D anaerobic....\n",
      "Removed [] due to carbon source or condition specific parameter.\n",
      "Exporting EFMTools Matlab structure for succ aerobic....\n",
      "Removed [] due to carbon source or condition specific parameter.\n",
      "Exporting EFMTools Matlab structure for succ anaerobic....\n",
      "Removed [] due to carbon source or condition specific parameter.\n",
      "Exporting EFMTools Matlab structure for akg aerobic....\n",
      "Removed [] due to carbon source or condition specific parameter.\n",
      "Exporting EFMTools Matlab structure for akg anaerobic....\n",
      "Removed [] due to carbon source or condition specific parameter.\n"
     ]
    },
    {
     "name": "stderr",
     "output_type": "stream",
     "text": [
      "\n"
     ]
    }
   ],
   "source": [
    "carbon_sources=['glc__D','lac__D','ac','pyr' ,'glyc','rib__D','xyl__D','succ','akg']\n",
    "conditions=['aerobic','anaerobic']\n",
    "carbon_source_specific_remove=None\n",
    "condition_specific_remove={}\n",
    "\n",
    "out={}\n",
    "for substrate in tqdm.tqdm(carbon_sources):\n",
    "    out[substrate]={}\n",
    "    for condition in conditions:\n",
    "        export_matlab_structure(model,\n",
    "                       substrate,\n",
    "                       condition,\n",
    "                       carbon_source_specific_remove=carbon_source_specific_remove,\n",
    "                       condition_specific_remove=condition_specific_remove,\n",
    "                       )"
   ]
  }
 ],
 "metadata": {
  "kernelspec": {
   "display_name": "kinetic_data",
   "language": "python",
   "name": "python3"
  },
  "language_info": {
   "codemirror_mode": {
    "name": "ipython",
    "version": 3
   },
   "file_extension": ".py",
   "mimetype": "text/x-python",
   "name": "python",
   "nbconvert_exporter": "python",
   "pygments_lexer": "ipython3",
   "version": "3.10.9"
  }
 },
 "nbformat": 4,
 "nbformat_minor": 2
}
