{
 "cells": [
  {
   "cell_type": "code",
   "execution_count": 6,
   "metadata": {},
   "outputs": [],
   "source": [
    "import cobra\n",
    "import pandas as pd"
   ]
  },
  {
   "cell_type": "markdown",
   "metadata": {},
   "source": [
    "### Read main model"
   ]
  },
  {
   "cell_type": "code",
   "execution_count": 7,
   "metadata": {},
   "outputs": [
    {
     "name": "stderr",
     "output_type": "stream",
     "text": [
      "'' is not a valid SBML 'SId'.\n"
     ]
    }
   ],
   "source": [
    "model=cobra.io.read_sbml_model('../../Model/iCH360/Escherichia_coli_iCH360.xml')"
   ]
  },
  {
   "cell_type": "code",
   "execution_count": 8,
   "metadata": {},
   "outputs": [
    {
     "name": "stdout",
     "output_type": "stream",
     "text": [
      "Read LP format model from file C:\\Users\\marco\\AppData\\Local\\Temp\\tmpln35rjh1.lp\n",
      "Reading time = 0.02 seconds\n",
      ": 304 rows, 698 columns, 2988 nonzeros\n"
     ]
    },
    {
     "data": {
      "text/html": [
       "<div>\n",
       "<style scoped>\n",
       "    .dataframe tbody tr th:only-of-type {\n",
       "        vertical-align: middle;\n",
       "    }\n",
       "\n",
       "    .dataframe tbody tr th {\n",
       "        vertical-align: top;\n",
       "    }\n",
       "\n",
       "    .dataframe thead th {\n",
       "        text-align: right;\n",
       "    }\n",
       "</style>\n",
       "<table border=\"1\" class=\"dataframe\">\n",
       "  <thead>\n",
       "    <tr style=\"text-align: right;\">\n",
       "      <th></th>\n",
       "      <th>reaction_1</th>\n",
       "      <th>reaction_2</th>\n",
       "      <th>to_prune</th>\n",
       "      <th>notes</th>\n",
       "      <th>sources</th>\n",
       "    </tr>\n",
       "  </thead>\n",
       "  <tbody>\n",
       "    <tr>\n",
       "      <th>0</th>\n",
       "      <td>EAR80x</td>\n",
       "      <td>EAR80y</td>\n",
       "      <td>EAR80y</td>\n",
       "      <td>The enzyme (fabI) can work with both NADH/NADP...</td>\n",
       "      <td>Ecocyc, PMID:9022698</td>\n",
       "    </tr>\n",
       "    <tr>\n",
       "      <th>1</th>\n",
       "      <td>EAR120x</td>\n",
       "      <td>EAR120y</td>\n",
       "      <td>EAR120y</td>\n",
       "      <td>The enzyme (fabI) can work with both NADH/NADP...</td>\n",
       "      <td>Ecocyc, PMID:9022698</td>\n",
       "    </tr>\n",
       "    <tr>\n",
       "      <th>2</th>\n",
       "      <td>EAR140x</td>\n",
       "      <td>EAR140y</td>\n",
       "      <td>EAR140y</td>\n",
       "      <td>The enzyme (fabI) can work with both NADH/NADP...</td>\n",
       "      <td>Ecocyc, PMID:9022698</td>\n",
       "    </tr>\n",
       "    <tr>\n",
       "      <th>3</th>\n",
       "      <td>EAR160x</td>\n",
       "      <td>EAR160y</td>\n",
       "      <td>EAR160y</td>\n",
       "      <td>The enzyme (fabI) can work with both NADH/NADP...</td>\n",
       "      <td>Ecocyc, PMID:9022698</td>\n",
       "    </tr>\n",
       "    <tr>\n",
       "      <th>4</th>\n",
       "      <td>EAR180x</td>\n",
       "      <td>EAR180y</td>\n",
       "      <td>EAR180y</td>\n",
       "      <td>The enzyme (fabI) can work with both NADH/NADP...</td>\n",
       "      <td>Ecocyc, PMID:9022698</td>\n",
       "    </tr>\n",
       "  </tbody>\n",
       "</table>\n",
       "</div>"
      ],
      "text/plain": [
       "  reaction_1 reaction_2 to_prune  \\\n",
       "0     EAR80x     EAR80y   EAR80y   \n",
       "1    EAR120x    EAR120y  EAR120y   \n",
       "2    EAR140x    EAR140y  EAR140y   \n",
       "3    EAR160x    EAR160y  EAR160y   \n",
       "4    EAR180x    EAR180y  EAR180y   \n",
       "\n",
       "                                               notes               sources  \n",
       "0  The enzyme (fabI) can work with both NADH/NADP...  Ecocyc, PMID:9022698  \n",
       "1  The enzyme (fabI) can work with both NADH/NADP...  Ecocyc, PMID:9022698  \n",
       "2  The enzyme (fabI) can work with both NADH/NADP...  Ecocyc, PMID:9022698  \n",
       "3  The enzyme (fabI) can work with both NADH/NADP...  Ecocyc, PMID:9022698  \n",
       "4  The enzyme (fabI) can work with both NADH/NADP...  Ecocyc, PMID:9022698  "
      ]
     },
     "execution_count": 8,
     "metadata": {},
     "output_type": "execute_result"
    }
   ],
   "source": [
    "model_pruned=model.copy()\n",
    "manual_curation=pd.read_csv('./pruning_manual_curation.tsv',sep='\\t')\n",
    "manual_curation.head()"
   ]
  },
  {
   "cell_type": "code",
   "execution_count": 9,
   "metadata": {},
   "outputs": [
    {
     "name": "stdout",
     "output_type": "stream",
     "text": [
      "The following reactions will be pruned: ['EAR80y', 'EAR120y', 'EAR140y', 'EAR160y', 'EAR180y', 'EAR100y', 'EAR60y', 'EAR121y', 'EAR141y', 'EAR161y', 'EAR181y', 'RNDR1b', 'RNDR2b', 'GRXR', 'RNTR1c2', 'RNTR2c2', 'FLDR2', 'ACOATA', 'KAS14', 'VPAMTr', 'SO4t2pp', 'FA80ACPHi', 'FA100ACPHi', 'FA120ACPHi', 'FA140ACPHi', 'FA160ACPHi', 'ACPPAT180', 'APH180', 'AACPS9', 'AACPS8', 'AACPS7', 'AACPS1', 'AACPS3', 'AACPS6']\n"
     ]
    }
   ],
   "source": [
    "rnxs_to_prune=[]\n",
    "for i,row in manual_curation.iterrows():\n",
    "    rnxs_to_prune+=row['to_prune'].split(',')\n",
    "print(f'The following reactions will be pruned: {rnxs_to_prune}')"
   ]
  },
  {
   "cell_type": "code",
   "execution_count": 10,
   "metadata": {},
   "outputs": [],
   "source": [
    "model_pruned.remove_reactions([model_pruned.reactions.get_by_id(r) for r in rnxs_to_prune if r in model.reactions])\n",
    "model_pruned.id='iCH360red'\n",
    "cobra.io.write_sbml_model(model_pruned,'../../Model/iCH360red/iCH360red.xml')\n",
    "cobra.io.save_json_model(model_pruned,'../../Model/iCH360red/iCH360red.json')"
   ]
  }
 ],
 "metadata": {
  "kernelspec": {
   "display_name": "kinetic_data",
   "language": "python",
   "name": "python3"
  },
  "language_info": {
   "codemirror_mode": {
    "name": "ipython",
    "version": 3
   },
   "file_extension": ".py",
   "mimetype": "text/x-python",
   "name": "python",
   "nbconvert_exporter": "python",
   "pygments_lexer": "ipython3",
   "version": "3.10.9"
  },
  "orig_nbformat": 4
 },
 "nbformat": 4,
 "nbformat_minor": 2
}
