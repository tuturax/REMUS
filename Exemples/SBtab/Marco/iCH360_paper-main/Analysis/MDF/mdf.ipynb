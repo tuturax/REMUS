{
 "cells": [
  {
   "cell_type": "markdown",
   "metadata": {},
   "source": [
    "# Running Probabilistic MDF on *i*CH360"
   ]
  },
  {
   "cell_type": "code",
   "execution_count": 28,
   "metadata": {},
   "outputs": [],
   "source": [
    "import cobra\n",
    "from cobra.flux_analysis import pfba\n",
    "import gurobipy as gp\n",
    "import pandas as pd\n",
    "import numpy as np\n",
    "import scipy.stats\n",
    "import matplotlib.pyplot as plt\n",
    "import sys\n",
    "sys.path.append('../../utils/')\n",
    "import visualisation_utils\n",
    "import pickle"
   ]
  },
  {
   "cell_type": "markdown",
   "metadata": {},
   "source": [
    "## Load COBRA model"
   ]
  },
  {
   "cell_type": "code",
   "execution_count": 29,
   "metadata": {},
   "outputs": [
    {
     "name": "stderr",
     "output_type": "stream",
     "text": [
      "'' is not a valid SBML 'SId'.\n"
     ]
    }
   ],
   "source": [
    "model=cobra.io.read_sbml_model('../../Model/iCH360/Escherichia_coli_iCH360.xml')\n",
    "model.reactions.get_by_id('EX_glc__D_e').lower_bound=0"
   ]
  },
  {
   "cell_type": "markdown",
   "metadata": {},
   "source": [
    "## Load Thermodynamics estimates"
   ]
  },
  {
   "cell_type": "code",
   "execution_count": 30,
   "metadata": {},
   "outputs": [],
   "source": [
    "# DrG0 prime mean, adjusted for multi-compartment reactions \n",
    "drg0_prime_mean=pd.read_csv('../../Thermodynamics/free_energy_estimates/drg0_estimates/drg0_prime_mean_mcc.csv',index_col=0).squeeze()\n",
    "\n",
    "# DrG0 prime covariance matrix (full columns rank Square root)\n",
    "drg0_prime_cov_sqrt=pd.read_csv('../../Thermodynamics/free_energy_estimates/drg0_estimates/drg0_cov_sqrt.csv',index_col=0)\n",
    "\n",
    "# DrG0 prime covariance matrix\n",
    "drg0_prime_cov=pd.read_csv('../../Thermodynamics/free_energy_estimates/drg0_estimates/drg0_cov_df.csv',index_col=0)\n"
   ]
  },
  {
   "cell_type": "markdown",
   "metadata": {},
   "source": [
    "The covariance square root $Q$ is a $n$ x $q$ matrix, where $n$ is the number of reactions in the covariance matrix $C$ and $q \\leq n$ is the rank of $C$, such that:\n",
    "$$\n",
    "C=QQ^T\n",
    "$$\n",
    "Let's verify this as a sanity check"
   ]
  },
  {
   "cell_type": "code",
   "execution_count": 31,
   "metadata": {},
   "outputs": [
    {
     "data": {
      "text/plain": [
       "2.874375362615922e-05"
      ]
     },
     "execution_count": 31,
     "metadata": {},
     "output_type": "execute_result"
    }
   ],
   "source": [
    "(drg0_prime_cov_sqrt@drg0_prime_cov_sqrt.T-drg0_prime_cov).abs().max().max()"
   ]
  },
  {
   "cell_type": "markdown",
   "metadata": {},
   "source": [
    "# Formulate the MDF problem\n",
    "Here we formulate the following LP, corresponding to the probabilistic MDF problem, in gurobi. See our paper for more details on this formulation!\n",
    "\n",
    "$$\n",
    "\\max_{\\mathbf{m},b} \\hspace{0.1cm} b\\\\\n",
    "    \\hspace{0.5cm}    \\Delta_rG'^o=\\bar{{\\Delta_rG'^o}}+Q \\mathbf{m} \\hspace{1.5cm} (1)\\\\\n",
    "    \\hspace{0.5cm}    ||\\mathbf{m}||_2^2=\\mathbf{m}^T\\mathbf{m}\\ \\leq \\chi^2_{q;\\alpha} \\hspace{1.5cm} (2)\\\\ \n",
    "    \\hspace{0.5cm}    \\Delta_rG'=\\Delta_rG'^o+RT S^T \\mathbf{c}\\hspace{1.2cm} (3)\\\\\n",
    "    \\hspace{0.5cm}    \\mathbf{L_c}\\leq\\mathbf{c}\\leq\\mathbf{U_c}\\hspace{2.9cm} (4)\\\\\n",
    "    \\hspace{0.5cm}    -\\text{sign}(v_i) \\Delta_rG'_i >b, \\hspace{0.5cm} \\text{if  } v_i \\neq 0\\hspace{0.3cm} (5)\\\\\n",
    "$$\n",
    "\n",
    "where:\n",
    "- $Q$ is the square root of the covariance matrix, with size $n$ x $q$\n",
    "- $\\mathbf{m}$ is $q$ dimensional vector, and is used to account for uncertainty in the estimates\n",
    "- $\\bar{{\\Delta_rG'^o}}$ is the mean estimate of the free reaction energies\n",
    "- $\\chi^2_{q;\\alpha}$ is the PPF (percent point function) of a $\\chi^2$ distribution with $q$ degrees of freedom, evaluated at $\\alpha$\n",
    "- $\\alpha$ is the desired confidence level (e.g. $0.95$)\n",
    "- $\\mathbf{c}$ is a vector of log-metabolite concentrations, with upper and lower bounds $\\mathbf{L_c}$ and $\\mathbf{U_c}$, respectively\n",
    "- $S$ is the stoichiometric matrix\n",
    "- $v_i$ are the components of the reference flux vector $\\mathbf{v}$, for which we want to compute the MDF"
   ]
  },
  {
   "cell_type": "code",
   "execution_count": 32,
   "metadata": {},
   "outputs": [],
   "source": [
    "# Define a function to construct the MDF problem\n",
    "def construct_mdf_problem(drg0_prime_mean:pd.Series,\n",
    "                          drg0_prime_cov_sqrt:pd.DataFrame,\n",
    "                          v:pd.Series,\n",
    "                          S:pd.DataFrame,\n",
    "                          concentration_custom_bounds=dict(),\n",
    "                          default_concentration_lb=0.001,\n",
    "                          default_concentration_ub=10,\n",
    "                          alpha:float=0.95,\n",
    "                          nonzero_flux_thresh=1e-8,\n",
    "                          T=310.15):\n",
    "\n",
    "    \"\"\"\n",
    "    Formulate the MDF problem described above in Gurobi\n",
    "    Args:\n",
    "    drg0_prime_mean: pd.Series, the mean estimates for the standard free energies of reaction\n",
    "    drg0_prime_cov_sqrt: pd.DataFrame, the square root of the covariance matrix of the standard trfree energies of reaction\n",
    "    v: pd.Series, the reference flux vector for which the MDF is to be calculated\n",
    "    S: pd.DataFrame, the stoichiometric matrix\n",
    "    concentration_custom_bounds: dict, a dictionary of custom concentration bounds (in mM) for specific metabolites, in the form of {met_id:(lb,ub)}\n",
    "    default_concentration_lb: float, the lower bound for the concentration of metabolites (in mM), for metabolites not included in concentration_custom_bounds\n",
    "    default_concentration_ub: float, the upper bound for the concentration of metabolites (in mM), for metabolites not included in concentration_custom_bounds\n",
    "    alpha: float, the confidence level for the probabilistic adjustment of the mean DrG0 estimates \n",
    "    nonzero_flux_thresh: float, a flux is considered non-zero if its absolute value is greater than this threshold\n",
    "    T: float, the temperature in Kelvin used for the calculation of the free energies of reaction\n",
    "    \"\"\"\n",
    "    #Sanity checks\n",
    "    assert drg0_prime_mean.index.equals(drg0_prime_cov_sqrt.index)\n",
    "    #Define reactions which should be subject to thermodynamic constraints, and create the corresponding stoichiometric matrix and flux vector\n",
    "    thermo_reactions=drg0_prime_mean.index.tolist()\n",
    "    S_thermo=S.loc[:,thermo_reactions]\n",
    "    v_thermo=v.loc[thermo_reactions]\n",
    "\n",
    "    #parse relevant quantities\n",
    "    n=S_thermo.shape[1] #number of thermodynamically constrained reactions\n",
    "    n_mets=S_thermo.shape[0] #number of metabolites\n",
    "    q=drg0_prime_cov_sqrt.shape[1] #rank of the covariance matrix\n",
    "    R=8.31446261815324e-3 #gas constant in kJ/(K*mol)\n",
    "    #====================================================\n",
    "    #===================================================\n",
    "    #Create a Gurobi model\n",
    "    mdf_problem=gp.Model()\n",
    "    # Define the probabilistic detachment from the mean, vector m, and constrain its squared norm\n",
    "    m=mdf_problem.addMVar((q,1))\n",
    "    chi2_bound=scipy.stats.chi2(q).ppf(alpha) #bound for the squared norm of m\n",
    "    m_constraint=mdf_problem.addConstr(m.T@m<=chi2_bound) #Constraint (2)\n",
    "    # Define the probabilistically adjusted DrG'0\n",
    "    DrG0_prime=mdf_problem.addMVar((n,1),name='DrG0_prime',lb=-np.inf,ub=np.inf)\n",
    "    mdf_problem.addConstr(DrG0_prime==drg0_prime_mean.values.reshape(-1,1)+drg0_prime_cov_sqrt.values@m) #Constraint (1)\n",
    "    # Define the concentration vector, and constrain the bound of each metabolite (Eq. 4)\n",
    "    ln_c=mdf_problem.addMVar((n_mets,1),lb=-np.inf,ub=np.inf,name='ln_c')\n",
    "    for i in range(n_mets):\n",
    "        cur_met_id=S_thermo.index[i]\n",
    "        if cur_met_id in concentration_custom_bounds.keys():\n",
    "            lb=np.log(concentration_custom_bounds[cur_met_id][0])\n",
    "            ub=np.log(concentration_custom_bounds[cur_met_id][1])\n",
    "        else:\n",
    "            lb=np.log(default_concentration_lb)\n",
    "            ub=np.log(default_concentration_ub)\n",
    "            \n",
    "        mdf_problem.addConstr(ln_c[i,0]>=lb,name=f'lb_{cur_met_id}')\n",
    "        mdf_problem.addConstr(ln_c[i,0]<=ub,name=f'ub_{cur_met_id}')\n",
    "    # Define free energy of reactions (Eq 3)\n",
    "    DrG_prime=mdf_problem.addMVar((n,1),name='DrG_prime',lb=-np.inf,ub=np.inf)\n",
    "    mdf_problem.addConstr(DrG_prime==DrG0_prime+R*T*S_thermo.values.T@ln_c)\n",
    "    #Constraint the driving force of each reaction to be at least b, if the reaction carries non-zero flux\n",
    "    b=mdf_problem.addVar(lb=-np.inf,name='b')\n",
    "    #Note that we set the lower bound of b to be -inf, so that b<=0 implies a thermodynamically infeasible flux distribution\n",
    "    for i in range(n):\n",
    "        cur_reaction_id=thermo_reactions[i]\n",
    "        cur_v=v_thermo[i]\n",
    "\n",
    "        #Constraint (5):\n",
    "        if np.abs(cur_v)>nonzero_flux_thresh:\n",
    "            assert np.sign(cur_v)!=0\n",
    "            mdf_problem.addConstr(-np.sign(cur_v)*DrG_prime[i,0]>=b,name=f'drg_{cur_reaction_id}')\n",
    "    # Define the objective function\n",
    "    mdf_problem.setObjective(b,sense=gp.GRB.MAXIMIZE)\n",
    "    mdf_problem.setParam('QCPDual',1) #This is required to get the shadow prices since the problem is a QCP\n",
    "    mdf_problem.setParam('BarQCPConvTol',1e-9)\n",
    "    \n",
    "    return mdf_problem,{'S_thermo':S_thermo,'v_thermo':v_thermo}\n",
    "\n",
    "\n",
    "\n",
    "\n",
    "\n",
    "# The next function is simply solving the model\n",
    "def solve_and_postprocess(mdf_problem:gp.Model,\n",
    "                          drg0_prime_mean:pd.Series,\n",
    "                          drg0_prime_cov_sqrt:pd.DataFrame,\n",
    "                          S_thermo:pd.DataFrame,\n",
    "                          v:pd.Series,\n",
    "                          nonzero_flux_thresh=1e-8):\n",
    "    \"\"\"\n",
    "    Solve the MDF problem and postprocess the results\n",
    "    Args:\n",
    "    mdf_problem: gp.Model, the MDF problem\n",
    "    S_thermo: pd.DataFrame, the stoichiometric matrix used in the MDF problem (i.e. only including thermodynamically constarined reactions)\n",
    "    v: pd.Series, the reference flux vector for which the MDF was calculated\n",
    "    \"\"\"\n",
    "    #Solve the problem\n",
    "    mdf_problem.optimize()\n",
    "\n",
    "    #Postprocess the results\n",
    "    n_rxns=S_thermo.shape[1]\n",
    "    n_mets=S_thermo.shape[0]\n",
    "    #Extract shadow prices. This sometimes fail due to the crazy coefficients in the QCP problem, in this case we just assign them to NaN\n",
    "    drg_shadow_prices=[]\n",
    "    for i in range(n_rxns):\n",
    "        try:\n",
    "            drg_shadow_prices.append(mdf_problem.getConstrByName(f'drg_{S_thermo.columns[i]}').Pi)\n",
    "        except:\n",
    "            drg_shadow_prices.append(np.nan)\n",
    "\n",
    "    lb_shadow_prices=[]\n",
    "    ub_shadow_prices=[]\n",
    "    for i in range(n_mets):\n",
    "        try:\n",
    "            lb_shadow_prices.append(mdf_problem.getConstrByName(f'lb_{S_thermo.index[i]}').Pi)\n",
    "            ub_shadow_prices.append(mdf_problem.getConstrByName(f'ub_{S_thermo.index[i]}').Pi)\n",
    "        except:\n",
    "            lb_shadow_prices.append(np.nan)\n",
    "            ub_shadow_prices.append(np.nan)\n",
    "\n",
    "    # 1. Optimised concentrations\n",
    "    mdf_concentrations=pd.DataFrame(index=S_thermo.index,\n",
    "                       data={'optimised_conc_mM':np.exp([mdf_problem.getVarByName(f'ln_c[{i},0]').X for i in range(n_mets)]),\n",
    "                             'shadow_price_lb':lb_shadow_prices,\n",
    "                            'shadow_price_ub':ub_shadow_prices\n",
    "                            }\n",
    "                       )\n",
    "    #2. Optimised driving forces\n",
    "    drg0_prime_cov=drg0_prime_cov_sqrt@drg0_prime_cov_sqrt.T\n",
    "    v_thermo=v.loc[S_thermo.columns]\n",
    "    v_thermo[v_thermo.abs()<nonzero_flux_thresh]=0\n",
    "    \n",
    "\n",
    "    \n",
    "        \n",
    "\n",
    "    mdf_driving_forces=pd.DataFrame(index=S_thermo.columns,\n",
    "                                data={'drg0_prime_mean_kJ_mol':drg0_prime_mean.values,\n",
    "                                      'drg0_prime_std':np.sqrt(np.diag(drg0_prime_cov)),\n",
    "                                      'adjusted_drg0_prime':[mdf_problem.getVarByName(f'DrG0_prime[{i},0]').X for i in range(n_rxns)],\n",
    "                                      'driving_force_kJ_mol':[mdf_problem.getVarByName(f'DrG_prime[{i},0]').X * np.sign(v_thermo[i]) for i in range(n_rxns)],\n",
    "                                      'driving_force_shadow_price':drg_shadow_prices,\n",
    "                                      'flux':v_thermo.values\n",
    "                                     }\n",
    "                                )\n",
    "    \n",
    "    mdf=mdf_problem.getObjective().getValue()\n",
    "    return mdf,mdf_concentrations,mdf_driving_forces\n",
    "    \n",
    "\n"
   ]
  },
  {
   "cell_type": "markdown",
   "metadata": {},
   "source": [
    "## Test: Aerobic growth on glucose"
   ]
  },
  {
   "cell_type": "code",
   "execution_count": 33,
   "metadata": {},
   "outputs": [
    {
     "name": "stdout",
     "output_type": "stream",
     "text": [
      "Warning for adding constraints: zero or small (< 1e-13) coefficients, ignored\n"
     ]
    },
    {
     "name": "stdout",
     "output_type": "stream",
     "text": [
      "Set parameter QCPDual to value 1\n",
      "Set parameter BarQCPConvTol to value 1e-09\n",
      "Gurobi Optimizer version 11.0.1 build v11.0.1rc0 (win64 - Windows 11.0 (22631.2))\n",
      "\n",
      "CPU model: 12th Gen Intel(R) Core(TM) i7-12700H, instruction set [SSE2|AVX|AVX2]\n",
      "Thread count: 14 physical cores, 20 logical processors, using up to 20 threads\n",
      "\n",
      "Optimize a model with 1454 rows, 1105 columns and 32154 nonzeros\n",
      "Model fingerprint: 0x6d7d186c\n",
      "Model has 1 quadratic constraint\n",
      "Coefficient statistics:\n",
      "  Matrix range     [1e-13, 1e+05]\n",
      "  QMatrix range    [1e+00, 1e+00]\n",
      "  Objective range  [1e+00, 1e+00]\n",
      "  Bounds range     [0e+00, 0e+00]\n",
      "  RHS range        [2e-07, 3e+02]\n",
      "  QRHS range       [2e+02, 2e+02]\n",
      "Warning: Model contains large matrix coefficient range\n",
      "         Consider reformulating model or setting NumericFocus parameter\n",
      "         to avoid numerical issues.\n",
      "Presolve removed 1025 rows and 494 columns\n",
      "Presolve time: 0.02s\n",
      "Presolved: 605 rows, 612 columns, 23168 nonzeros\n",
      "Presolved model has 1 second-order cone constraint\n",
      "Ordering time: 0.00s\n",
      "\n",
      "Barrier statistics:\n",
      " Free vars  : 208\n",
      " AA' NZ     : 9.861e+04\n",
      " Factor NZ  : 1.347e+05 (roughly 2 MB of memory)\n",
      " Factor Ops : 3.598e+07 (less than 1 second per iteration)\n",
      " Threads    : 14\n",
      "\n",
      "                  Objective                Residual\n",
      "Iter       Primal          Dual         Primal    Dual     Compl     Time\n",
      "   0   2.69055650e-01  1.35103451e+02  1.73e+02 1.00e-01  1.39e+01     0s\n",
      "   1  -9.71271727e+01  1.44018408e+02  1.48e+02 2.25e-02  9.69e+00     0s\n",
      "   2  -1.51812988e+02  1.42943550e+02  1.61e+01 3.18e-04  8.90e-01     0s\n",
      "   3  -1.69685509e+01  9.11469957e+01  2.20e+00 1.90e-05  1.76e-01     0s\n",
      "   4  -2.16180934e+00  5.79367612e+01  8.37e-01 1.16e-05  8.09e-02     0s\n",
      "   5   3.36829088e+00  3.07193395e+01  5.27e-01 7.60e-06  3.34e-02     0s\n",
      "   6   4.78450981e+00  2.19713887e+01  3.64e-01 5.37e-06  2.12e-02     0s\n",
      "   7   6.46706749e+00  1.80613152e+01  1.84e-01 3.94e-06  1.36e-02     0s\n",
      "   8   6.76021062e+00  1.32676007e+01  1.22e-01 2.19e-06  7.65e-03     0s\n",
      "   9   7.16116477e+00  9.47667556e+00  6.86e-02 1.42e-06  2.93e-03     0s\n",
      "  10   7.13841512e+00  8.27326558e+00  2.16e-02 1.10e-06  1.31e-03     0s\n",
      "  11   7.40451809e+00  7.53923229e+00  3.07e-03 7.22e-07  1.60e-04     0s\n",
      "  12   7.43997569e+00  7.46788863e+00  4.28e-04 2.36e-06  3.12e-05     0s\n",
      "  13   7.45266707e+00  7.45360196e+00  1.37e-05 5.75e-07  1.04e-06     0s\n",
      "  14   7.45293675e+00  7.45305712e+00  6.57e-10 2.79e-08  1.18e-07     0s\n",
      "  15   7.45297724e+00  7.45300602e+00  3.89e-10 7.92e-10  2.81e-08     0s\n",
      "  16   7.45299371e+00  7.45299783e+00  3.98e-10 3.08e-09  4.07e-09     0s\n",
      "  17   7.45299490e+00  7.45299569e+00  2.71e-10 4.67e-09  7.82e-10     0s\n",
      "  18   7.45299535e+00  7.45299553e+00  3.01e-10 1.37e-08  1.76e-10     0s\n",
      "  19   7.45299538e+00  7.45299540e+00  6.53e-09 1.82e-08  2.35e-11     0s\n",
      "  20   7.45299540e+00  7.45299540e+00  2.59e-09 3.58e-08  7.01e-12     0s\n",
      "  21   7.45299540e+00  7.45299540e+00  5.86e-10 3.54e-09  1.37e-12     0s\n",
      "\n",
      "Barrier solved model in 21 iterations and 0.16 seconds (0.08 work units)\n",
      "Optimal objective 7.45299540e+00\n",
      "\n",
      "Solving KKT system to obtain QCP duals...\n",
      "\n"
     ]
    }
   ],
   "source": [
    "with model:\n",
    "  model.reactions.get_by_id('EX_glc__D_e').lower_bound=-10\n",
    "  S=cobra.util.array.create_stoichiometric_matrix(model,'DataFrame')\n",
    "  reference_flux_distribution=pfba(model).fluxes\n",
    "  mdf_problem,problem_data=construct_mdf_problem(drg0_prime_mean= drg0_prime_mean,\n",
    "                                    drg0_prime_cov_sqrt=drg0_prime_cov_sqrt,\n",
    "                                    v=reference_flux_distribution,\n",
    "                                    S=S,\n",
    "                                    concentration_custom_bounds={})\n",
    "  mdf,mdf_concentrations,mdf_driving_forces=solve_and_postprocess(mdf_problem=mdf_problem, \n",
    "                                                            drg0_prime_mean=drg0_prime_mean,\n",
    "                                                              drg0_prime_cov_sqrt=drg0_prime_cov_sqrt,\n",
    "                                                               S_thermo=problem_data['S_thermo'],\n",
    "                                                               v=reference_flux_distribution)\n",
    "\n",
    "                              "
   ]
  },
  {
   "cell_type": "code",
   "execution_count": 35,
   "metadata": {},
   "outputs": [
    {
     "data": {
      "text/html": [
       "<div>\n",
       "<style scoped>\n",
       "    .dataframe tbody tr th:only-of-type {\n",
       "        vertical-align: middle;\n",
       "    }\n",
       "\n",
       "    .dataframe tbody tr th {\n",
       "        vertical-align: top;\n",
       "    }\n",
       "\n",
       "    .dataframe thead th {\n",
       "        text-align: right;\n",
       "    }\n",
       "</style>\n",
       "<table border=\"1\" class=\"dataframe\">\n",
       "  <thead>\n",
       "    <tr style=\"text-align: right;\">\n",
       "      <th></th>\n",
       "      <th>optimised_conc_mM</th>\n",
       "      <th>shadow_price_lb</th>\n",
       "      <th>shadow_price_ub</th>\n",
       "    </tr>\n",
       "  </thead>\n",
       "  <tbody>\n",
       "    <tr>\n",
       "      <th>dhap_c</th>\n",
       "      <td>0.070514</td>\n",
       "      <td>-0.000000</td>\n",
       "      <td>0.0</td>\n",
       "    </tr>\n",
       "    <tr>\n",
       "      <th>prbatp_c</th>\n",
       "      <td>0.098944</td>\n",
       "      <td>-0.000000</td>\n",
       "      <td>0.0</td>\n",
       "    </tr>\n",
       "    <tr>\n",
       "      <th>10fthf_c</th>\n",
       "      <td>0.002293</td>\n",
       "      <td>-0.000000</td>\n",
       "      <td>0.0</td>\n",
       "    </tr>\n",
       "    <tr>\n",
       "      <th>co2_e</th>\n",
       "      <td>0.001000</td>\n",
       "      <td>-0.000693</td>\n",
       "      <td>0.0</td>\n",
       "    </tr>\n",
       "    <tr>\n",
       "      <th>akg_e</th>\n",
       "      <td>0.001000</td>\n",
       "      <td>-0.000296</td>\n",
       "      <td>0.0</td>\n",
       "    </tr>\n",
       "  </tbody>\n",
       "</table>\n",
       "</div>"
      ],
      "text/plain": [
       "          optimised_conc_mM  shadow_price_lb  shadow_price_ub\n",
       "dhap_c             0.070514        -0.000000              0.0\n",
       "prbatp_c           0.098944        -0.000000              0.0\n",
       "10fthf_c           0.002293        -0.000000              0.0\n",
       "co2_e              0.001000        -0.000693              0.0\n",
       "akg_e              0.001000        -0.000296              0.0"
      ]
     },
     "execution_count": 35,
     "metadata": {},
     "output_type": "execute_result"
    }
   ],
   "source": [
    "mdf_concentrations.head()"
   ]
  },
  {
   "cell_type": "code",
   "execution_count": 36,
   "metadata": {},
   "outputs": [
    {
     "data": {
      "text/html": [
       "<div>\n",
       "<style scoped>\n",
       "    .dataframe tbody tr th:only-of-type {\n",
       "        vertical-align: middle;\n",
       "    }\n",
       "\n",
       "    .dataframe tbody tr th {\n",
       "        vertical-align: top;\n",
       "    }\n",
       "\n",
       "    .dataframe thead th {\n",
       "        text-align: right;\n",
       "    }\n",
       "</style>\n",
       "<table border=\"1\" class=\"dataframe\">\n",
       "  <thead>\n",
       "    <tr style=\"text-align: right;\">\n",
       "      <th></th>\n",
       "      <th>drg0_prime_mean_kJ_mol</th>\n",
       "      <th>drg0_prime_std</th>\n",
       "      <th>adjusted_drg0_prime</th>\n",
       "      <th>driving_force_kJ_mol</th>\n",
       "      <th>driving_force_shadow_price</th>\n",
       "      <th>flux</th>\n",
       "    </tr>\n",
       "  </thead>\n",
       "  <tbody>\n",
       "    <tr>\n",
       "      <th>NDPK5</th>\n",
       "      <td>1.404247</td>\n",
       "      <td>2.405183</td>\n",
       "      <td>-1.770507</td>\n",
       "      <td>-22.653262</td>\n",
       "      <td>-1.671085e-11</td>\n",
       "      <td>0.023387</td>\n",
       "    </tr>\n",
       "    <tr>\n",
       "      <th>SHK3Dr</th>\n",
       "      <td>-3.945072</td>\n",
       "      <td>1.311172</td>\n",
       "      <td>-4.436398</td>\n",
       "      <td>-14.724747</td>\n",
       "      <td>-3.493100e-11</td>\n",
       "      <td>0.328942</td>\n",
       "    </tr>\n",
       "    <tr>\n",
       "      <th>NDPK6</th>\n",
       "      <td>-1.116819</td>\n",
       "      <td>1.276840</td>\n",
       "      <td>-3.080979</td>\n",
       "      <td>-23.329045</td>\n",
       "      <td>-1.599954e-11</td>\n",
       "      <td>0.022650</td>\n",
       "    </tr>\n",
       "    <tr>\n",
       "      <th>NDPK8</th>\n",
       "      <td>2.470122</td>\n",
       "      <td>1.468695</td>\n",
       "      <td>0.521972</td>\n",
       "      <td>-21.442159</td>\n",
       "      <td>-1.815761e-11</td>\n",
       "      <td>0.022650</td>\n",
       "    </tr>\n",
       "    <tr>\n",
       "      <th>DHORTS</th>\n",
       "      <td>-10.159996</td>\n",
       "      <td>1.692716</td>\n",
       "      <td>-11.620204</td>\n",
       "      <td>-7.503734</td>\n",
       "      <td>-4.995944e-09</td>\n",
       "      <td>-0.286345</td>\n",
       "    </tr>\n",
       "  </tbody>\n",
       "</table>\n",
       "</div>"
      ],
      "text/plain": [
       "        drg0_prime_mean_kJ_mol  drg0_prime_std  adjusted_drg0_prime  \\\n",
       "NDPK5                 1.404247        2.405183            -1.770507   \n",
       "SHK3Dr               -3.945072        1.311172            -4.436398   \n",
       "NDPK6                -1.116819        1.276840            -3.080979   \n",
       "NDPK8                 2.470122        1.468695             0.521972   \n",
       "DHORTS              -10.159996        1.692716           -11.620204   \n",
       "\n",
       "        driving_force_kJ_mol  driving_force_shadow_price      flux  \n",
       "NDPK5             -22.653262               -1.671085e-11  0.023387  \n",
       "SHK3Dr            -14.724747               -3.493100e-11  0.328942  \n",
       "NDPK6             -23.329045               -1.599954e-11  0.022650  \n",
       "NDPK8             -21.442159               -1.815761e-11  0.022650  \n",
       "DHORTS             -7.503734               -4.995944e-09 -0.286345  "
      ]
     },
     "execution_count": 36,
     "metadata": {},
     "output_type": "execute_result"
    }
   ],
   "source": [
    "mdf_driving_forces.head()"
   ]
  },
  {
   "cell_type": "markdown",
   "metadata": {},
   "source": [
    "We can verify that the probabilistic ajustment of the standard free energies only significantly affected those reactions with very high uncertainty"
   ]
  },
  {
   "cell_type": "code",
   "execution_count": 37,
   "metadata": {},
   "outputs": [
    {
     "name": "stderr",
     "output_type": "stream",
     "text": [
      "c:\\Users\\marco\\miniconda3\\envs\\kinetic_data\\lib\\site-packages\\pandas\\core\\arraylike.py:402: RuntimeWarning: divide by zero encountered in log10\n",
      "  result = getattr(ufunc, method)(*inputs, **kwargs)\n"
     ]
    },
    {
     "data": {
      "text/plain": [
       "<matplotlib.lines._AxLine at 0x199a3b25fc0>"
      ]
     },
     "execution_count": 37,
     "metadata": {},
     "output_type": "execute_result"
    },
    {
     "data": {
      "image/png": "[encoded data removed]",
      "text/plain": [
       "<Figure size 640x480 with 2 Axes>"
      ]
     },
     "metadata": {},
     "output_type": "display_data"
    }
   ],
   "source": [
    "mdf_driving_forces['log_drg0_prime_std']=np.log10(mdf_driving_forces['drg0_prime_std'])\n",
    "ax=mdf_driving_forces.query('flux!=0').plot(x='drg0_prime_mean_kJ_mol',y='adjusted_drg0_prime',c='log_drg0_prime_std',kind='scatter')\n",
    "ax.set_xlim(-155,30)\n",
    "ax.set_ylim(-155,30)\n",
    "ax.axline((1, 1), slope=1,c='red')\n"
   ]
  },
  {
   "cell_type": "markdown",
   "metadata": {},
   "source": [
    "# Repeat across growth conditions"
   ]
  },
  {
   "cell_type": "code",
   "execution_count": 38,
   "metadata": {},
   "outputs": [
    {
     "name": "stdout",
     "output_type": "stream",
     "text": [
      "Calculating MDF for glc__D aerobic\n",
      "=====================================\n",
      "Warning for adding constraints: zero or small (< 1e-13) coefficients, ignored\n",
      "Set parameter QCPDual to value 1\n",
      "Set parameter BarQCPConvTol to value 1e-09\n",
      "Calculating MDF for glc__D anaerobic\n",
      "=====================================\n",
      "Warning for adding constraints: zero or small (< 1e-13) coefficients, ignored\n",
      "Set parameter QCPDual to value 1\n",
      "Set parameter BarQCPConvTol to value 1e-09\n",
      "Calculating MDF for lac__D aerobic\n",
      "=====================================\n",
      "Warning for adding constraints: zero or small (< 1e-13) coefficients, ignored\n",
      "Set parameter QCPDual to value 1\n",
      "Set parameter BarQCPConvTol to value 1e-09\n",
      "Calculating MDF for lac__D anaerobic\n",
      "=====================================\n",
      "Calculating MDF for ac aerobic\n",
      "=====================================\n",
      "Warning for adding constraints: zero or small (< 1e-13) coefficients, ignored\n",
      "Set parameter QCPDual to value 1\n",
      "Set parameter BarQCPConvTol to value 1e-09\n",
      "Calculating MDF for ac anaerobic\n",
      "=====================================\n",
      "Calculating MDF for pyr aerobic\n",
      "=====================================\n",
      "Warning for adding constraints: zero or small (< 1e-13) coefficients, ignored\n",
      "Set parameter QCPDual to value 1\n",
      "Set parameter BarQCPConvTol to value 1e-09\n",
      "Calculating MDF for pyr anaerobic\n",
      "=====================================\n",
      "Calculating MDF for glyc aerobic\n",
      "=====================================\n",
      "Warning for adding constraints: zero or small (< 1e-13) coefficients, ignored\n",
      "Set parameter QCPDual to value 1\n",
      "Set parameter BarQCPConvTol to value 1e-09\n",
      "Calculating MDF for glyc anaerobic\n",
      "=====================================\n",
      "Calculating MDF for xyl__D aerobic\n",
      "=====================================\n",
      "Warning for adding constraints: zero or small (< 1e-13) coefficients, ignored\n",
      "Set parameter QCPDual to value 1\n",
      "Set parameter BarQCPConvTol to value 1e-09\n",
      "Calculating MDF for xyl__D anaerobic\n",
      "=====================================\n",
      "Warning for adding constraints: zero or small (< 1e-13) coefficients, ignored\n",
      "Set parameter QCPDual to value 1\n",
      "Set parameter BarQCPConvTol to value 1e-09\n",
      "Calculating MDF for akg aerobic\n",
      "=====================================\n",
      "Warning for adding constraints: zero or small (< 1e-13) coefficients, ignored\n",
      "Set parameter QCPDual to value 1\n",
      "Set parameter BarQCPConvTol to value 1e-09\n",
      "Calculating MDF for akg anaerobic\n",
      "=====================================\n",
      "Calculating MDF for rib__D aerobic\n",
      "=====================================\n",
      "Warning for adding constraints: zero or small (< 1e-13) coefficients, ignored\n",
      "Set parameter QCPDual to value 1\n",
      "Set parameter BarQCPConvTol to value 1e-09\n",
      "Calculating MDF for rib__D anaerobic\n",
      "=====================================\n",
      "Warning for adding constraints: zero or small (< 1e-13) coefficients, ignored\n",
      "Set parameter QCPDual to value 1\n",
      "Set parameter BarQCPConvTol to value 1e-09\n",
      "Calculating MDF for succ aerobic\n",
      "=====================================\n",
      "Warning for adding constraints: zero or small (< 1e-13) coefficients, ignored\n",
      "Set parameter QCPDual to value 1\n",
      "Set parameter BarQCPConvTol to value 1e-09\n",
      "Calculating MDF for succ anaerobic\n",
      "=====================================\n",
      "Calculating MDF for fum aerobic\n",
      "=====================================\n",
      "Warning for adding constraints: zero or small (< 1e-13) coefficients, ignored\n",
      "Set parameter QCPDual to value 1\n",
      "Set parameter BarQCPConvTol to value 1e-09\n",
      "Calculating MDF for fum anaerobic\n",
      "=====================================\n"
     ]
    }
   ],
   "source": [
    "model.reactions.get_by_id('EX_glc__D_e').lower_bound=0\n",
    "\n",
    "carbon_sources=['glc__D','lac__D','ac','pyr' ,'glyc','xyl__D','akg','rib__D','succ','fum']\n",
    "exchange_fluxes=['EX_'+c_source+'_e' for c_source in carbon_sources]\n",
    "conditions=['aerobic','anaerobic']\n",
    "results={cs:{condition:{'mdf':None,'concentrations':None,'driving_forces':None} for condition in conditions}for cs in carbon_sources} \n",
    "for i,carbon_source in enumerate(carbon_sources):\n",
    "    for condition in conditions:\n",
    "      with model:\n",
    "        print(f'Calculating MDF for {carbon_source} {condition}')\n",
    "        print(\"=====================================\")\n",
    "        model.reactions.get_by_id(exchange_fluxes[i]).lower_bound=-10\n",
    "        if condition=='anaerobic':\n",
    "           if carbon_source in ['glc__D','rib__D','xyl__D']:\n",
    "              model.reactions.get_by_id('EX_o2_e').lower_bound=0\n",
    "           else:\n",
    "              results[carbon_source][condition]=None\n",
    "              continue\n",
    "        reference_flux_distribution=pfba(model).fluxes\n",
    "        mdf_problem,problem_data=construct_mdf_problem(drg0_prime_mean= drg0_prime_mean,\n",
    "                                      drg0_prime_cov_sqrt=drg0_prime_cov_sqrt,\n",
    "                                      v=reference_flux_distribution,\n",
    "                                      S=S,\n",
    "                                      concentration_custom_bounds={})\n",
    "        mdf_problem.setParam('OutputFlag',0)\n",
    "        mdf,mdf_concentrations,mdf_driving_forces=solve_and_postprocess(mdf_problem=mdf_problem, \n",
    "                                                                drg0_prime_mean=drg0_prime_mean,\n",
    "                                                                  drg0_prime_cov_sqrt=drg0_prime_cov_sqrt,\n",
    "                                                                  S_thermo=problem_data['S_thermo'],\n",
    "                                                                  v=reference_flux_distribution)\n",
    "        \n",
    "        results[carbon_source][condition]['mdf']=mdf\n",
    "        results[carbon_source][condition]['concentrations']=mdf_concentrations\n",
    "        results[carbon_source][condition]['driving_forces']=mdf_driving_forces\n",
    "\n",
    "        "
   ]
  },
  {
   "cell_type": "code",
   "execution_count": 39,
   "metadata": {},
   "outputs": [
    {
     "name": "stdout",
     "output_type": "stream",
     "text": [
      "MDF results\n",
      "============\n",
      "MDF for glc__D - aerobic: 7.452995397786744 kJ/mol\n",
      "MDF for glc__D - anaerobic: 2.9833681812705017 kJ/mol\n",
      "MDF for lac__D - aerobic: 6.181061838061408 kJ/mol\n",
      "MDF for ac - aerobic: 6.140544541150289 kJ/mol\n",
      "MDF for pyr - aerobic: 6.181061838148067 kJ/mol\n",
      "MDF for glyc - aerobic: 6.767540465113183 kJ/mol\n",
      "MDF for xyl__D - aerobic: 7.452995398140951 kJ/mol\n",
      "MDF for xyl__D - anaerobic: 2.9833681807164236 kJ/mol\n",
      "MDF for akg - aerobic: 6.181061840213847 kJ/mol\n",
      "MDF for rib__D - aerobic: 7.452995397072714 kJ/mol\n",
      "MDF for rib__D - anaerobic: 2.9833681774712364 kJ/mol\n",
      "MDF for succ - aerobic: 6.14054454169864 kJ/mol\n",
      "MDF for fum - aerobic: 6.140544541088697 kJ/mol\n"
     ]
    }
   ],
   "source": [
    "print(\"MDF results\")\n",
    "print(\"============\")\n",
    "for carbon_source in carbon_sources:\n",
    "    for condition in conditions:\n",
    "        if results[carbon_source][condition] is not None:\n",
    "            print(f'MDF for {carbon_source} - {condition}: {results[carbon_source][condition][\"mdf\"]} kJ/mol')"
   ]
  },
  {
   "cell_type": "code",
   "execution_count": 40,
   "metadata": {},
   "outputs": [
    {
     "data": {
      "image/png": "[encoded data removed]",
      "text/plain": [
       "<Figure size 1000x500 with 1 Axes>"
      ]
     },
     "metadata": {},
     "output_type": "display_data"
    }
   ],
   "source": [
    "mdf_results=[]\n",
    "results_labels=[]\n",
    "for cs in carbon_sources:\n",
    "    for condition in conditions:\n",
    "        if results[cs][condition] is not None:\n",
    "            mdf_results.append(results[cs][condition]['mdf'])\n",
    "            results_labels.append(f'{cs} - {condition}')\n",
    "fig,ax=plt.subplots(figsize=(10,5))\n",
    "#order\n",
    "sorted_ixs=np.flip(np.argsort(mdf_results))\n",
    "sorted_mdf_results=np.array(mdf_results)[sorted_ixs]\n",
    "sorted_results_labels=np.array(results_labels)[sorted_ixs]\n",
    "#\n",
    "\n",
    "ax.bar(sorted_results_labels,sorted_mdf_results)\n",
    "ax.set_ylabel('MDF (kJ/mol)')\n",
    "ax.set_xlabel('Carbon source')\n",
    "ax.tick_params(axis='x',labelrotation=45)\n"
   ]
  },
  {
   "cell_type": "markdown",
   "metadata": {},
   "source": [
    "Export the results for plotting in the relevant notebook "
   ]
  },
  {
   "cell_type": "code",
   "execution_count": 41,
   "metadata": {},
   "outputs": [
    {
     "name": "stderr",
     "output_type": "stream",
     "text": [
      "c:\\Users\\marco\\miniconda3\\envs\\kinetic_data\\lib\\site-packages\\pandas\\core\\internals\\blocks.py:2323: RuntimeWarning: invalid value encountered in cast\n",
      "  values = values.astype(str)\n"
     ]
    }
   ],
   "source": [
    "for cs in results.keys():\n",
    "    for condition in conditions:\n",
    "        if results[cs][condition] is not None:\n",
    "            results[cs][condition]['driving_forces'].to_csv(f'./out/mdf_driving_forces_{cs}_{condition}.csv')\n",
    "            results[cs][condition]['concentrations'].to_csv(f'./out/mdf_concentrations_{cs}_{condition}.csv')\n",
    "with open('out/mdf_all_results.pkl','wb') as f:\n",
    "    pickle.dump(results,f)"
   ]
  }
 ],
 "metadata": {
  "kernelspec": {
   "display_name": "kinetic_data",
   "language": "python",
   "name": "python3"
  },
  "language_info": {
   "codemirror_mode": {
    "name": "ipython",
    "version": 3
   },
   "file_extension": ".py",
   "mimetype": "text/x-python",
   "name": "python",
   "nbconvert_exporter": "python",
   "pygments_lexer": "ipython3",
   "version": "3.10.9"
  }
 },
 "nbformat": 4,
 "nbformat_minor": 2
}
