{
 "cells": [
  {
   "cell_type": "markdown",
   "metadata": {},
   "source": [
    "# Screen EFMs for cost and yield"
   ]
  },
  {
   "cell_type": "code",
   "execution_count": 1,
   "metadata": {},
   "outputs": [],
   "source": [
    "import cobra\n",
    "import pandas as pd\n",
    "import numpy as np\n",
    "import sys\n",
    "sys.path.append('../../utils')\n",
    "import EC_utils\n",
    "import importlib\n",
    "importlib.reload(EC_utils)\n",
    "import multiprocessing as mp"
   ]
  },
  {
   "cell_type": "markdown",
   "metadata": {},
   "source": [
    "## Load EC Model"
   ]
  },
  {
   "cell_type": "code",
   "execution_count": 2,
   "metadata": {},
   "outputs": [
    {
     "name": "stdout",
     "output_type": "stream",
     "text": [
      "Set parameter Username\n",
      "Academic license - for non-commercial use only - expires 2025-03-12\n"
     ]
    }
   ],
   "source": [
    "ec_model=cobra.io.read_sbml_model('../../Model/EC_iCH360/EC_iCH360_fitted_kapps.xml')\n",
    "\n",
    "#Read fitted scaling factors for aerobic growth on glucose\n",
    "fitted_scalings=pd.read_csv('../../Enzyme_Constraints/kcat_adjustment_and_enzyme_allocation_predictions/out/condition_specific_scalings.csv',index_col=0)\n",
    "\n",
    "#Parse reaction costs from the model\n",
    "ec_cost=EC_utils.get_reaction_costs(ec_model,sigma=float(fitted_scalings.loc['glc__D_e']))\n"
   ]
  },
  {
   "cell_type": "markdown",
   "metadata": {},
   "source": [
    "## Load EFMs"
   ]
  },
  {
   "cell_type": "code",
   "execution_count": 3,
   "metadata": {},
   "outputs": [],
   "source": [
    "carbon_source='EX_glc__D_e'\n",
    "carbon_condition='glc__D_aerobic'\n",
    "efms=pd.concat([pd.read_csv('../../EFM/efm_enumeration/efms/ich360red_glc__D_aerobic_efms.csv',index_col=0),\n",
    "                pd.read_csv('../../EFM/efm_enumeration/efms/ich360red_glc__D_anaerobic_efms.csv',index_col=0)\n",
    "                ],\n",
    "                )\n",
    "chunks=np.array_split(efms,mp.cpu_count())\n",
    "del efms"
   ]
  },
  {
   "cell_type": "markdown",
   "metadata": {},
   "source": [
    "## Compute yield and cost of each mode with a parallel Pool"
   ]
  },
  {
   "cell_type": "code",
   "execution_count": 4,
   "metadata": {},
   "outputs": [],
   "source": [
    "pool=mp.Pool(mp.cpu_count())"
   ]
  },
  {
   "cell_type": "code",
   "execution_count": 5,
   "metadata": {},
   "outputs": [],
   "source": [
    "f=EC_utils.compute_efm_df_yield_cost\n",
    "flux_supporting=['EX_ac_e','EX_o2_e','EX_glc__D_e','ATPM','Biomass']\n",
    "args=[(chunk,ec_cost,'Biomass',carbon_source,flux_supporting) for chunk in chunks]\n",
    "\n",
    "parallel_computation=pool.starmap(f,args)\n",
    "out=list(parallel_computation)"
   ]
  },
  {
   "cell_type": "code",
   "execution_count": 6,
   "metadata": {},
   "outputs": [
    {
     "data": {
      "text/html": [
       "<div>\n",
       "<style scoped>\n",
       "    .dataframe tbody tr th:only-of-type {\n",
       "        vertical-align: middle;\n",
       "    }\n",
       "\n",
       "    .dataframe tbody tr th {\n",
       "        vertical-align: top;\n",
       "    }\n",
       "\n",
       "    .dataframe thead th {\n",
       "        text-align: right;\n",
       "    }\n",
       "</style>\n",
       "<table border=\"1\" class=\"dataframe\">\n",
       "  <thead>\n",
       "    <tr style=\"text-align: right;\">\n",
       "      <th></th>\n",
       "      <th>yield</th>\n",
       "      <th>cost</th>\n",
       "      <th>EX_ac_e</th>\n",
       "      <th>EX_o2_e</th>\n",
       "      <th>EX_glc__D_e</th>\n",
       "      <th>ATPM</th>\n",
       "      <th>Biomass</th>\n",
       "    </tr>\n",
       "  </thead>\n",
       "  <tbody>\n",
       "    <tr>\n",
       "      <th>0</th>\n",
       "      <td>0.042102</td>\n",
       "      <td>10.040055</td>\n",
       "      <td>0.580546</td>\n",
       "      <td>-24.733394</td>\n",
       "      <td>-23.751971</td>\n",
       "      <td>0.0</td>\n",
       "      <td>1.0</td>\n",
       "    </tr>\n",
       "    <tr>\n",
       "      <th>1</th>\n",
       "      <td>0.040818</td>\n",
       "      <td>12.662366</td>\n",
       "      <td>0.580546</td>\n",
       "      <td>-31.18622</td>\n",
       "      <td>-24.498839</td>\n",
       "      <td>0.0</td>\n",
       "      <td>1.0</td>\n",
       "    </tr>\n",
       "    <tr>\n",
       "      <th>2</th>\n",
       "      <td>0.034503</td>\n",
       "      <td>14.920963</td>\n",
       "      <td>0.0</td>\n",
       "      <td>-36.77204</td>\n",
       "      <td>-28.982787</td>\n",
       "      <td>0.0</td>\n",
       "      <td>1.0</td>\n",
       "    </tr>\n",
       "    <tr>\n",
       "      <th>3</th>\n",
       "      <td>0.042102</td>\n",
       "      <td>29.830455</td>\n",
       "      <td>0.580546</td>\n",
       "      <td>-24.733394</td>\n",
       "      <td>-23.751971</td>\n",
       "      <td>0.0</td>\n",
       "      <td>1.0</td>\n",
       "    </tr>\n",
       "    <tr>\n",
       "      <th>4</th>\n",
       "      <td>0.053609</td>\n",
       "      <td>13.716434</td>\n",
       "      <td>0.580546</td>\n",
       "      <td>-34.034239</td>\n",
       "      <td>-18.653427</td>\n",
       "      <td>0.0</td>\n",
       "      <td>1.0</td>\n",
       "    </tr>\n",
       "  </tbody>\n",
       "</table>\n",
       "</div>"
      ],
      "text/plain": [
       "      yield       cost   EX_ac_e    EX_o2_e EX_glc__D_e ATPM Biomass\n",
       "0  0.042102  10.040055  0.580546 -24.733394  -23.751971  0.0     1.0\n",
       "1  0.040818  12.662366  0.580546  -31.18622  -24.498839  0.0     1.0\n",
       "2  0.034503  14.920963       0.0  -36.77204  -28.982787  0.0     1.0\n",
       "3  0.042102  29.830455  0.580546 -24.733394  -23.751971  0.0     1.0\n",
       "4  0.053609  13.716434  0.580546 -34.034239  -18.653427  0.0     1.0"
      ]
     },
     "execution_count": 6,
     "metadata": {},
     "output_type": "execute_result"
    }
   ],
   "source": [
    "yield_cost_df=pd.concat(out)\n",
    "yield_cost_df.to_csv(f'out/ich360red_{carbon_condition}_yield_cost.csv')\n",
    "yield_cost_df.head()"
   ]
  },
  {
   "cell_type": "code",
   "execution_count": 7,
   "metadata": {},
   "outputs": [],
   "source": [
    "del yield_cost_df"
   ]
  },
  {
   "cell_type": "markdown",
   "metadata": {},
   "source": [
    "### Repeat computation under low Oxygen conditions"
   ]
  },
  {
   "cell_type": "code",
   "execution_count": 8,
   "metadata": {},
   "outputs": [],
   "source": [
    "ec_cost_low_o2=ec_cost.copy()\n",
    "for cytochrome_rxn in ['CYTBO3_4pp_fw','CYTBDpp_fw','CYTBD2pp_fw']:\n",
    "    ec_cost_low_o2[cytochrome_rxn]=1000*ec_cost[cytochrome_rxn]\n",
    "\n",
    "pool=mp.Pool(mp.cpu_count())\n",
    "f=EC_utils.compute_efm_df_yield_cost\n",
    "flux_supporting=['EX_ac_e','EX_o2_e','EX_glc__D_e','ATPM','Biomass']\n",
    "args=[(chunk,ec_cost_low_o2,'Biomass',carbon_source,flux_supporting) for chunk in chunks]\n",
    "\n",
    "parallel_computation=pool.starmap(f,args)\n",
    "out_low_o2=list(parallel_computation)"
   ]
  },
  {
   "cell_type": "code",
   "execution_count": 9,
   "metadata": {},
   "outputs": [],
   "source": [
    "yield_cost_df_low_o2=pd.concat(out_low_o2)\n",
    "yield_cost_df_low_o2.to_csv(f'out/ich360red_{carbon_condition}_yield_cost_low_o2.csv')"
   ]
  },
  {
   "cell_type": "code",
   "execution_count": 10,
   "metadata": {},
   "outputs": [],
   "source": [
    "del yield_cost_df_low_o2"
   ]
  }
 ],
 "metadata": {
  "kernelspec": {
   "display_name": "kinetic_data",
   "language": "python",
   "name": "python3"
  },
  "language_info": {
   "codemirror_mode": {
    "name": "ipython",
    "version": 3
   },
   "file_extension": ".py",
   "mimetype": "text/x-python",
   "name": "python",
   "nbconvert_exporter": "python",
   "pygments_lexer": "ipython3",
   "version": "3.10.9"
  }
 },
 "nbformat": 4,
 "nbformat_minor": 2
}
