{
 "cells": [
  {
   "cell_type": "markdown",
   "metadata": {},
   "source": [
    "# Comapring database annotation with *i*ML1515"
   ]
  },
  {
   "cell_type": "code",
   "execution_count": 53,
   "metadata": {},
   "outputs": [],
   "source": [
    "import cobra\n",
    "import pandas as pd"
   ]
  },
  {
   "cell_type": "markdown",
   "metadata": {},
   "source": [
    "## Load the two models"
   ]
  },
  {
   "cell_type": "code",
   "execution_count": 54,
   "metadata": {},
   "outputs": [
    {
     "name": "stderr",
     "output_type": "stream",
     "text": [
      "'' is not a valid SBML 'SId'.\n"
     ]
    }
   ],
   "source": [
    "ich360=cobra.io.read_sbml_model('./../../Model/iCH360/Escherichia_coli_iCH360.xml')\n",
    "iml1515=cobra.io.read_sbml_model('../../Manuscript_Figures/data/metabolic_models/iML1515/iML1515.xml')"
   ]
  },
  {
   "cell_type": "code",
   "execution_count": 55,
   "metadata": {},
   "outputs": [],
   "source": [
    "def rxn_filter(model,rxn):\n",
    "    ''' Boolean operator to filter enzymatic reactions'''\n",
    "    if rxn in model.boundary:\n",
    "        return False\n",
    "    elif rxn.id == 'Biomass':\n",
    "        return False\n",
    "    else:\n",
    "        return True\n",
    "    \n",
    "metabolic_reactions=[r for r in ich360.reactions if rxn_filter(ich360,r)]"
   ]
  },
  {
   "cell_type": "markdown",
   "metadata": {},
   "source": [
    "Loop across databases and metabolic reactions in *i*CH360. For each reaction, count if annotation to that databse is available in *i*ML1515 and in *i*CH360. Further, note down whether the metanetX annotation was updated in *i*CH360 from a deprecated ID in *i*ML1515 (should the ID not being the update one in iCH360, also proceed to update it)"
   ]
  },
  {
   "cell_type": "code",
   "execution_count": 56,
   "metadata": {},
   "outputs": [
    {
     "data": {
      "text/html": [
       "<div>\n",
       "<style scoped>\n",
       "    .dataframe tbody tr th:only-of-type {\n",
       "        vertical-align: middle;\n",
       "    }\n",
       "\n",
       "    .dataframe tbody tr th {\n",
       "        vertical-align: top;\n",
       "    }\n",
       "\n",
       "    .dataframe thead th {\n",
       "        text-align: right;\n",
       "    }\n",
       "</style>\n",
       "<table border=\"1\" class=\"dataframe\">\n",
       "  <thead>\n",
       "    <tr style=\"text-align: right;\">\n",
       "      <th></th>\n",
       "      <th>ID</th>\n",
       "      <th>version</th>\n",
       "    </tr>\n",
       "    <tr>\n",
       "      <th>deprecated_ID</th>\n",
       "      <th></th>\n",
       "      <th></th>\n",
       "    </tr>\n",
       "  </thead>\n",
       "  <tbody>\n",
       "    <tr>\n",
       "      <th>MNXR1</th>\n",
       "      <td>MNXR94668</td>\n",
       "      <td>3.*</td>\n",
       "    </tr>\n",
       "    <tr>\n",
       "      <th>MNXR10</th>\n",
       "      <td>MNXR94678</td>\n",
       "      <td>3.*</td>\n",
       "    </tr>\n",
       "    <tr>\n",
       "      <th>MNXR100</th>\n",
       "      <td>MNXR94811</td>\n",
       "      <td>3.*</td>\n",
       "    </tr>\n",
       "    <tr>\n",
       "      <th>MNXR1000</th>\n",
       "      <td>MNXR109728</td>\n",
       "      <td>3.*</td>\n",
       "    </tr>\n",
       "    <tr>\n",
       "      <th>MNXR100002</th>\n",
       "      <td>MNXR144918</td>\n",
       "      <td>4.0</td>\n",
       "    </tr>\n",
       "  </tbody>\n",
       "</table>\n",
       "</div>"
      ],
      "text/plain": [
       "                       ID version\n",
       "deprecated_ID                    \n",
       "MNXR1           MNXR94668     3.*\n",
       "MNXR10          MNXR94678     3.*\n",
       "MNXR100         MNXR94811     3.*\n",
       "MNXR1000       MNXR109728     3.*\n",
       "MNXR100002     MNXR144918     4.0"
      ]
     },
     "execution_count": 56,
     "metadata": {},
     "output_type": "execute_result"
    }
   ],
   "source": [
    "metanetX_deprecated_data=pd.read_csv('../../external_database_data/metanetX_deprecated_reactions.tsv',sep='\\t',comment='#').set_index('deprecated_ID')\n",
    "metanetX_deprecated_data.head()"
   ]
  },
  {
   "cell_type": "code",
   "execution_count": 57,
   "metadata": {},
   "outputs": [
    {
     "data": {
      "text/html": [
       "<div>\n",
       "<style scoped>\n",
       "    .dataframe tbody tr th:only-of-type {\n",
       "        vertical-align: middle;\n",
       "    }\n",
       "\n",
       "    .dataframe tbody tr th {\n",
       "        vertical-align: top;\n",
       "    }\n",
       "\n",
       "    .dataframe thead th {\n",
       "        text-align: right;\n",
       "    }\n",
       "</style>\n",
       "<table border=\"1\" class=\"dataframe\">\n",
       "  <thead>\n",
       "    <tr style=\"text-align: right;\">\n",
       "      <th></th>\n",
       "      <th>database</th>\n",
       "      <th>original</th>\n",
       "      <th>deprecated_in_original</th>\n",
       "      <th>current</th>\n",
       "      <th>total</th>\n",
       "    </tr>\n",
       "  </thead>\n",
       "  <tbody>\n",
       "    <tr>\n",
       "      <th>0</th>\n",
       "      <td>biocyc</td>\n",
       "      <td>205</td>\n",
       "      <td>0</td>\n",
       "      <td>317</td>\n",
       "      <td>322</td>\n",
       "    </tr>\n",
       "    <tr>\n",
       "      <th>1</th>\n",
       "      <td>metanetx.reaction</td>\n",
       "      <td>320</td>\n",
       "      <td>143</td>\n",
       "      <td>320</td>\n",
       "      <td>322</td>\n",
       "    </tr>\n",
       "    <tr>\n",
       "      <th>2</th>\n",
       "      <td>kegg.reaction</td>\n",
       "      <td>193</td>\n",
       "      <td>0</td>\n",
       "      <td>206</td>\n",
       "      <td>322</td>\n",
       "    </tr>\n",
       "  </tbody>\n",
       "</table>\n",
       "</div>"
      ],
      "text/plain": [
       "            database  original  deprecated_in_original  current  total\n",
       "0             biocyc       205                       0      317    322\n",
       "1  metanetx.reaction       320                     143      320    322\n",
       "2      kegg.reaction       193                       0      206    322"
      ]
     },
     "execution_count": 57,
     "metadata": {},
     "output_type": "execute_result"
    }
   ],
   "source": [
    "dbs=['biocyc','metanetx.reaction','kegg.reaction']\n",
    "stats={'database':[],'original':[],'deprecated_in_original':[],'current':[],'total':[]}\n",
    "\n",
    "for db in dbs:\n",
    "    iml1515_count=0\n",
    "    ich360_count=0\n",
    "    deprecated_count=0   \n",
    "    for r in metabolic_reactions:\n",
    "        r_id=r.id\n",
    "        r_iml1515=iml1515.reactions.get_by_id(r_id)\n",
    "        r_ich360=ich360.reactions.get_by_id(r_id)\n",
    "\n",
    "        if db in r_iml1515.annotation.keys():\n",
    "            iml1515_count+=1\n",
    "        if db in r_ich360.annotation.keys():\n",
    "            ich360_count+=1\n",
    "        if (db=='metanetx.reaction' and 'metanetx.reaction' in r_iml1515.annotation.keys() and r_iml1515.annotation['metanetx.reaction'] in metanetX_deprecated_data.index.to_list()): \n",
    "            deprecated_count+=1\n",
    "\n",
    "            deprecated_id=r_iml1515.annotation['metanetx.reaction']\n",
    "            new_id=metanetX_deprecated_data.loc[[r_iml1515.annotation['metanetx.reaction']]].iloc[0]['ID']\n",
    "            if r_ich360.annotation['metanetx.reaction']==deprecated_id:\n",
    "                r_ich360.annotation['metanetx.reaction']=new_id\n",
    "                r_ich360.annotation['deprecated_metanetx.reaction']=deprecated_id\n",
    "                print(f\"Changed metanetX annotation of {r_id} from {deprecated_id} to {new_id}\")\n",
    "\n",
    "    stats['database'].append(db)\n",
    "    stats['original'].append(iml1515_count)\n",
    "    stats['current'].append(ich360_count)\n",
    "    stats['deprecated_in_original'].append(deprecated_count)\n",
    "    stats['total'].append(len(metabolic_reactions))\n",
    "\n",
    "stats_df=pd.DataFrame.from_dict(stats)\n",
    "stats_df.head()"
   ]
  },
  {
   "cell_type": "code",
   "execution_count": 58,
   "metadata": {},
   "outputs": [],
   "source": [
    "cobra.io.write_sbml_model(ich360,'../../Model/iCH360/Escherichia_coli_iCH360.xml')\n",
    "cobra.io.save_json_model(ich360,'../../Model/iCH360/Escherichia_coli_iCH360.json')\n",
    "stats_df.to_csv('out/annotation_stats.csv',index=False)"
   ]
  }
 ],
 "metadata": {
  "kernelspec": {
   "display_name": "kinetic_data",
   "language": "python",
   "name": "python3"
  },
  "language_info": {
   "codemirror_mode": {
    "name": "ipython",
    "version": 3
   },
   "file_extension": ".py",
   "mimetype": "text/x-python",
   "name": "python",
   "nbconvert_exporter": "python",
   "pygments_lexer": "ipython3",
   "version": "3.10.9"
  }
 },
 "nbformat": 4,
 "nbformat_minor": 2
}
