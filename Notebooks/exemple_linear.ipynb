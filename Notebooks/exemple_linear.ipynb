{
 "cells": [
  {
   "cell_type": "markdown",
   "metadata": {},
   "source": [
    "# <font color='red'> [1] Build the model and the structure of the metabolic network </font> "
   ]
  },
  {
   "cell_type": "markdown",
   "metadata": {},
   "source": [
    "## <font color='green'> [1.1] Importation of the package </font> "
   ]
  },
  {
   "cell_type": "code",
   "execution_count": 1,
   "metadata": {},
   "outputs": [],
   "source": [
    "import sys\n",
    "sys.path.append('../')\n",
    "\n",
    "from main import *"
   ]
  },
  {
   "cell_type": "markdown",
   "metadata": {},
   "source": [
    "## <font color='green'> [1.2] Creation of an empty model </font> "
   ]
  },
  {
   "cell_type": "markdown",
   "metadata": {},
   "source": [
    "Let's create a model as a variable"
   ]
  },
  {
   "cell_type": "code",
   "execution_count": 2,
   "metadata": {},
   "outputs": [
    {
     "name": "stdout",
     "output_type": "stream",
     "text": [
      " \n"
     ]
    }
   ],
   "source": [
    "model = MODEL()"
   ]
  },
  {
   "cell_type": "markdown",
   "metadata": {},
   "source": [
    "## <font color='green'> [1.3] Load of an existing model </font> "
   ]
  },
  {
   "cell_type": "markdown",
   "metadata": {},
   "source": [
    "Instead of creating a model from nothing, you can load an existing model."
   ]
  },
  {
   "cell_type": "markdown",
   "metadata": {},
   "source": [
    "You can create a linear network of $n$ metabolites"
   ]
  },
  {
   "cell_type": "code",
   "execution_count": 3,
   "metadata": {},
   "outputs": [
    {
     "name": "stdout",
     "output_type": "stream",
     "text": [
      " \n"
     ]
    }
   ],
   "source": [
    "model.creat_linear(n=4)"
   ]
  },
  {
   "cell_type": "code",
   "execution_count": 4,
   "metadata": {},
   "outputs": [
    {
     "name": "stdout",
     "output_type": "stream",
     "text": [
      "Name of the removed parameter : Temperature\n"
     ]
    }
   ],
   "source": [
    "model.enzymes.add_to_all_reaction()\n",
    "model.parameters.add_externals()\n",
    "model.parameters.add_enzymes()\n",
    "model.elasticity.s.half_satured()\n",
    "model.parameters.remove(\"Temperature\")"
   ]
  },
  {
   "cell_type": "code",
   "execution_count": 5,
   "metadata": {},
   "outputs": [
    {
     "data": {
      "text/plain": [
       "                       Mean values Standard deviation\n",
       "meta_0_para                    1.0                1.0\n",
       "meta_3_para                    1.0                1.0\n",
       "enzyme_reaction_0_para         1.0                1.0\n",
       "enzyme_reaction_1_para         1.0                1.0\n",
       "enzyme_reaction_2_para         1.0                1.0"
      ]
     },
     "execution_count": 5,
     "metadata": {},
     "output_type": "execute_result"
    }
   ],
   "source": [
    "model.parameters"
   ]
  },
  {
   "cell_type": "code",
   "execution_count": 6,
   "metadata": {},
   "outputs": [],
   "source": [
    "model.parameters.change(\"meta_0_para\", SD = 0)\n",
    "model.parameters.change(\"meta_3_para\", SD = 0)"
   ]
  },
  {
   "cell_type": "code",
   "execution_count": 8,
   "metadata": {},
   "outputs": [
    {
     "data": {
      "text/html": [
       "<div>\n",
       "<style scoped>\n",
       "    .dataframe tbody tr th:only-of-type {\n",
       "        vertical-align: middle;\n",
       "    }\n",
       "\n",
       "    .dataframe tbody tr th {\n",
       "        vertical-align: top;\n",
       "    }\n",
       "\n",
       "    .dataframe thead th {\n",
       "        text-align: right;\n",
       "    }\n",
       "</style>\n",
       "<table border=\"1\" class=\"dataframe\">\n",
       "  <thead>\n",
       "    <tr style=\"text-align: right;\">\n",
       "      <th></th>\n",
       "      <th>meta_0_para</th>\n",
       "      <th>meta_3_para</th>\n",
       "      <th>enzyme_reaction_0_para</th>\n",
       "      <th>enzyme_reaction_1_para</th>\n",
       "      <th>enzyme_reaction_2_para</th>\n",
       "      <th>meta_1</th>\n",
       "      <th>meta_2</th>\n",
       "      <th>reaction_0</th>\n",
       "      <th>reaction_1</th>\n",
       "      <th>reaction_2</th>\n",
       "    </tr>\n",
       "  </thead>\n",
       "  <tbody>\n",
       "    <tr>\n",
       "      <th>meta_0_para</th>\n",
       "      <td>-0.0</td>\n",
       "      <td>-0.0</td>\n",
       "      <td>-0.000000</td>\n",
       "      <td>-0.000000</td>\n",
       "      <td>-0.000000</td>\n",
       "      <td>-0.000000</td>\n",
       "      <td>-0.000000</td>\n",
       "      <td>-0.000000</td>\n",
       "      <td>-0.000000</td>\n",
       "      <td>-0.000000</td>\n",
       "    </tr>\n",
       "    <tr>\n",
       "      <th>meta_3_para</th>\n",
       "      <td>-0.0</td>\n",
       "      <td>-0.0</td>\n",
       "      <td>-0.000000</td>\n",
       "      <td>-0.000000</td>\n",
       "      <td>-0.000000</td>\n",
       "      <td>-0.000000</td>\n",
       "      <td>-0.000000</td>\n",
       "      <td>-0.000000</td>\n",
       "      <td>-0.000000</td>\n",
       "      <td>-0.000000</td>\n",
       "    </tr>\n",
       "    <tr>\n",
       "      <th>enzyme_reaction_0_para</th>\n",
       "      <td>-0.0</td>\n",
       "      <td>-0.0</td>\n",
       "      <td>inf</td>\n",
       "      <td>-0.000000</td>\n",
       "      <td>-0.000000</td>\n",
       "      <td>0.549306</td>\n",
       "      <td>0.091161</td>\n",
       "      <td>0.202733</td>\n",
       "      <td>0.202733</td>\n",
       "      <td>0.202733</td>\n",
       "    </tr>\n",
       "    <tr>\n",
       "      <th>enzyme_reaction_1_para</th>\n",
       "      <td>-0.0</td>\n",
       "      <td>-0.0</td>\n",
       "      <td>-0.000000</td>\n",
       "      <td>inf</td>\n",
       "      <td>-0.000000</td>\n",
       "      <td>0.091161</td>\n",
       "      <td>0.091161</td>\n",
       "      <td>0.202733</td>\n",
       "      <td>0.202733</td>\n",
       "      <td>0.202733</td>\n",
       "    </tr>\n",
       "    <tr>\n",
       "      <th>enzyme_reaction_2_para</th>\n",
       "      <td>-0.0</td>\n",
       "      <td>-0.0</td>\n",
       "      <td>-0.000000</td>\n",
       "      <td>-0.000000</td>\n",
       "      <td>inf</td>\n",
       "      <td>0.091161</td>\n",
       "      <td>0.549306</td>\n",
       "      <td>0.202733</td>\n",
       "      <td>0.202733</td>\n",
       "      <td>0.202733</td>\n",
       "    </tr>\n",
       "    <tr>\n",
       "      <th>meta_1</th>\n",
       "      <td>-0.0</td>\n",
       "      <td>-0.0</td>\n",
       "      <td>0.549306</td>\n",
       "      <td>0.091161</td>\n",
       "      <td>0.091161</td>\n",
       "      <td>inf</td>\n",
       "      <td>0.143841</td>\n",
       "      <td>-0.000000</td>\n",
       "      <td>-0.000000</td>\n",
       "      <td>-0.000000</td>\n",
       "    </tr>\n",
       "    <tr>\n",
       "      <th>meta_2</th>\n",
       "      <td>-0.0</td>\n",
       "      <td>-0.0</td>\n",
       "      <td>0.091161</td>\n",
       "      <td>0.091161</td>\n",
       "      <td>0.549306</td>\n",
       "      <td>0.143841</td>\n",
       "      <td>inf</td>\n",
       "      <td>-0.000000</td>\n",
       "      <td>-0.000000</td>\n",
       "      <td>-0.000000</td>\n",
       "    </tr>\n",
       "    <tr>\n",
       "      <th>reaction_0</th>\n",
       "      <td>-0.0</td>\n",
       "      <td>-0.0</td>\n",
       "      <td>0.202733</td>\n",
       "      <td>0.202733</td>\n",
       "      <td>0.202733</td>\n",
       "      <td>-0.000000</td>\n",
       "      <td>-0.000000</td>\n",
       "      <td>inf</td>\n",
       "      <td>inf</td>\n",
       "      <td>inf</td>\n",
       "    </tr>\n",
       "    <tr>\n",
       "      <th>reaction_1</th>\n",
       "      <td>-0.0</td>\n",
       "      <td>-0.0</td>\n",
       "      <td>0.202733</td>\n",
       "      <td>0.202733</td>\n",
       "      <td>0.202733</td>\n",
       "      <td>-0.000000</td>\n",
       "      <td>-0.000000</td>\n",
       "      <td>inf</td>\n",
       "      <td>inf</td>\n",
       "      <td>inf</td>\n",
       "    </tr>\n",
       "    <tr>\n",
       "      <th>reaction_2</th>\n",
       "      <td>-0.0</td>\n",
       "      <td>-0.0</td>\n",
       "      <td>0.202733</td>\n",
       "      <td>0.202733</td>\n",
       "      <td>0.202733</td>\n",
       "      <td>-0.000000</td>\n",
       "      <td>-0.000000</td>\n",
       "      <td>inf</td>\n",
       "      <td>inf</td>\n",
       "      <td>inf</td>\n",
       "    </tr>\n",
       "  </tbody>\n",
       "</table>\n",
       "</div>"
      ],
      "text/plain": [
       "                        meta_0_para  meta_3_para  enzyme_reaction_0_para  \\\n",
       "meta_0_para                    -0.0         -0.0               -0.000000   \n",
       "meta_3_para                    -0.0         -0.0               -0.000000   \n",
       "enzyme_reaction_0_para         -0.0         -0.0                     inf   \n",
       "enzyme_reaction_1_para         -0.0         -0.0               -0.000000   \n",
       "enzyme_reaction_2_para         -0.0         -0.0               -0.000000   \n",
       "meta_1                         -0.0         -0.0                0.549306   \n",
       "meta_2                         -0.0         -0.0                0.091161   \n",
       "reaction_0                     -0.0         -0.0                0.202733   \n",
       "reaction_1                     -0.0         -0.0                0.202733   \n",
       "reaction_2                     -0.0         -0.0                0.202733   \n",
       "\n",
       "                        enzyme_reaction_1_para  enzyme_reaction_2_para  \\\n",
       "meta_0_para                          -0.000000               -0.000000   \n",
       "meta_3_para                          -0.000000               -0.000000   \n",
       "enzyme_reaction_0_para               -0.000000               -0.000000   \n",
       "enzyme_reaction_1_para                     inf               -0.000000   \n",
       "enzyme_reaction_2_para               -0.000000                     inf   \n",
       "meta_1                                0.091161                0.091161   \n",
       "meta_2                                0.091161                0.549306   \n",
       "reaction_0                            0.202733                0.202733   \n",
       "reaction_1                            0.202733                0.202733   \n",
       "reaction_2                            0.202733                0.202733   \n",
       "\n",
       "                          meta_1    meta_2  reaction_0  reaction_1  reaction_2  \n",
       "meta_0_para            -0.000000 -0.000000   -0.000000   -0.000000   -0.000000  \n",
       "meta_3_para            -0.000000 -0.000000   -0.000000   -0.000000   -0.000000  \n",
       "enzyme_reaction_0_para  0.549306  0.091161    0.202733    0.202733    0.202733  \n",
       "enzyme_reaction_1_para  0.091161  0.091161    0.202733    0.202733    0.202733  \n",
       "enzyme_reaction_2_para  0.091161  0.549306    0.202733    0.202733    0.202733  \n",
       "meta_1                       inf  0.143841   -0.000000   -0.000000   -0.000000  \n",
       "meta_2                  0.143841       inf   -0.000000   -0.000000   -0.000000  \n",
       "reaction_0             -0.000000 -0.000000         inf         inf         inf  \n",
       "reaction_1             -0.000000 -0.000000         inf         inf         inf  \n",
       "reaction_2             -0.000000 -0.000000         inf         inf         inf  "
      ]
     },
     "execution_count": 8,
     "metadata": {},
     "output_type": "execute_result"
    }
   ],
   "source": [
    "model.MI"
   ]
  },
  {
   "cell_type": "code",
   "execution_count": 9,
   "metadata": {},
   "outputs": [
    {
     "data": {
      "text/html": [
       "<div>\n",
       "<style scoped>\n",
       "    .dataframe tbody tr th:only-of-type {\n",
       "        vertical-align: middle;\n",
       "    }\n",
       "\n",
       "    .dataframe tbody tr th {\n",
       "        vertical-align: top;\n",
       "    }\n",
       "\n",
       "    .dataframe thead th {\n",
       "        text-align: right;\n",
       "    }\n",
       "</style>\n",
       "<table border=\"1\" class=\"dataframe\">\n",
       "  <thead>\n",
       "    <tr style=\"text-align: right;\">\n",
       "      <th></th>\n",
       "      <th>Mean values</th>\n",
       "      <th>Standard deviation</th>\n",
       "    </tr>\n",
       "  </thead>\n",
       "  <tbody>\n",
       "    <tr>\n",
       "      <th>meta_0_para</th>\n",
       "      <td>1.0</td>\n",
       "      <td>0</td>\n",
       "    </tr>\n",
       "    <tr>\n",
       "      <th>meta_3_para</th>\n",
       "      <td>1.0</td>\n",
       "      <td>0</td>\n",
       "    </tr>\n",
       "    <tr>\n",
       "      <th>enzyme_reaction_0_para</th>\n",
       "      <td>1.0</td>\n",
       "      <td>1.0</td>\n",
       "    </tr>\n",
       "    <tr>\n",
       "      <th>enzyme_reaction_1_para</th>\n",
       "      <td>1.0</td>\n",
       "      <td>1.0</td>\n",
       "    </tr>\n",
       "    <tr>\n",
       "      <th>enzyme_reaction_2_para</th>\n",
       "      <td>1.0</td>\n",
       "      <td>1.0</td>\n",
       "    </tr>\n",
       "  </tbody>\n",
       "</table>\n",
       "</div>"
      ],
      "text/plain": [
       "                       Mean values Standard deviation\n",
       "meta_0_para                    1.0                  0\n",
       "meta_3_para                    1.0                  0\n",
       "enzyme_reaction_0_para         1.0                1.0\n",
       "enzyme_reaction_1_para         1.0                1.0\n",
       "enzyme_reaction_2_para         1.0                1.0"
      ]
     },
     "execution_count": 9,
     "metadata": {},
     "output_type": "execute_result"
    }
   ],
   "source": [
    "model.parameters.df"
   ]
  },
  {
   "cell_type": "code",
   "execution_count": 10,
   "metadata": {},
   "outputs": [],
   "source": [
    "model.parameters.change(\"enzyme_reaction_0_para\", SD=1.)\n",
    "model.parameters.change(\"enzyme_reaction_1_para\", SD=1.)\n",
    "model.parameters.change(\"enzyme_reaction_2_para\", SD=1.)\n",
    "model.parameters.change(\"meta_0_para\", SD=1.)\n",
    "model.parameters.change(\"meta_3_para\", SD=1.)"
   ]
  },
  {
   "cell_type": "code",
   "execution_count": 11,
   "metadata": {},
   "outputs": [],
   "source": [
    "model.regulations.add(\"reg1\", \"reaction_0\", \"meta_2\", coefficient=-.5)"
   ]
  },
  {
   "cell_type": "code",
   "execution_count": 12,
   "metadata": {},
   "outputs": [
    {
     "data": {
      "image/png": "[encoded data removed]",
      "text/plain": [
       "<Figure size 640x480 with 2 Axes>"
      ]
     },
     "metadata": {},
     "output_type": "display_data"
    },
    {
     "data": {
      "text/plain": [
       "(<Figure size 640x480 with 2 Axes>,\n",
       " <AxesSubplot: title={'center': 'Correlation'}>,\n",
       " <matplotlib.image.AxesImage at 0x70ff30555510>)"
      ]
     },
     "execution_count": 12,
     "metadata": {},
     "output_type": "execute_result"
    }
   ],
   "source": [
    "model.plot(result=\"rho\")"
   ]
  },
  {
   "cell_type": "markdown",
   "metadata": {},
   "source": [
    "By default, the first and last metabolites are external"
   ]
  },
  {
   "cell_type": "code",
   "execution_count": 13,
   "metadata": {},
   "outputs": [
    {
     "ename": "LinAlgError",
     "evalue": "Singular matrix",
     "output_type": "error",
     "traceback": [
      "\u001b[0;31m---------------------------------------------------------------------------\u001b[0m",
      "\u001b[0;31mLinAlgError\u001b[0m                               Traceback (most recent call last)",
      "Cell \u001b[0;32mIn [13], line 1\u001b[0m\n\u001b[0;32m----> 1\u001b[0m model\u001b[38;5;241m.\u001b[39mgraphic_interface()\n",
      "File \u001b[0;32m~/Documents/BadAss/Notebooks/../main.py:2099\u001b[0m, in \u001b[0;36mMODEL.graphic_interface\u001b[0;34m(self)\u001b[0m\n\u001b[1;32m   2096\u001b[0m update_button\u001b[38;5;241m.\u001b[39mpack(side\u001b[38;5;241m=\u001b[39mtk\u001b[38;5;241m.\u001b[39mLEFT, padx\u001b[38;5;241m=\u001b[39m\u001b[38;5;241m10\u001b[39m, pady\u001b[38;5;241m=\u001b[39m\u001b[38;5;241m10\u001b[39m)\n\u001b[1;32m   2098\u001b[0m \u001b[38;5;66;03m# Mettre à jour le graphique initial\u001b[39;00m\n\u001b[0;32m-> 2099\u001b[0m \u001b[43mupdate_plot\u001b[49m\u001b[43m(\u001b[49m\u001b[43m)\u001b[49m\n\u001b[1;32m   2101\u001b[0m \u001b[38;5;66;03m# Lancer la boucle principale\u001b[39;00m\n\u001b[1;32m   2102\u001b[0m root\u001b[38;5;241m.\u001b[39mmainloop()\n",
      "File \u001b[0;32m~/Documents/BadAss/Notebooks/../main.py:1974\u001b[0m, in \u001b[0;36mMODEL.graphic_interface.<locals>.update_plot\u001b[0;34m(*args)\u001b[0m\n\u001b[1;32m   1971\u001b[0m     widget\u001b[38;5;241m.\u001b[39mdestroy()\n\u001b[1;32m   1973\u001b[0m \u001b[38;5;66;03m# Then we recover the values that we want to plot by the call of the group_entropy_fixed_vector function\u001b[39;00m\n\u001b[0;32m-> 1974\u001b[0m SD_df, mean_df \u001b[38;5;241m=\u001b[39m \u001b[38;5;28;43mself\u001b[39;49m\u001b[38;5;241;43m.\u001b[39;49m\u001b[43mgroup_entropy_fixed_vector\u001b[49m\u001b[43m(\u001b[49m\u001b[43melements_to_fixe\u001b[49m\u001b[38;5;241;43m=\u001b[39;49m\u001b[43m[\u001b[49m\u001b[43mfixed_element\u001b[49m\u001b[43m]\u001b[49m\u001b[43m,\u001b[49m\u001b[43m \u001b[49m\u001b[43melements_to_study\u001b[49m\u001b[38;5;241;43m=\u001b[39;49m\u001b[43m[\u001b[49m\u001b[43m]\u001b[49m\u001b[43m,\u001b[49m\u001b[43m \u001b[49m\u001b[43mnew_mean_fixed\u001b[49m\u001b[38;5;241;43m=\u001b[39;49m\u001b[43m[\u001b[49m\u001b[43mfixed_value\u001b[49m\u001b[43m]\u001b[49m\u001b[43m,\u001b[49m\u001b[43m \u001b[49m\u001b[43mreturn_all\u001b[49m\u001b[38;5;241;43m=\u001b[39;49m\u001b[38;5;28;43;01mTrue\u001b[39;49;00m\u001b[43m)\u001b[49m\n\u001b[1;32m   1976\u001b[0m \u001b[38;5;66;03m# initialisation of the lists that will contain all the data for the plot\u001b[39;00m\n\u001b[1;32m   1977\u001b[0m data_plot \u001b[38;5;241m=\u001b[39m []\n",
      "File \u001b[0;32m~/Documents/BadAss/Notebooks/../main.py:1408\u001b[0m, in \u001b[0;36mMODEL.group_entropy_fixed_vector\u001b[0;34m(self, elements_to_fixe, elements_to_study, new_mean_fixed, return_all, plot)\u001b[0m\n\u001b[1;32m   1404\u001b[0m Cov_fs \u001b[38;5;241m=\u001b[39m Cov_sf\u001b[38;5;241m.\u001b[39mT\n\u001b[1;32m   1407\u001b[0m \u001b[38;5;66;03m# The targeted covariance matrix of the studied elements in the case where there is a fixed vector\u001b[39;00m\n\u001b[0;32m-> 1408\u001b[0m Cov_ss_f \u001b[38;5;241m=\u001b[39m Cov_ss \u001b[38;5;241m-\u001b[39m np\u001b[38;5;241m.\u001b[39mdot(Cov_sf, np\u001b[38;5;241m.\u001b[39mdot(\u001b[43mnp\u001b[49m\u001b[38;5;241;43m.\u001b[39;49m\u001b[43mlinalg\u001b[49m\u001b[38;5;241;43m.\u001b[39;49m\u001b[43minv\u001b[49m\u001b[43m(\u001b[49m\u001b[43mCov_ff\u001b[49m\u001b[43m)\u001b[49m, Cov_fs))\n\u001b[1;32m   1410\u001b[0m vec_h \u001b[38;5;241m=\u001b[39m []\n\u001b[1;32m   1411\u001b[0m \u001b[38;5;28;01mfor\u001b[39;00m i \u001b[38;5;129;01min\u001b[39;00m \u001b[38;5;28mrange\u001b[39m(\u001b[38;5;28mlen\u001b[39m(Cov_ss_f)):\n",
      "File \u001b[0;32m<__array_function__ internals>:180\u001b[0m, in \u001b[0;36minv\u001b[0;34m(*args, **kwargs)\u001b[0m\n",
      "File \u001b[0;32m~/.local/lib/python3.10/site-packages/numpy/linalg/linalg.py:552\u001b[0m, in \u001b[0;36minv\u001b[0;34m(a)\u001b[0m\n\u001b[1;32m    550\u001b[0m signature \u001b[38;5;241m=\u001b[39m \u001b[38;5;124m'\u001b[39m\u001b[38;5;124mD->D\u001b[39m\u001b[38;5;124m'\u001b[39m \u001b[38;5;28;01mif\u001b[39;00m isComplexType(t) \u001b[38;5;28;01melse\u001b[39;00m \u001b[38;5;124m'\u001b[39m\u001b[38;5;124md->d\u001b[39m\u001b[38;5;124m'\u001b[39m\n\u001b[1;32m    551\u001b[0m extobj \u001b[38;5;241m=\u001b[39m get_linalg_error_extobj(_raise_linalgerror_singular)\n\u001b[0;32m--> 552\u001b[0m ainv \u001b[38;5;241m=\u001b[39m \u001b[43m_umath_linalg\u001b[49m\u001b[38;5;241;43m.\u001b[39;49m\u001b[43minv\u001b[49m\u001b[43m(\u001b[49m\u001b[43ma\u001b[49m\u001b[43m,\u001b[49m\u001b[43m \u001b[49m\u001b[43msignature\u001b[49m\u001b[38;5;241;43m=\u001b[39;49m\u001b[43msignature\u001b[49m\u001b[43m,\u001b[49m\u001b[43m \u001b[49m\u001b[43mextobj\u001b[49m\u001b[38;5;241;43m=\u001b[39;49m\u001b[43mextobj\u001b[49m\u001b[43m)\u001b[49m\n\u001b[1;32m    553\u001b[0m \u001b[38;5;28;01mreturn\u001b[39;00m wrap(ainv\u001b[38;5;241m.\u001b[39mastype(result_t, copy\u001b[38;5;241m=\u001b[39m\u001b[38;5;28;01mFalse\u001b[39;00m))\n",
      "File \u001b[0;32m~/.local/lib/python3.10/site-packages/numpy/linalg/linalg.py:89\u001b[0m, in \u001b[0;36m_raise_linalgerror_singular\u001b[0;34m(err, flag)\u001b[0m\n\u001b[1;32m     88\u001b[0m \u001b[38;5;28;01mdef\u001b[39;00m \u001b[38;5;21m_raise_linalgerror_singular\u001b[39m(err, flag):\n\u001b[0;32m---> 89\u001b[0m     \u001b[38;5;28;01mraise\u001b[39;00m LinAlgError(\u001b[38;5;124m\"\u001b[39m\u001b[38;5;124mSingular matrix\u001b[39m\u001b[38;5;124m\"\u001b[39m)\n",
      "\u001b[0;31mLinAlgError\u001b[0m: Singular matrix"
     ]
    }
   ],
   "source": [
    "model.graphic_interface()"
   ]
  },
  {
   "cell_type": "code",
   "execution_count": 12,
   "metadata": {},
   "outputs": [
    {
     "name": "stderr",
     "output_type": "stream",
     "text": [
      "/tmp/ipykernel_24362/157585696.py:16: RuntimeWarning: invalid value encountered in log\n",
      "  y_H = [np.log(2*np.pi*np.e) + np.log(x_i-mu) for x_i in x]\n"
     ]
    },
    {
     "data": {
      "image/png": "[encoded data removed]",
      "text/plain": [
       "<Figure size 640x480 with 1 Axes>"
      ]
     },
     "metadata": {},
     "output_type": "display_data"
    }
   ],
   "source": [
    "import numpy as np\n",
    "import matplotlib.pyplot as plt\n",
    "from scipy.stats import norm\n",
    "\n",
    "N = 1000\n",
    "# Paramètres de la distribution normale\n",
    "mu = 1    # moyenne\n",
    "sigma = 1 # écart-type\n",
    "\n",
    "# Générer les données pour l'axe x (valeurs de la variable aléatoire)\n",
    "x = np.linspace(mu - 4*sigma, mu + 4*sigma, N)\n",
    "\n",
    "# Calculer la densité de probabilité pour chaque valeur de x\n",
    "y_normal = norm.pdf(x, mu, sigma)\n",
    "\n",
    "y_H = [np.log(2*np.pi*np.e) + np.log(x_i-mu) for x_i in x]\n",
    "\n",
    "# Tracer la courbe\n",
    "plt.plot(x, y_normal, label=f'Normal(μ={mu}, σ={sigma})')\n",
    "plt.plot(x, y_H, label=f'Normal(μ={mu}, σ={sigma})')\n",
    "\n",
    "# Ajouter des labels et une légende\n",
    "plt.title('Fonction de densité de probabilité d\\'une distribution normale')\n",
    "plt.xlabel('x')\n",
    "plt.ylabel('Densité de probabilité')\n",
    "plt.legend()\n",
    "\n",
    "# Afficher le graphique\n",
    "plt.show()"
   ]
  },
  {
   "cell_type": "code",
   "execution_count": 8,
   "metadata": {},
   "outputs": [
    {
     "ename": "SyntaxError",
     "evalue": "invalid syntax (3346595981.py, line 1)",
     "output_type": "error",
     "traceback": [
      "\u001b[0;36m  Cell \u001b[0;32mIn [8], line 1\u001b[0;36m\u001b[0m\n\u001b[0;31m    fzerht:;\u001b[0m\n\u001b[0m           ^\u001b[0m\n\u001b[0;31mSyntaxError\u001b[0m\u001b[0;31m:\u001b[0m invalid syntax\n"
     ]
    }
   ],
   "source": [
    "fzerht:;"
   ]
  },
  {
   "cell_type": "code",
   "execution_count": 4,
   "metadata": {},
   "outputs": [
    {
     "data": {
      "text/html": [
       "<div>\n",
       "<style scoped>\n",
       "    .dataframe tbody tr th:only-of-type {\n",
       "        vertical-align: middle;\n",
       "    }\n",
       "\n",
       "    .dataframe tbody tr th {\n",
       "        vertical-align: top;\n",
       "    }\n",
       "\n",
       "    .dataframe thead th {\n",
       "        text-align: right;\n",
       "    }\n",
       "</style>\n",
       "<table border=\"1\" class=\"dataframe\">\n",
       "  <thead>\n",
       "    <tr style=\"text-align: right;\">\n",
       "      <th></th>\n",
       "      <th>External</th>\n",
       "      <th>Concentration</th>\n",
       "      <th>Unit</th>\n",
       "    </tr>\n",
       "  </thead>\n",
       "  <tbody>\n",
       "    <tr>\n",
       "      <th>meta_0</th>\n",
       "      <td>True</td>\n",
       "      <td>1.0</td>\n",
       "      <td>mmol/gDW</td>\n",
       "    </tr>\n",
       "    <tr>\n",
       "      <th>meta_1</th>\n",
       "      <td>False</td>\n",
       "      <td>1.0</td>\n",
       "      <td>mmol/gDW</td>\n",
       "    </tr>\n",
       "    <tr>\n",
       "      <th>meta_2</th>\n",
       "      <td>False</td>\n",
       "      <td>1.0</td>\n",
       "      <td>mmol/gDW</td>\n",
       "    </tr>\n",
       "    <tr>\n",
       "      <th>meta_3</th>\n",
       "      <td>True</td>\n",
       "      <td>1.0</td>\n",
       "      <td>mmol/gDW</td>\n",
       "    </tr>\n",
       "  </tbody>\n",
       "</table>\n",
       "</div>"
      ],
      "text/plain": [
       "        External  Concentration      Unit\n",
       "meta_0      True            1.0  mmol/gDW\n",
       "meta_1     False            1.0  mmol/gDW\n",
       "meta_2     False            1.0  mmol/gDW\n",
       "meta_3      True            1.0  mmol/gDW"
      ]
     },
     "execution_count": 4,
     "metadata": {},
     "output_type": "execute_result"
    }
   ],
   "source": [
    "model.metabolites.df"
   ]
  },
  {
   "cell_type": "code",
   "execution_count": 5,
   "metadata": {},
   "outputs": [
    {
     "data": {
      "text/html": [
       "<div>\n",
       "<style scoped>\n",
       "    .dataframe tbody tr th:only-of-type {\n",
       "        vertical-align: middle;\n",
       "    }\n",
       "\n",
       "    .dataframe tbody tr th {\n",
       "        vertical-align: top;\n",
       "    }\n",
       "\n",
       "    .dataframe thead th {\n",
       "        text-align: right;\n",
       "    }\n",
       "</style>\n",
       "<table border=\"1\" class=\"dataframe\">\n",
       "  <thead>\n",
       "    <tr style=\"text-align: right;\">\n",
       "      <th></th>\n",
       "      <th>Metabolites</th>\n",
       "      <th>Equilibrium constant</th>\n",
       "      <th>Reversible</th>\n",
       "      <th>Flux</th>\n",
       "      <th>Unit</th>\n",
       "    </tr>\n",
       "  </thead>\n",
       "  <tbody>\n",
       "    <tr>\n",
       "      <th>reaction_0</th>\n",
       "      <td>{'meta_0': -1, 'meta_1': 1}</td>\n",
       "      <td>1.0</td>\n",
       "      <td>True</td>\n",
       "      <td>1.0</td>\n",
       "      <td>mmol/gDW/h</td>\n",
       "    </tr>\n",
       "    <tr>\n",
       "      <th>reaction_1</th>\n",
       "      <td>{'meta_1': -1, 'meta_2': 1}</td>\n",
       "      <td>1.0</td>\n",
       "      <td>True</td>\n",
       "      <td>1.0</td>\n",
       "      <td>mmol/gDW/h</td>\n",
       "    </tr>\n",
       "    <tr>\n",
       "      <th>reaction_2</th>\n",
       "      <td>{'meta_2': -1, 'meta_3': 1}</td>\n",
       "      <td>1.0</td>\n",
       "      <td>True</td>\n",
       "      <td>1.0</td>\n",
       "      <td>mmol/gDW/h</td>\n",
       "    </tr>\n",
       "  </tbody>\n",
       "</table>\n",
       "</div>"
      ],
      "text/plain": [
       "                            Metabolites  Equilibrium constant  Reversible  \\\n",
       "reaction_0  {'meta_0': -1, 'meta_1': 1}                   1.0        True   \n",
       "reaction_1  {'meta_1': -1, 'meta_2': 1}                   1.0        True   \n",
       "reaction_2  {'meta_2': -1, 'meta_3': 1}                   1.0        True   \n",
       "\n",
       "            Flux        Unit  \n",
       "reaction_0   1.0  mmol/gDW/h  \n",
       "reaction_1   1.0  mmol/gDW/h  \n",
       "reaction_2   1.0  mmol/gDW/h  "
      ]
     },
     "execution_count": 5,
     "metadata": {},
     "output_type": "execute_result"
    }
   ],
   "source": [
    "model.reactions.df"
   ]
  },
  {
   "cell_type": "markdown",
   "metadata": {},
   "source": [
    "The stoichiometric matrix is already build"
   ]
  },
  {
   "cell_type": "code",
   "execution_count": 6,
   "metadata": {},
   "outputs": [
    {
     "data": {
      "text/html": [
       "<div>\n",
       "<style scoped>\n",
       "    .dataframe tbody tr th:only-of-type {\n",
       "        vertical-align: middle;\n",
       "    }\n",
       "\n",
       "    .dataframe tbody tr th {\n",
       "        vertical-align: top;\n",
       "    }\n",
       "\n",
       "    .dataframe thead th {\n",
       "        text-align: right;\n",
       "    }\n",
       "</style>\n",
       "<table border=\"1\" class=\"dataframe\">\n",
       "  <thead>\n",
       "    <tr style=\"text-align: right;\">\n",
       "      <th></th>\n",
       "      <th>reaction_0</th>\n",
       "      <th>reaction_1</th>\n",
       "      <th>reaction_2</th>\n",
       "    </tr>\n",
       "  </thead>\n",
       "  <tbody>\n",
       "    <tr>\n",
       "      <th>meta_0</th>\n",
       "      <td>-1</td>\n",
       "      <td>0</td>\n",
       "      <td>0</td>\n",
       "    </tr>\n",
       "    <tr>\n",
       "      <th>meta_1</th>\n",
       "      <td>1</td>\n",
       "      <td>-1</td>\n",
       "      <td>0</td>\n",
       "    </tr>\n",
       "    <tr>\n",
       "      <th>meta_2</th>\n",
       "      <td>0</td>\n",
       "      <td>1</td>\n",
       "      <td>-1</td>\n",
       "    </tr>\n",
       "    <tr>\n",
       "      <th>meta_3</th>\n",
       "      <td>0</td>\n",
       "      <td>0</td>\n",
       "      <td>1</td>\n",
       "    </tr>\n",
       "  </tbody>\n",
       "</table>\n",
       "</div>"
      ],
      "text/plain": [
       "        reaction_0  reaction_1  reaction_2\n",
       "meta_0          -1           0           0\n",
       "meta_1           1          -1           0\n",
       "meta_2           0           1          -1\n",
       "meta_3           0           0           1"
      ]
     },
     "execution_count": 6,
     "metadata": {},
     "output_type": "execute_result"
    }
   ],
   "source": [
    "model.N"
   ]
  },
  {
   "cell_type": "markdown",
   "metadata": {},
   "source": [
    "You can also load models from SBML, COBRA and SBTAB with model.load..."
   ]
  },
  {
   "cell_type": "markdown",
   "metadata": {},
   "source": [
    "## <font color='green'> [1.4] Change a reaction and metabolite </font> "
   ]
  },
  {
   "cell_type": "markdown",
   "metadata": {},
   "source": [
    "Modifying the dictionary of the metabolite in the dataframe of reaction change also the dataframes of metabolites and stoichiometry"
   ]
  },
  {
   "cell_type": "code",
   "execution_count": null,
   "metadata": {},
   "outputs": [],
   "source": [
    "model.reactions.change(name=\"reaction_0\", metabolites={'new_meta':-2, 'meta_1':1}, k_eq=1.5, reversible=False, flux=1.5)"
   ]
  },
  {
   "cell_type": "code",
   "execution_count": null,
   "metadata": {},
   "outputs": [
    {
     "data": {
      "text/html": [
       "<div>\n",
       "<style scoped>\n",
       "    .dataframe tbody tr th:only-of-type {\n",
       "        vertical-align: middle;\n",
       "    }\n",
       "\n",
       "    .dataframe tbody tr th {\n",
       "        vertical-align: top;\n",
       "    }\n",
       "\n",
       "    .dataframe thead th {\n",
       "        text-align: right;\n",
       "    }\n",
       "</style>\n",
       "<table border=\"1\" class=\"dataframe\">\n",
       "  <thead>\n",
       "    <tr style=\"text-align: right;\">\n",
       "      <th></th>\n",
       "      <th>Metabolites</th>\n",
       "      <th>Equilibrium constant</th>\n",
       "      <th>Reversible</th>\n",
       "      <th>Flux</th>\n",
       "      <th>Unit</th>\n",
       "    </tr>\n",
       "  </thead>\n",
       "  <tbody>\n",
       "    <tr>\n",
       "      <th>reaction_0</th>\n",
       "      <td>{'new_meta': -2, 'meta_1': 1}</td>\n",
       "      <td>1.5</td>\n",
       "      <td>False</td>\n",
       "      <td>1.5</td>\n",
       "      <td>mmol/gDW/h</td>\n",
       "    </tr>\n",
       "    <tr>\n",
       "      <th>reaction_1</th>\n",
       "      <td>{'meta_1': -1, 'meta_2': 1}</td>\n",
       "      <td>1.0</td>\n",
       "      <td>True</td>\n",
       "      <td>1.0</td>\n",
       "      <td>mmol/gDW/h</td>\n",
       "    </tr>\n",
       "    <tr>\n",
       "      <th>reaction_2</th>\n",
       "      <td>{'meta_2': -1, 'meta_3': 1}</td>\n",
       "      <td>1.0</td>\n",
       "      <td>True</td>\n",
       "      <td>1.0</td>\n",
       "      <td>mmol/gDW/h</td>\n",
       "    </tr>\n",
       "  </tbody>\n",
       "</table>\n",
       "</div>"
      ],
      "text/plain": [
       "                              Metabolites  Equilibrium constant  Reversible  \\\n",
       "reaction_0  {'new_meta': -2, 'meta_1': 1}                   1.5       False   \n",
       "reaction_1    {'meta_1': -1, 'meta_2': 1}                   1.0        True   \n",
       "reaction_2    {'meta_2': -1, 'meta_3': 1}                   1.0        True   \n",
       "\n",
       "            Flux        Unit  \n",
       "reaction_0   1.5  mmol/gDW/h  \n",
       "reaction_1   1.0  mmol/gDW/h  \n",
       "reaction_2   1.0  mmol/gDW/h  "
      ]
     },
     "execution_count": 8,
     "metadata": {},
     "output_type": "execute_result"
    }
   ],
   "source": [
    "model.reactions.df"
   ]
  },
  {
   "cell_type": "code",
   "execution_count": null,
   "metadata": {},
   "outputs": [
    {
     "data": {
      "text/html": [
       "<div>\n",
       "<style scoped>\n",
       "    .dataframe tbody tr th:only-of-type {\n",
       "        vertical-align: middle;\n",
       "    }\n",
       "\n",
       "    .dataframe tbody tr th {\n",
       "        vertical-align: top;\n",
       "    }\n",
       "\n",
       "    .dataframe thead th {\n",
       "        text-align: right;\n",
       "    }\n",
       "</style>\n",
       "<table border=\"1\" class=\"dataframe\">\n",
       "  <thead>\n",
       "    <tr style=\"text-align: right;\">\n",
       "      <th></th>\n",
       "      <th>External</th>\n",
       "      <th>Concentration</th>\n",
       "      <th>Unit</th>\n",
       "    </tr>\n",
       "  </thead>\n",
       "  <tbody>\n",
       "    <tr>\n",
       "      <th>meta_0</th>\n",
       "      <td>True</td>\n",
       "      <td>1.0</td>\n",
       "      <td>mmol/gDW</td>\n",
       "    </tr>\n",
       "    <tr>\n",
       "      <th>meta_1</th>\n",
       "      <td>False</td>\n",
       "      <td>1.0</td>\n",
       "      <td>mmol/gDW</td>\n",
       "    </tr>\n",
       "    <tr>\n",
       "      <th>meta_2</th>\n",
       "      <td>False</td>\n",
       "      <td>1.0</td>\n",
       "      <td>mmol/gDW</td>\n",
       "    </tr>\n",
       "    <tr>\n",
       "      <th>meta_3</th>\n",
       "      <td>True</td>\n",
       "      <td>1.0</td>\n",
       "      <td>mmol/gDW</td>\n",
       "    </tr>\n",
       "    <tr>\n",
       "      <th>new_meta</th>\n",
       "      <td>False</td>\n",
       "      <td>1.0</td>\n",
       "      <td>mmol/gDW</td>\n",
       "    </tr>\n",
       "  </tbody>\n",
       "</table>\n",
       "</div>"
      ],
      "text/plain": [
       "          External  Concentration      Unit\n",
       "meta_0        True            1.0  mmol/gDW\n",
       "meta_1       False            1.0  mmol/gDW\n",
       "meta_2       False            1.0  mmol/gDW\n",
       "meta_3        True            1.0  mmol/gDW\n",
       "new_meta     False            1.0  mmol/gDW"
      ]
     },
     "execution_count": 9,
     "metadata": {},
     "output_type": "execute_result"
    }
   ],
   "source": [
    "model.metabolites.df"
   ]
  },
  {
   "cell_type": "code",
   "execution_count": null,
   "metadata": {},
   "outputs": [
    {
     "data": {
      "text/html": [
       "<div>\n",
       "<style scoped>\n",
       "    .dataframe tbody tr th:only-of-type {\n",
       "        vertical-align: middle;\n",
       "    }\n",
       "\n",
       "    .dataframe tbody tr th {\n",
       "        vertical-align: top;\n",
       "    }\n",
       "\n",
       "    .dataframe thead th {\n",
       "        text-align: right;\n",
       "    }\n",
       "</style>\n",
       "<table border=\"1\" class=\"dataframe\">\n",
       "  <thead>\n",
       "    <tr style=\"text-align: right;\">\n",
       "      <th></th>\n",
       "      <th>reaction_0</th>\n",
       "      <th>reaction_1</th>\n",
       "      <th>reaction_2</th>\n",
       "    </tr>\n",
       "  </thead>\n",
       "  <tbody>\n",
       "    <tr>\n",
       "      <th>meta_0</th>\n",
       "      <td>0.0</td>\n",
       "      <td>0.0</td>\n",
       "      <td>0.0</td>\n",
       "    </tr>\n",
       "    <tr>\n",
       "      <th>meta_1</th>\n",
       "      <td>1.0</td>\n",
       "      <td>-1.0</td>\n",
       "      <td>0.0</td>\n",
       "    </tr>\n",
       "    <tr>\n",
       "      <th>meta_2</th>\n",
       "      <td>0.0</td>\n",
       "      <td>1.0</td>\n",
       "      <td>-1.0</td>\n",
       "    </tr>\n",
       "    <tr>\n",
       "      <th>meta_3</th>\n",
       "      <td>0.0</td>\n",
       "      <td>0.0</td>\n",
       "      <td>1.0</td>\n",
       "    </tr>\n",
       "    <tr>\n",
       "      <th>new_meta</th>\n",
       "      <td>-2.0</td>\n",
       "      <td>0.0</td>\n",
       "      <td>0.0</td>\n",
       "    </tr>\n",
       "  </tbody>\n",
       "</table>\n",
       "</div>"
      ],
      "text/plain": [
       "          reaction_0  reaction_1  reaction_2\n",
       "meta_0           0.0         0.0         0.0\n",
       "meta_1           1.0        -1.0         0.0\n",
       "meta_2           0.0         1.0        -1.0\n",
       "meta_3           0.0         0.0         1.0\n",
       "new_meta        -2.0         0.0         0.0"
      ]
     },
     "execution_count": 10,
     "metadata": {},
     "output_type": "execute_result"
    }
   ],
   "source": [
    "model.N"
   ]
  },
  {
   "cell_type": "markdown",
   "metadata": {},
   "source": [
    "The same for the metabolite"
   ]
  },
  {
   "cell_type": "code",
   "execution_count": null,
   "metadata": {},
   "outputs": [],
   "source": [
    "model.metabolites.change(\"meta_0\", concentration=2.0)"
   ]
  },
  {
   "cell_type": "code",
   "execution_count": null,
   "metadata": {},
   "outputs": [
    {
     "data": {
      "text/html": [
       "<div>\n",
       "<style scoped>\n",
       "    .dataframe tbody tr th:only-of-type {\n",
       "        vertical-align: middle;\n",
       "    }\n",
       "\n",
       "    .dataframe tbody tr th {\n",
       "        vertical-align: top;\n",
       "    }\n",
       "\n",
       "    .dataframe thead th {\n",
       "        text-align: right;\n",
       "    }\n",
       "</style>\n",
       "<table border=\"1\" class=\"dataframe\">\n",
       "  <thead>\n",
       "    <tr style=\"text-align: right;\">\n",
       "      <th></th>\n",
       "      <th>External</th>\n",
       "      <th>Concentration</th>\n",
       "      <th>Unit</th>\n",
       "    </tr>\n",
       "  </thead>\n",
       "  <tbody>\n",
       "    <tr>\n",
       "      <th>meta_0</th>\n",
       "      <td>True</td>\n",
       "      <td>2.0</td>\n",
       "      <td>mmol/gDW</td>\n",
       "    </tr>\n",
       "    <tr>\n",
       "      <th>meta_1</th>\n",
       "      <td>False</td>\n",
       "      <td>1.0</td>\n",
       "      <td>mmol/gDW</td>\n",
       "    </tr>\n",
       "    <tr>\n",
       "      <th>meta_2</th>\n",
       "      <td>False</td>\n",
       "      <td>1.0</td>\n",
       "      <td>mmol/gDW</td>\n",
       "    </tr>\n",
       "    <tr>\n",
       "      <th>meta_3</th>\n",
       "      <td>True</td>\n",
       "      <td>1.0</td>\n",
       "      <td>mmol/gDW</td>\n",
       "    </tr>\n",
       "    <tr>\n",
       "      <th>new_meta</th>\n",
       "      <td>False</td>\n",
       "      <td>1.0</td>\n",
       "      <td>mmol/gDW</td>\n",
       "    </tr>\n",
       "  </tbody>\n",
       "</table>\n",
       "</div>"
      ],
      "text/plain": [
       "          External  Concentration      Unit\n",
       "meta_0        True            2.0  mmol/gDW\n",
       "meta_1       False            1.0  mmol/gDW\n",
       "meta_2       False            1.0  mmol/gDW\n",
       "meta_3        True            1.0  mmol/gDW\n",
       "new_meta     False            1.0  mmol/gDW"
      ]
     },
     "execution_count": 12,
     "metadata": {},
     "output_type": "execute_result"
    }
   ],
   "source": [
    "model.metabolites.df"
   ]
  },
  {
   "cell_type": "markdown",
   "metadata": {},
   "source": [
    "## <font color='green'> [1.5] Add reaction and metabolite </font> "
   ]
  },
  {
   "cell_type": "markdown",
   "metadata": {},
   "source": [
    "To add a reaction, only its name as input is indispensable, but adding a dictionary of the metabolite used in the reaction as a key linked to their stoichiometric coefficients allows the module to add automatically those metabolites to the metabolite dataframe and their coefficient to the stoichiometric matrix"
   ]
  },
  {
   "cell_type": "code",
   "execution_count": null,
   "metadata": {},
   "outputs": [],
   "source": [
    "model.metabolites.add(name = \"H2O\", external = True, concentration = 1.0)\n",
    "\n",
    "metabolite_reaction = {\"H2O\" : 1.0,\n",
    "                       \"H2\"  :-1.0,\n",
    "                       \"O2\"  :-0.5}\n",
    "\n",
    "model.reactions.add(name = \"combustion\", metabolites = metabolite_reaction, k_eq = 1.0, flux=1.0)"
   ]
  },
  {
   "cell_type": "code",
   "execution_count": null,
   "metadata": {},
   "outputs": [
    {
     "data": {
      "text/html": [
       "<div>\n",
       "<style scoped>\n",
       "    .dataframe tbody tr th:only-of-type {\n",
       "        vertical-align: middle;\n",
       "    }\n",
       "\n",
       "    .dataframe tbody tr th {\n",
       "        vertical-align: top;\n",
       "    }\n",
       "\n",
       "    .dataframe thead th {\n",
       "        text-align: right;\n",
       "    }\n",
       "</style>\n",
       "<table border=\"1\" class=\"dataframe\">\n",
       "  <thead>\n",
       "    <tr style=\"text-align: right;\">\n",
       "      <th></th>\n",
       "      <th>External</th>\n",
       "      <th>Concentration</th>\n",
       "      <th>Unit</th>\n",
       "    </tr>\n",
       "  </thead>\n",
       "  <tbody>\n",
       "    <tr>\n",
       "      <th>meta_0</th>\n",
       "      <td>True</td>\n",
       "      <td>2.0</td>\n",
       "      <td>mmol/gDW</td>\n",
       "    </tr>\n",
       "    <tr>\n",
       "      <th>meta_1</th>\n",
       "      <td>False</td>\n",
       "      <td>1.0</td>\n",
       "      <td>mmol/gDW</td>\n",
       "    </tr>\n",
       "    <tr>\n",
       "      <th>meta_2</th>\n",
       "      <td>False</td>\n",
       "      <td>1.0</td>\n",
       "      <td>mmol/gDW</td>\n",
       "    </tr>\n",
       "    <tr>\n",
       "      <th>meta_3</th>\n",
       "      <td>True</td>\n",
       "      <td>1.0</td>\n",
       "      <td>mmol/gDW</td>\n",
       "    </tr>\n",
       "    <tr>\n",
       "      <th>new_meta</th>\n",
       "      <td>False</td>\n",
       "      <td>1.0</td>\n",
       "      <td>mmol/gDW</td>\n",
       "    </tr>\n",
       "    <tr>\n",
       "      <th>H2O</th>\n",
       "      <td>True</td>\n",
       "      <td>1.0</td>\n",
       "      <td>mmol/gDW</td>\n",
       "    </tr>\n",
       "    <tr>\n",
       "      <th>H2</th>\n",
       "      <td>False</td>\n",
       "      <td>1.0</td>\n",
       "      <td>mmol/gDW</td>\n",
       "    </tr>\n",
       "    <tr>\n",
       "      <th>O2</th>\n",
       "      <td>False</td>\n",
       "      <td>1.0</td>\n",
       "      <td>mmol/gDW</td>\n",
       "    </tr>\n",
       "  </tbody>\n",
       "</table>\n",
       "</div>"
      ],
      "text/plain": [
       "          External  Concentration      Unit\n",
       "meta_0        True            2.0  mmol/gDW\n",
       "meta_1       False            1.0  mmol/gDW\n",
       "meta_2       False            1.0  mmol/gDW\n",
       "meta_3        True            1.0  mmol/gDW\n",
       "new_meta     False            1.0  mmol/gDW\n",
       "H2O           True            1.0  mmol/gDW\n",
       "H2           False            1.0  mmol/gDW\n",
       "O2           False            1.0  mmol/gDW"
      ]
     },
     "execution_count": 14,
     "metadata": {},
     "output_type": "execute_result"
    }
   ],
   "source": [
    "model.metabolites.df"
   ]
  },
  {
   "cell_type": "markdown",
   "metadata": {},
   "source": [
    "If you add a reaction that is already in the model, it is called the model. reactions.change() instead "
   ]
  },
  {
   "cell_type": "code",
   "execution_count": null,
   "metadata": {},
   "outputs": [],
   "source": [
    "metabolite_reaction2 = {\"C\" : -1.0,\n",
    "                       \"O2\"  : -1.0,\n",
    "                       \"CO2\"  : 1.0}\n",
    "\n",
    "model.reactions.add(name = \"combustion\", metabolites = metabolite_reaction2, k_eq = 1.0, flux=1.0)"
   ]
  },
  {
   "cell_type": "code",
   "execution_count": null,
   "metadata": {},
   "outputs": [
    {
     "data": {
      "text/html": [
       "<div>\n",
       "<style scoped>\n",
       "    .dataframe tbody tr th:only-of-type {\n",
       "        vertical-align: middle;\n",
       "    }\n",
       "\n",
       "    .dataframe tbody tr th {\n",
       "        vertical-align: top;\n",
       "    }\n",
       "\n",
       "    .dataframe thead th {\n",
       "        text-align: right;\n",
       "    }\n",
       "</style>\n",
       "<table border=\"1\" class=\"dataframe\">\n",
       "  <thead>\n",
       "    <tr style=\"text-align: right;\">\n",
       "      <th></th>\n",
       "      <th>Metabolites</th>\n",
       "      <th>Equilibrium constant</th>\n",
       "      <th>Reversible</th>\n",
       "      <th>Flux</th>\n",
       "      <th>Unit</th>\n",
       "    </tr>\n",
       "  </thead>\n",
       "  <tbody>\n",
       "    <tr>\n",
       "      <th>reaction_0</th>\n",
       "      <td>{'new_meta': -2, 'meta_1': 1}</td>\n",
       "      <td>1.5</td>\n",
       "      <td>False</td>\n",
       "      <td>1.5</td>\n",
       "      <td>mmol/gDW/h</td>\n",
       "    </tr>\n",
       "    <tr>\n",
       "      <th>reaction_1</th>\n",
       "      <td>{'meta_1': -1, 'meta_2': 1}</td>\n",
       "      <td>1.0</td>\n",
       "      <td>True</td>\n",
       "      <td>1.0</td>\n",
       "      <td>mmol/gDW/h</td>\n",
       "    </tr>\n",
       "    <tr>\n",
       "      <th>reaction_2</th>\n",
       "      <td>{'meta_2': -1, 'meta_3': 1}</td>\n",
       "      <td>1.0</td>\n",
       "      <td>True</td>\n",
       "      <td>1.0</td>\n",
       "      <td>mmol/gDW/h</td>\n",
       "    </tr>\n",
       "    <tr>\n",
       "      <th>combustion</th>\n",
       "      <td>{'C': -1.0, 'O2': -1.0, 'CO2': 1.0}</td>\n",
       "      <td>1.0</td>\n",
       "      <td>True</td>\n",
       "      <td>1.0</td>\n",
       "      <td>mmol/gDW/h</td>\n",
       "    </tr>\n",
       "  </tbody>\n",
       "</table>\n",
       "</div>"
      ],
      "text/plain": [
       "                                    Metabolites  Equilibrium constant  \\\n",
       "reaction_0        {'new_meta': -2, 'meta_1': 1}                   1.5   \n",
       "reaction_1          {'meta_1': -1, 'meta_2': 1}                   1.0   \n",
       "reaction_2          {'meta_2': -1, 'meta_3': 1}                   1.0   \n",
       "combustion  {'C': -1.0, 'O2': -1.0, 'CO2': 1.0}                   1.0   \n",
       "\n",
       "            Reversible  Flux        Unit  \n",
       "reaction_0       False   1.5  mmol/gDW/h  \n",
       "reaction_1        True   1.0  mmol/gDW/h  \n",
       "reaction_2        True   1.0  mmol/gDW/h  \n",
       "combustion        True   1.0  mmol/gDW/h  "
      ]
     },
     "execution_count": 16,
     "metadata": {},
     "output_type": "execute_result"
    }
   ],
   "source": [
    "model.reactions.df"
   ]
  },
  {
   "cell_type": "markdown",
   "metadata": {},
   "source": [
    "Add a reaction with specified metabolite and stoichiometric coefficient automatically adds them to the model"
   ]
  },
  {
   "cell_type": "code",
   "execution_count": null,
   "metadata": {},
   "outputs": [
    {
     "data": {
      "text/html": [
       "<div>\n",
       "<style scoped>\n",
       "    .dataframe tbody tr th:only-of-type {\n",
       "        vertical-align: middle;\n",
       "    }\n",
       "\n",
       "    .dataframe tbody tr th {\n",
       "        vertical-align: top;\n",
       "    }\n",
       "\n",
       "    .dataframe thead th {\n",
       "        text-align: right;\n",
       "    }\n",
       "</style>\n",
       "<table border=\"1\" class=\"dataframe\">\n",
       "  <thead>\n",
       "    <tr style=\"text-align: right;\">\n",
       "      <th></th>\n",
       "      <th>reaction_0</th>\n",
       "      <th>reaction_1</th>\n",
       "      <th>reaction_2</th>\n",
       "      <th>combustion</th>\n",
       "    </tr>\n",
       "  </thead>\n",
       "  <tbody>\n",
       "    <tr>\n",
       "      <th>meta_0</th>\n",
       "      <td>0.0</td>\n",
       "      <td>0.0</td>\n",
       "      <td>0.0</td>\n",
       "      <td>0.0</td>\n",
       "    </tr>\n",
       "    <tr>\n",
       "      <th>meta_1</th>\n",
       "      <td>1.0</td>\n",
       "      <td>-1.0</td>\n",
       "      <td>0.0</td>\n",
       "      <td>0.0</td>\n",
       "    </tr>\n",
       "    <tr>\n",
       "      <th>meta_2</th>\n",
       "      <td>0.0</td>\n",
       "      <td>1.0</td>\n",
       "      <td>-1.0</td>\n",
       "      <td>0.0</td>\n",
       "    </tr>\n",
       "    <tr>\n",
       "      <th>meta_3</th>\n",
       "      <td>0.0</td>\n",
       "      <td>0.0</td>\n",
       "      <td>1.0</td>\n",
       "      <td>0.0</td>\n",
       "    </tr>\n",
       "    <tr>\n",
       "      <th>new_meta</th>\n",
       "      <td>-2.0</td>\n",
       "      <td>0.0</td>\n",
       "      <td>0.0</td>\n",
       "      <td>0.0</td>\n",
       "    </tr>\n",
       "    <tr>\n",
       "      <th>H2O</th>\n",
       "      <td>0.0</td>\n",
       "      <td>0.0</td>\n",
       "      <td>0.0</td>\n",
       "      <td>0.0</td>\n",
       "    </tr>\n",
       "    <tr>\n",
       "      <th>H2</th>\n",
       "      <td>0.0</td>\n",
       "      <td>0.0</td>\n",
       "      <td>0.0</td>\n",
       "      <td>0.0</td>\n",
       "    </tr>\n",
       "    <tr>\n",
       "      <th>O2</th>\n",
       "      <td>0.0</td>\n",
       "      <td>0.0</td>\n",
       "      <td>0.0</td>\n",
       "      <td>-1.0</td>\n",
       "    </tr>\n",
       "    <tr>\n",
       "      <th>C</th>\n",
       "      <td>0.0</td>\n",
       "      <td>0.0</td>\n",
       "      <td>0.0</td>\n",
       "      <td>-1.0</td>\n",
       "    </tr>\n",
       "    <tr>\n",
       "      <th>CO2</th>\n",
       "      <td>0.0</td>\n",
       "      <td>0.0</td>\n",
       "      <td>0.0</td>\n",
       "      <td>1.0</td>\n",
       "    </tr>\n",
       "  </tbody>\n",
       "</table>\n",
       "</div>"
      ],
      "text/plain": [
       "          reaction_0  reaction_1  reaction_2  combustion\n",
       "meta_0           0.0         0.0         0.0         0.0\n",
       "meta_1           1.0        -1.0         0.0         0.0\n",
       "meta_2           0.0         1.0        -1.0         0.0\n",
       "meta_3           0.0         0.0         1.0         0.0\n",
       "new_meta        -2.0         0.0         0.0         0.0\n",
       "H2O              0.0         0.0         0.0         0.0\n",
       "H2               0.0         0.0         0.0         0.0\n",
       "O2               0.0         0.0         0.0        -1.0\n",
       "C                0.0         0.0         0.0        -1.0\n",
       "CO2              0.0         0.0         0.0         1.0"
      ]
     },
     "execution_count": 17,
     "metadata": {},
     "output_type": "execute_result"
    }
   ],
   "source": [
    "model.N\n",
    "# Same\n",
    "model.Stoichio_matrix_pd"
   ]
  },
  {
   "cell_type": "markdown",
   "metadata": {},
   "source": [
    "## <font color='green'> [1.6] Removing a reaction and metabolite </font> "
   ]
  },
  {
   "cell_type": "markdown",
   "metadata": {},
   "source": [
    "It is also possible to remove a metabolite or a reaction from the model"
   ]
  },
  {
   "cell_type": "code",
   "execution_count": null,
   "metadata": {},
   "outputs": [
    {
     "data": {
      "text/html": [
       "<div>\n",
       "<style scoped>\n",
       "    .dataframe tbody tr th:only-of-type {\n",
       "        vertical-align: middle;\n",
       "    }\n",
       "\n",
       "    .dataframe tbody tr th {\n",
       "        vertical-align: top;\n",
       "    }\n",
       "\n",
       "    .dataframe thead th {\n",
       "        text-align: right;\n",
       "    }\n",
       "</style>\n",
       "<table border=\"1\" class=\"dataframe\">\n",
       "  <thead>\n",
       "    <tr style=\"text-align: right;\">\n",
       "      <th></th>\n",
       "      <th>External</th>\n",
       "      <th>Concentration</th>\n",
       "      <th>Unit</th>\n",
       "    </tr>\n",
       "  </thead>\n",
       "  <tbody>\n",
       "    <tr>\n",
       "      <th>meta_0</th>\n",
       "      <td>True</td>\n",
       "      <td>2.0</td>\n",
       "      <td>mmol/gDW</td>\n",
       "    </tr>\n",
       "    <tr>\n",
       "      <th>meta_1</th>\n",
       "      <td>False</td>\n",
       "      <td>1.0</td>\n",
       "      <td>mmol/gDW</td>\n",
       "    </tr>\n",
       "    <tr>\n",
       "      <th>meta_2</th>\n",
       "      <td>False</td>\n",
       "      <td>1.0</td>\n",
       "      <td>mmol/gDW</td>\n",
       "    </tr>\n",
       "    <tr>\n",
       "      <th>meta_3</th>\n",
       "      <td>True</td>\n",
       "      <td>1.0</td>\n",
       "      <td>mmol/gDW</td>\n",
       "    </tr>\n",
       "    <tr>\n",
       "      <th>new_meta</th>\n",
       "      <td>False</td>\n",
       "      <td>1.0</td>\n",
       "      <td>mmol/gDW</td>\n",
       "    </tr>\n",
       "    <tr>\n",
       "      <th>H2O</th>\n",
       "      <td>True</td>\n",
       "      <td>1.0</td>\n",
       "      <td>mmol/gDW</td>\n",
       "    </tr>\n",
       "    <tr>\n",
       "      <th>H2</th>\n",
       "      <td>False</td>\n",
       "      <td>1.0</td>\n",
       "      <td>mmol/gDW</td>\n",
       "    </tr>\n",
       "    <tr>\n",
       "      <th>C</th>\n",
       "      <td>False</td>\n",
       "      <td>1.0</td>\n",
       "      <td>mmol/gDW</td>\n",
       "    </tr>\n",
       "    <tr>\n",
       "      <th>CO2</th>\n",
       "      <td>False</td>\n",
       "      <td>1.0</td>\n",
       "      <td>mmol/gDW</td>\n",
       "    </tr>\n",
       "  </tbody>\n",
       "</table>\n",
       "</div>"
      ],
      "text/plain": [
       "          External  Concentration      Unit\n",
       "meta_0        True            2.0  mmol/gDW\n",
       "meta_1       False            1.0  mmol/gDW\n",
       "meta_2       False            1.0  mmol/gDW\n",
       "meta_3        True            1.0  mmol/gDW\n",
       "new_meta     False            1.0  mmol/gDW\n",
       "H2O           True            1.0  mmol/gDW\n",
       "H2           False            1.0  mmol/gDW\n",
       "C            False            1.0  mmol/gDW\n",
       "CO2          False            1.0  mmol/gDW"
      ]
     },
     "execution_count": 18,
     "metadata": {},
     "output_type": "execute_result"
    }
   ],
   "source": [
    "model.metabolites.remove(\"O2\")\n",
    "model.metabolites.df"
   ]
  },
  {
   "cell_type": "markdown",
   "metadata": {},
   "source": [
    "Removing a metabolite or a reaction remove also every mention of it in the stoichiometric matrix and elasticities matrix\n",
    "\n",
    "Same for the mention of the metabolite on the reaction dataframe"
   ]
  },
  {
   "cell_type": "code",
   "execution_count": null,
   "metadata": {},
   "outputs": [
    {
     "data": {
      "text/html": [
       "<div>\n",
       "<style scoped>\n",
       "    .dataframe tbody tr th:only-of-type {\n",
       "        vertical-align: middle;\n",
       "    }\n",
       "\n",
       "    .dataframe tbody tr th {\n",
       "        vertical-align: top;\n",
       "    }\n",
       "\n",
       "    .dataframe thead th {\n",
       "        text-align: right;\n",
       "    }\n",
       "</style>\n",
       "<table border=\"1\" class=\"dataframe\">\n",
       "  <thead>\n",
       "    <tr style=\"text-align: right;\">\n",
       "      <th></th>\n",
       "      <th>Metabolites</th>\n",
       "      <th>Equilibrium constant</th>\n",
       "      <th>Reversible</th>\n",
       "      <th>Flux</th>\n",
       "      <th>Unit</th>\n",
       "    </tr>\n",
       "  </thead>\n",
       "  <tbody>\n",
       "    <tr>\n",
       "      <th>reaction_0</th>\n",
       "      <td>{'new_meta': -2, 'meta_1': 1}</td>\n",
       "      <td>1.5</td>\n",
       "      <td>False</td>\n",
       "      <td>1.5</td>\n",
       "      <td>mmol/gDW/h</td>\n",
       "    </tr>\n",
       "    <tr>\n",
       "      <th>reaction_1</th>\n",
       "      <td>{'meta_1': -1, 'meta_2': 1}</td>\n",
       "      <td>1.0</td>\n",
       "      <td>True</td>\n",
       "      <td>1.0</td>\n",
       "      <td>mmol/gDW/h</td>\n",
       "    </tr>\n",
       "    <tr>\n",
       "      <th>reaction_2</th>\n",
       "      <td>{'meta_2': -1, 'meta_3': 1}</td>\n",
       "      <td>1.0</td>\n",
       "      <td>True</td>\n",
       "      <td>1.0</td>\n",
       "      <td>mmol/gDW/h</td>\n",
       "    </tr>\n",
       "    <tr>\n",
       "      <th>combustion</th>\n",
       "      <td>{'C': -1.0, 'CO2': 1.0}</td>\n",
       "      <td>1.0</td>\n",
       "      <td>True</td>\n",
       "      <td>1.0</td>\n",
       "      <td>mmol/gDW/h</td>\n",
       "    </tr>\n",
       "  </tbody>\n",
       "</table>\n",
       "</div>"
      ],
      "text/plain": [
       "                              Metabolites  Equilibrium constant  Reversible  \\\n",
       "reaction_0  {'new_meta': -2, 'meta_1': 1}                   1.5       False   \n",
       "reaction_1    {'meta_1': -1, 'meta_2': 1}                   1.0        True   \n",
       "reaction_2    {'meta_2': -1, 'meta_3': 1}                   1.0        True   \n",
       "combustion        {'C': -1.0, 'CO2': 1.0}                   1.0        True   \n",
       "\n",
       "            Flux        Unit  \n",
       "reaction_0   1.5  mmol/gDW/h  \n",
       "reaction_1   1.0  mmol/gDW/h  \n",
       "reaction_2   1.0  mmol/gDW/h  \n",
       "combustion   1.0  mmol/gDW/h  "
      ]
     },
     "execution_count": 19,
     "metadata": {},
     "output_type": "execute_result"
    }
   ],
   "source": [
    "model.reactions.df"
   ]
  },
  {
   "cell_type": "code",
   "execution_count": null,
   "metadata": {},
   "outputs": [
    {
     "data": {
      "text/html": [
       "<div>\n",
       "<style scoped>\n",
       "    .dataframe tbody tr th:only-of-type {\n",
       "        vertical-align: middle;\n",
       "    }\n",
       "\n",
       "    .dataframe tbody tr th {\n",
       "        vertical-align: top;\n",
       "    }\n",
       "\n",
       "    .dataframe thead th {\n",
       "        text-align: right;\n",
       "    }\n",
       "</style>\n",
       "<table border=\"1\" class=\"dataframe\">\n",
       "  <thead>\n",
       "    <tr style=\"text-align: right;\">\n",
       "      <th></th>\n",
       "      <th>reaction_0</th>\n",
       "      <th>reaction_1</th>\n",
       "      <th>reaction_2</th>\n",
       "      <th>combustion</th>\n",
       "    </tr>\n",
       "  </thead>\n",
       "  <tbody>\n",
       "    <tr>\n",
       "      <th>meta_0</th>\n",
       "      <td>0.0</td>\n",
       "      <td>0.0</td>\n",
       "      <td>0.0</td>\n",
       "      <td>0.0</td>\n",
       "    </tr>\n",
       "    <tr>\n",
       "      <th>meta_1</th>\n",
       "      <td>1.0</td>\n",
       "      <td>-1.0</td>\n",
       "      <td>0.0</td>\n",
       "      <td>0.0</td>\n",
       "    </tr>\n",
       "    <tr>\n",
       "      <th>meta_2</th>\n",
       "      <td>0.0</td>\n",
       "      <td>1.0</td>\n",
       "      <td>-1.0</td>\n",
       "      <td>0.0</td>\n",
       "    </tr>\n",
       "    <tr>\n",
       "      <th>meta_3</th>\n",
       "      <td>0.0</td>\n",
       "      <td>0.0</td>\n",
       "      <td>1.0</td>\n",
       "      <td>0.0</td>\n",
       "    </tr>\n",
       "    <tr>\n",
       "      <th>new_meta</th>\n",
       "      <td>-2.0</td>\n",
       "      <td>0.0</td>\n",
       "      <td>0.0</td>\n",
       "      <td>0.0</td>\n",
       "    </tr>\n",
       "    <tr>\n",
       "      <th>H2O</th>\n",
       "      <td>0.0</td>\n",
       "      <td>0.0</td>\n",
       "      <td>0.0</td>\n",
       "      <td>0.0</td>\n",
       "    </tr>\n",
       "    <tr>\n",
       "      <th>H2</th>\n",
       "      <td>0.0</td>\n",
       "      <td>0.0</td>\n",
       "      <td>0.0</td>\n",
       "      <td>0.0</td>\n",
       "    </tr>\n",
       "    <tr>\n",
       "      <th>C</th>\n",
       "      <td>0.0</td>\n",
       "      <td>0.0</td>\n",
       "      <td>0.0</td>\n",
       "      <td>-1.0</td>\n",
       "    </tr>\n",
       "    <tr>\n",
       "      <th>CO2</th>\n",
       "      <td>0.0</td>\n",
       "      <td>0.0</td>\n",
       "      <td>0.0</td>\n",
       "      <td>1.0</td>\n",
       "    </tr>\n",
       "  </tbody>\n",
       "</table>\n",
       "</div>"
      ],
      "text/plain": [
       "          reaction_0  reaction_1  reaction_2  combustion\n",
       "meta_0           0.0         0.0         0.0         0.0\n",
       "meta_1           1.0        -1.0         0.0         0.0\n",
       "meta_2           0.0         1.0        -1.0         0.0\n",
       "meta_3           0.0         0.0         1.0         0.0\n",
       "new_meta        -2.0         0.0         0.0         0.0\n",
       "H2O              0.0         0.0         0.0         0.0\n",
       "H2               0.0         0.0         0.0         0.0\n",
       "C                0.0         0.0         0.0        -1.0\n",
       "CO2              0.0         0.0         0.0         1.0"
      ]
     },
     "execution_count": 20,
     "metadata": {},
     "output_type": "execute_result"
    }
   ],
   "source": [
    "model.N"
   ]
  },
  {
   "cell_type": "code",
   "execution_count": null,
   "metadata": {},
   "outputs": [],
   "source": [
    "model.reactions.remove(\"combustion\")"
   ]
  },
  {
   "cell_type": "code",
   "execution_count": null,
   "metadata": {},
   "outputs": [
    {
     "data": {
      "text/html": [
       "<div>\n",
       "<style scoped>\n",
       "    .dataframe tbody tr th:only-of-type {\n",
       "        vertical-align: middle;\n",
       "    }\n",
       "\n",
       "    .dataframe tbody tr th {\n",
       "        vertical-align: top;\n",
       "    }\n",
       "\n",
       "    .dataframe thead th {\n",
       "        text-align: right;\n",
       "    }\n",
       "</style>\n",
       "<table border=\"1\" class=\"dataframe\">\n",
       "  <thead>\n",
       "    <tr style=\"text-align: right;\">\n",
       "      <th></th>\n",
       "      <th>Metabolites</th>\n",
       "      <th>Equilibrium constant</th>\n",
       "      <th>Reversible</th>\n",
       "      <th>Flux</th>\n",
       "      <th>Unit</th>\n",
       "    </tr>\n",
       "  </thead>\n",
       "  <tbody>\n",
       "    <tr>\n",
       "      <th>reaction_0</th>\n",
       "      <td>{'new_meta': -2, 'meta_1': 1}</td>\n",
       "      <td>1.5</td>\n",
       "      <td>False</td>\n",
       "      <td>1.5</td>\n",
       "      <td>mmol/gDW/h</td>\n",
       "    </tr>\n",
       "    <tr>\n",
       "      <th>reaction_1</th>\n",
       "      <td>{'meta_1': -1, 'meta_2': 1}</td>\n",
       "      <td>1.0</td>\n",
       "      <td>True</td>\n",
       "      <td>1.0</td>\n",
       "      <td>mmol/gDW/h</td>\n",
       "    </tr>\n",
       "    <tr>\n",
       "      <th>reaction_2</th>\n",
       "      <td>{'meta_2': -1, 'meta_3': 1}</td>\n",
       "      <td>1.0</td>\n",
       "      <td>True</td>\n",
       "      <td>1.0</td>\n",
       "      <td>mmol/gDW/h</td>\n",
       "    </tr>\n",
       "  </tbody>\n",
       "</table>\n",
       "</div>"
      ],
      "text/plain": [
       "                              Metabolites  Equilibrium constant  Reversible  \\\n",
       "reaction_0  {'new_meta': -2, 'meta_1': 1}                   1.5       False   \n",
       "reaction_1    {'meta_1': -1, 'meta_2': 1}                   1.0        True   \n",
       "reaction_2    {'meta_2': -1, 'meta_3': 1}                   1.0        True   \n",
       "\n",
       "            Flux        Unit  \n",
       "reaction_0   1.5  mmol/gDW/h  \n",
       "reaction_1   1.0  mmol/gDW/h  \n",
       "reaction_2   1.0  mmol/gDW/h  "
      ]
     },
     "execution_count": 22,
     "metadata": {},
     "output_type": "execute_result"
    }
   ],
   "source": [
    "model.reactions.remove(name=\"combustion\")\n",
    "model.reactions.df"
   ]
  },
  {
   "cell_type": "markdown",
   "metadata": {},
   "source": [
    "## <font color='green'> [1.7] Stoichiometric matrix from an existant one </font> "
   ]
  },
  {
   "cell_type": "markdown",
   "metadata": {},
   "source": [
    "##### You can also change the stoichiometric matrix\n",
    "\n",
    "You have 2 options :\n",
    "- Attribute to the stoichiometric matrix a Pandas Dataframe, whatever the size, and the program will create a new model based on the metabolites (rows) and reactions (columns) of the dataframe\n",
    "- Attribute a Numpy array, and the program will change the value of the coefficients of the matrix"
   ]
  },
  {
   "cell_type": "code",
   "execution_count": null,
   "metadata": {},
   "outputs": [],
   "source": [
    "reactions = {'Combustion': [1. , -1., -0.5],\n",
    "             'Reaction_2': [0. ,  0.,   1. ]}\n",
    "\n",
    "metabolites = ['H2O', 'H2', 'O2']\n",
    "\n",
    "dataframe = pd.DataFrame(reactions, index=metabolites)\n",
    "\n",
    "model.Stoichio_matrix_pd = dataframe"
   ]
  },
  {
   "cell_type": "markdown",
   "metadata": {},
   "source": [
    "And the metabolites and reactions dataframes are automatically updated !"
   ]
  },
  {
   "cell_type": "code",
   "execution_count": null,
   "metadata": {},
   "outputs": [
    {
     "data": {
      "text/html": [
       "<div>\n",
       "<style scoped>\n",
       "    .dataframe tbody tr th:only-of-type {\n",
       "        vertical-align: middle;\n",
       "    }\n",
       "\n",
       "    .dataframe tbody tr th {\n",
       "        vertical-align: top;\n",
       "    }\n",
       "\n",
       "    .dataframe thead th {\n",
       "        text-align: right;\n",
       "    }\n",
       "</style>\n",
       "<table border=\"1\" class=\"dataframe\">\n",
       "  <thead>\n",
       "    <tr style=\"text-align: right;\">\n",
       "      <th></th>\n",
       "      <th>Combustion</th>\n",
       "      <th>Reaction_2</th>\n",
       "    </tr>\n",
       "  </thead>\n",
       "  <tbody>\n",
       "    <tr>\n",
       "      <th>H2O</th>\n",
       "      <td>1.0</td>\n",
       "      <td>0.0</td>\n",
       "    </tr>\n",
       "    <tr>\n",
       "      <th>H2</th>\n",
       "      <td>-1.0</td>\n",
       "      <td>0.0</td>\n",
       "    </tr>\n",
       "    <tr>\n",
       "      <th>O2</th>\n",
       "      <td>-0.5</td>\n",
       "      <td>1.0</td>\n",
       "    </tr>\n",
       "  </tbody>\n",
       "</table>\n",
       "</div>"
      ],
      "text/plain": [
       "     Combustion  Reaction_2\n",
       "H2O         1.0         0.0\n",
       "H2         -1.0         0.0\n",
       "O2         -0.5         1.0"
      ]
     },
     "execution_count": 24,
     "metadata": {},
     "output_type": "execute_result"
    }
   ],
   "source": [
    "model.N"
   ]
  },
  {
   "cell_type": "code",
   "execution_count": null,
   "metadata": {},
   "outputs": [
    {
     "data": {
      "text/html": [
       "<div>\n",
       "<style scoped>\n",
       "    .dataframe tbody tr th:only-of-type {\n",
       "        vertical-align: middle;\n",
       "    }\n",
       "\n",
       "    .dataframe tbody tr th {\n",
       "        vertical-align: top;\n",
       "    }\n",
       "\n",
       "    .dataframe thead th {\n",
       "        text-align: right;\n",
       "    }\n",
       "</style>\n",
       "<table border=\"1\" class=\"dataframe\">\n",
       "  <thead>\n",
       "    <tr style=\"text-align: right;\">\n",
       "      <th></th>\n",
       "      <th>Metabolites</th>\n",
       "      <th>Equilibrium constant</th>\n",
       "      <th>Reversible</th>\n",
       "      <th>Flux</th>\n",
       "      <th>Unit</th>\n",
       "    </tr>\n",
       "  </thead>\n",
       "  <tbody>\n",
       "    <tr>\n",
       "      <th>Combustion</th>\n",
       "      <td>{'H2O': 1.0, 'H2': -1.0, 'O2': -0.5}</td>\n",
       "      <td>1.0</td>\n",
       "      <td>True</td>\n",
       "      <td>1.0</td>\n",
       "      <td>mmol/gDW/h</td>\n",
       "    </tr>\n",
       "    <tr>\n",
       "      <th>Reaction_2</th>\n",
       "      <td>{'O2': 1.0}</td>\n",
       "      <td>1.0</td>\n",
       "      <td>True</td>\n",
       "      <td>1.0</td>\n",
       "      <td>mmol/gDW/h</td>\n",
       "    </tr>\n",
       "  </tbody>\n",
       "</table>\n",
       "</div>"
      ],
      "text/plain": [
       "                                     Metabolites  Equilibrium constant  \\\n",
       "Combustion  {'H2O': 1.0, 'H2': -1.0, 'O2': -0.5}                   1.0   \n",
       "Reaction_2                           {'O2': 1.0}                   1.0   \n",
       "\n",
       "            Reversible  Flux        Unit  \n",
       "Combustion        True   1.0  mmol/gDW/h  \n",
       "Reaction_2        True   1.0  mmol/gDW/h  "
      ]
     },
     "execution_count": 25,
     "metadata": {},
     "output_type": "execute_result"
    }
   ],
   "source": [
    "model.reactions.df"
   ]
  },
  {
   "cell_type": "code",
   "execution_count": null,
   "metadata": {},
   "outputs": [
    {
     "data": {
      "text/html": [
       "<div>\n",
       "<style scoped>\n",
       "    .dataframe tbody tr th:only-of-type {\n",
       "        vertical-align: middle;\n",
       "    }\n",
       "\n",
       "    .dataframe tbody tr th {\n",
       "        vertical-align: top;\n",
       "    }\n",
       "\n",
       "    .dataframe thead th {\n",
       "        text-align: right;\n",
       "    }\n",
       "</style>\n",
       "<table border=\"1\" class=\"dataframe\">\n",
       "  <thead>\n",
       "    <tr style=\"text-align: right;\">\n",
       "      <th></th>\n",
       "      <th>External</th>\n",
       "      <th>Concentration</th>\n",
       "      <th>Unit</th>\n",
       "    </tr>\n",
       "  </thead>\n",
       "  <tbody>\n",
       "    <tr>\n",
       "      <th>H2O</th>\n",
       "      <td>False</td>\n",
       "      <td>1.0</td>\n",
       "      <td>mmol/gDW</td>\n",
       "    </tr>\n",
       "    <tr>\n",
       "      <th>H2</th>\n",
       "      <td>False</td>\n",
       "      <td>1.0</td>\n",
       "      <td>mmol/gDW</td>\n",
       "    </tr>\n",
       "    <tr>\n",
       "      <th>O2</th>\n",
       "      <td>False</td>\n",
       "      <td>1.0</td>\n",
       "      <td>mmol/gDW</td>\n",
       "    </tr>\n",
       "  </tbody>\n",
       "</table>\n",
       "</div>"
      ],
      "text/plain": [
       "     External  Concentration      Unit\n",
       "H2O     False            1.0  mmol/gDW\n",
       "H2      False            1.0  mmol/gDW\n",
       "O2      False            1.0  mmol/gDW"
      ]
     },
     "execution_count": 26,
     "metadata": {},
     "output_type": "execute_result"
    }
   ],
   "source": [
    "model.metabolites.df"
   ]
  },
  {
   "cell_type": "markdown",
   "metadata": {},
   "source": [
    "# <font color='red'> [2] Play with the dynamic of model </font> "
   ]
  },
  {
   "cell_type": "code",
   "execution_count": null,
   "metadata": {},
   "outputs": [
    {
     "name": "stdout",
     "output_type": "stream",
     "text": [
      " \n"
     ]
    }
   ],
   "source": [
    "model.creat_linear(4)"
   ]
  },
  {
   "cell_type": "markdown",
   "metadata": {},
   "source": [
    "## <font color='green'> [2.1] Parameters </font> "
   ]
  },
  {
   "cell_type": "markdown",
   "metadata": {},
   "source": [
    "By default, the temperature is in the parameters dataframe"
   ]
  },
  {
   "cell_type": "code",
   "execution_count": null,
   "metadata": {},
   "outputs": [
    {
     "data": {
      "text/html": [
       "<div>\n",
       "<style scoped>\n",
       "    .dataframe tbody tr th:only-of-type {\n",
       "        vertical-align: middle;\n",
       "    }\n",
       "\n",
       "    .dataframe tbody tr th {\n",
       "        vertical-align: top;\n",
       "    }\n",
       "\n",
       "    .dataframe thead th {\n",
       "        text-align: right;\n",
       "    }\n",
       "</style>\n",
       "<table border=\"1\" class=\"dataframe\">\n",
       "  <thead>\n",
       "    <tr style=\"text-align: right;\">\n",
       "      <th></th>\n",
       "      <th>Mean values</th>\n",
       "      <th>Standard deviation</th>\n",
       "    </tr>\n",
       "  </thead>\n",
       "  <tbody>\n",
       "    <tr>\n",
       "      <th>Temperature</th>\n",
       "      <td>273.15</td>\n",
       "      <td>1.0</td>\n",
       "    </tr>\n",
       "  </tbody>\n",
       "</table>\n",
       "</div>"
      ],
      "text/plain": [
       "            Mean values Standard deviation\n",
       "Temperature      273.15                1.0"
      ]
     },
     "execution_count": 28,
     "metadata": {},
     "output_type": "execute_result"
    }
   ],
   "source": [
    "model.parameters.df"
   ]
  },
  {
   "cell_type": "markdown",
   "metadata": {},
   "source": [
    "You can add any parameter with its mean values and standard deviation to represent its uncertainty"
   ]
  },
  {
   "cell_type": "code",
   "execution_count": null,
   "metadata": {},
   "outputs": [
    {
     "data": {
      "text/html": [
       "<div>\n",
       "<style scoped>\n",
       "    .dataframe tbody tr th:only-of-type {\n",
       "        vertical-align: middle;\n",
       "    }\n",
       "\n",
       "    .dataframe tbody tr th {\n",
       "        vertical-align: top;\n",
       "    }\n",
       "\n",
       "    .dataframe thead th {\n",
       "        text-align: right;\n",
       "    }\n",
       "</style>\n",
       "<table border=\"1\" class=\"dataframe\">\n",
       "  <thead>\n",
       "    <tr style=\"text-align: right;\">\n",
       "      <th></th>\n",
       "      <th>Mean values</th>\n",
       "      <th>Standard deviation</th>\n",
       "    </tr>\n",
       "  </thead>\n",
       "  <tbody>\n",
       "    <tr>\n",
       "      <th>Temperature</th>\n",
       "      <td>273.15</td>\n",
       "      <td>1.0</td>\n",
       "    </tr>\n",
       "    <tr>\n",
       "      <th>pH</th>\n",
       "      <td>7.0</td>\n",
       "      <td>2.0</td>\n",
       "    </tr>\n",
       "  </tbody>\n",
       "</table>\n",
       "</div>"
      ],
      "text/plain": [
       "            Mean values Standard deviation\n",
       "Temperature      273.15                1.0\n",
       "pH                  7.0                2.0"
      ]
     },
     "execution_count": 29,
     "metadata": {},
     "output_type": "execute_result"
    }
   ],
   "source": [
    "model.parameters.add(\"pH\", mean=7., Standard_deviation=2.)\n",
    "model.parameters.df"
   ]
  },
  {
   "cell_type": "markdown",
   "metadata": {},
   "source": [
    "You can also remove a parameter"
   ]
  },
  {
   "cell_type": "code",
   "execution_count": null,
   "metadata": {},
   "outputs": [
    {
     "name": "stdout",
     "output_type": "stream",
     "text": [
      "Name of the removed parameter : Temperature\n"
     ]
    },
    {
     "data": {
      "text/html": [
       "<div>\n",
       "<style scoped>\n",
       "    .dataframe tbody tr th:only-of-type {\n",
       "        vertical-align: middle;\n",
       "    }\n",
       "\n",
       "    .dataframe tbody tr th {\n",
       "        vertical-align: top;\n",
       "    }\n",
       "\n",
       "    .dataframe thead th {\n",
       "        text-align: right;\n",
       "    }\n",
       "</style>\n",
       "<table border=\"1\" class=\"dataframe\">\n",
       "  <thead>\n",
       "    <tr style=\"text-align: right;\">\n",
       "      <th></th>\n",
       "      <th>Mean values</th>\n",
       "      <th>Standard deviation</th>\n",
       "    </tr>\n",
       "  </thead>\n",
       "  <tbody>\n",
       "    <tr>\n",
       "      <th>pH</th>\n",
       "      <td>7.0</td>\n",
       "      <td>2.0</td>\n",
       "    </tr>\n",
       "  </tbody>\n",
       "</table>\n",
       "</div>"
      ],
      "text/plain": [
       "   Mean values Standard deviation\n",
       "pH         7.0                2.0"
      ]
     },
     "execution_count": 30,
     "metadata": {},
     "output_type": "execute_result"
    }
   ],
   "source": [
    "model.parameters.remove(\"Temperature\")\n",
    "model.parameters.df"
   ]
  },
  {
   "cell_type": "markdown",
   "metadata": {},
   "source": [
    "You can also consider the external metabolite as parameter of the model"
   ]
  },
  {
   "cell_type": "code",
   "execution_count": null,
   "metadata": {},
   "outputs": [],
   "source": [
    "model.parameters.add_externals()"
   ]
  },
  {
   "cell_type": "markdown",
   "metadata": {},
   "source": [
    "## <font color='green'> [2.2] Enzymes </font> "
   ]
  },
  {
   "cell_type": "markdown",
   "metadata": {},
   "source": [
    "You can add enzyme to the model and liked them to reactions"
   ]
  },
  {
   "cell_type": "code",
   "execution_count": null,
   "metadata": {},
   "outputs": [
    {
     "data": {
      "text/html": [
       "<div>\n",
       "<style scoped>\n",
       "    .dataframe tbody tr th:only-of-type {\n",
       "        vertical-align: middle;\n",
       "    }\n",
       "\n",
       "    .dataframe tbody tr th {\n",
       "        vertical-align: top;\n",
       "    }\n",
       "\n",
       "    .dataframe thead th {\n",
       "        text-align: right;\n",
       "    }\n",
       "</style>\n",
       "<table border=\"1\" class=\"dataframe\">\n",
       "  <thead>\n",
       "    <tr style=\"text-align: right;\">\n",
       "      <th></th>\n",
       "      <th>Concentration / Activity</th>\n",
       "      <th>Reactions linked</th>\n",
       "    </tr>\n",
       "  </thead>\n",
       "  <tbody>\n",
       "    <tr>\n",
       "      <th>enzyme_test</th>\n",
       "      <td>1</td>\n",
       "      <td>[reaction_0, reaction_2]</td>\n",
       "    </tr>\n",
       "  </tbody>\n",
       "</table>\n",
       "</div>"
      ],
      "text/plain": [
       "             Concentration / Activity          Reactions linked\n",
       "enzyme_test                         1  [reaction_0, reaction_2]"
      ]
     },
     "execution_count": 32,
     "metadata": {},
     "output_type": "execute_result"
    }
   ],
   "source": [
    "model.enzymes.add(\"enzyme_test\", mean=1, reaction_linked=[\"reaction_0\", \"reaction_2\"])\n",
    "model.enzymes.df"
   ]
  },
  {
   "cell_type": "markdown",
   "metadata": {},
   "source": [
    "You can also use the model.enzymes.add_to_all_reaction() method to create an enzyme linked to each reaction, with the name \"enzyme_{reaction_name}\""
   ]
  },
  {
   "cell_type": "code",
   "execution_count": null,
   "metadata": {},
   "outputs": [
    {
     "data": {
      "text/html": [
       "<div>\n",
       "<style scoped>\n",
       "    .dataframe tbody tr th:only-of-type {\n",
       "        vertical-align: middle;\n",
       "    }\n",
       "\n",
       "    .dataframe tbody tr th {\n",
       "        vertical-align: top;\n",
       "    }\n",
       "\n",
       "    .dataframe thead th {\n",
       "        text-align: right;\n",
       "    }\n",
       "</style>\n",
       "<table border=\"1\" class=\"dataframe\">\n",
       "  <thead>\n",
       "    <tr style=\"text-align: right;\">\n",
       "      <th></th>\n",
       "      <th>Concentration / Activity</th>\n",
       "      <th>Reactions linked</th>\n",
       "    </tr>\n",
       "  </thead>\n",
       "  <tbody>\n",
       "    <tr>\n",
       "      <th>enzyme_test</th>\n",
       "      <td>1</td>\n",
       "      <td>[reaction_0, reaction_2]</td>\n",
       "    </tr>\n",
       "    <tr>\n",
       "      <th>enzyme_reaction_0</th>\n",
       "      <td>1</td>\n",
       "      <td>[reaction_0]</td>\n",
       "    </tr>\n",
       "    <tr>\n",
       "      <th>enzyme_reaction_1</th>\n",
       "      <td>1</td>\n",
       "      <td>[reaction_1]</td>\n",
       "    </tr>\n",
       "    <tr>\n",
       "      <th>enzyme_reaction_2</th>\n",
       "      <td>1</td>\n",
       "      <td>[reaction_2]</td>\n",
       "    </tr>\n",
       "  </tbody>\n",
       "</table>\n",
       "</div>"
      ],
      "text/plain": [
       "                   Concentration / Activity          Reactions linked\n",
       "enzyme_test                               1  [reaction_0, reaction_2]\n",
       "enzyme_reaction_0                         1              [reaction_0]\n",
       "enzyme_reaction_1                         1              [reaction_1]\n",
       "enzyme_reaction_2                         1              [reaction_2]"
      ]
     },
     "execution_count": 33,
     "metadata": {},
     "output_type": "execute_result"
    }
   ],
   "source": [
    "model.enzymes.add_to_all_reaction()\n",
    "model.enzymes.df"
   ]
  },
  {
   "cell_type": "code",
   "execution_count": null,
   "metadata": {},
   "outputs": [
    {
     "data": {
      "text/html": [
       "<div>\n",
       "<style scoped>\n",
       "    .dataframe tbody tr th:only-of-type {\n",
       "        vertical-align: middle;\n",
       "    }\n",
       "\n",
       "    .dataframe tbody tr th {\n",
       "        vertical-align: top;\n",
       "    }\n",
       "\n",
       "    .dataframe thead th {\n",
       "        text-align: right;\n",
       "    }\n",
       "</style>\n",
       "<table border=\"1\" class=\"dataframe\">\n",
       "  <thead>\n",
       "    <tr style=\"text-align: right;\">\n",
       "      <th></th>\n",
       "      <th>Concentration / Activity</th>\n",
       "      <th>Reactions linked</th>\n",
       "    </tr>\n",
       "  </thead>\n",
       "  <tbody>\n",
       "    <tr>\n",
       "      <th>enzyme_reaction_0</th>\n",
       "      <td>1</td>\n",
       "      <td>[reaction_0]</td>\n",
       "    </tr>\n",
       "    <tr>\n",
       "      <th>enzyme_reaction_1</th>\n",
       "      <td>1</td>\n",
       "      <td>[reaction_1]</td>\n",
       "    </tr>\n",
       "    <tr>\n",
       "      <th>enzyme_reaction_2</th>\n",
       "      <td>1</td>\n",
       "      <td>[reaction_2]</td>\n",
       "    </tr>\n",
       "  </tbody>\n",
       "</table>\n",
       "</div>"
      ],
      "text/plain": [
       "                   Concentration / Activity Reactions linked\n",
       "enzyme_reaction_0                         1     [reaction_0]\n",
       "enzyme_reaction_1                         1     [reaction_1]\n",
       "enzyme_reaction_2                         1     [reaction_2]"
      ]
     },
     "execution_count": 34,
     "metadata": {},
     "output_type": "execute_result"
    }
   ],
   "source": [
    "model.enzymes.remove(\"enzyme_test\")\n",
    "model.enzymes.df"
   ]
  },
  {
   "cell_type": "markdown",
   "metadata": {},
   "source": [
    "Finally, you can add the enzyme as parameters, they will be added with their name of enzyme + \"_para\""
   ]
  },
  {
   "cell_type": "code",
   "execution_count": null,
   "metadata": {},
   "outputs": [
    {
     "data": {
      "text/html": [
       "<div>\n",
       "<style scoped>\n",
       "    .dataframe tbody tr th:only-of-type {\n",
       "        vertical-align: middle;\n",
       "    }\n",
       "\n",
       "    .dataframe tbody tr th {\n",
       "        vertical-align: top;\n",
       "    }\n",
       "\n",
       "    .dataframe thead th {\n",
       "        text-align: right;\n",
       "    }\n",
       "</style>\n",
       "<table border=\"1\" class=\"dataframe\">\n",
       "  <thead>\n",
       "    <tr style=\"text-align: right;\">\n",
       "      <th></th>\n",
       "      <th>Mean values</th>\n",
       "      <th>Standard deviation</th>\n",
       "    </tr>\n",
       "  </thead>\n",
       "  <tbody>\n",
       "    <tr>\n",
       "      <th>pH</th>\n",
       "      <td>7.0</td>\n",
       "      <td>2.0</td>\n",
       "    </tr>\n",
       "    <tr>\n",
       "      <th>meta_0_para</th>\n",
       "      <td>1.0</td>\n",
       "      <td>1.0</td>\n",
       "    </tr>\n",
       "    <tr>\n",
       "      <th>meta_3_para</th>\n",
       "      <td>1.0</td>\n",
       "      <td>1.0</td>\n",
       "    </tr>\n",
       "    <tr>\n",
       "      <th>enzyme_reaction_0_para</th>\n",
       "      <td>1.0</td>\n",
       "      <td>1.0</td>\n",
       "    </tr>\n",
       "    <tr>\n",
       "      <th>enzyme_reaction_1_para</th>\n",
       "      <td>1.0</td>\n",
       "      <td>1.0</td>\n",
       "    </tr>\n",
       "    <tr>\n",
       "      <th>enzyme_reaction_2_para</th>\n",
       "      <td>1.0</td>\n",
       "      <td>1.0</td>\n",
       "    </tr>\n",
       "  </tbody>\n",
       "</table>\n",
       "</div>"
      ],
      "text/plain": [
       "                       Mean values Standard deviation\n",
       "pH                             7.0                2.0\n",
       "meta_0_para                    1.0                1.0\n",
       "meta_3_para                    1.0                1.0\n",
       "enzyme_reaction_0_para         1.0                1.0\n",
       "enzyme_reaction_1_para         1.0                1.0\n",
       "enzyme_reaction_2_para         1.0                1.0"
      ]
     },
     "execution_count": 35,
     "metadata": {},
     "output_type": "execute_result"
    }
   ],
   "source": [
    "model.parameters.add_enzymes()\n",
    "model.parameters.df"
   ]
  },
  {
   "cell_type": "markdown",
   "metadata": {},
   "source": [
    "## <font color='green'> [2.3] Operons </font> "
   ]
  },
  {
   "cell_type": "markdown",
   "metadata": {},
   "source": [
    "You can create a dependency between enzymes by specifying if they are linked by an operon"
   ]
  },
  {
   "cell_type": "code",
   "execution_count": null,
   "metadata": {},
   "outputs": [
    {
     "ename": "NameError",
     "evalue": "The input enzyme 'enzyme_reaction_0' is not in the enzymes dataframe !\n",
     "output_type": "error",
     "traceback": [
      "\u001b[0;31m---------------------------------------------------------------------------\u001b[0m",
      "\u001b[0;31mNameError\u001b[0m                                 Traceback (most recent call last)",
      "Cell \u001b[0;32mIn [36], line 1\u001b[0m\n\u001b[0;32m----> 1\u001b[0m model\u001b[38;5;241m.\u001b[39moperons\u001b[38;5;241m.\u001b[39madd(\u001b[38;5;124m\"\u001b[39m\u001b[38;5;124moperon_lactose\u001b[39m\u001b[38;5;124m\"\u001b[39m, enzymes_linked\u001b[38;5;241m=\u001b[39m[\u001b[38;5;124m\"\u001b[39m\u001b[38;5;124menzyme_reaction_0\u001b[39m\u001b[38;5;124m\"\u001b[39m, \u001b[38;5;124m\"\u001b[39m\u001b[38;5;124menzyme_reaction_2\u001b[39m\u001b[38;5;124m\"\u001b[39m], mixed_covariance\u001b[38;5;241m=\u001b[39m\u001b[38;5;241m0.42\u001b[39m)\n\u001b[1;32m      2\u001b[0m model\u001b[38;5;241m.\u001b[39moperons\u001b[38;5;241m.\u001b[39mdf\n",
      "File \u001b[0;32m~/Documents/BadAss/Notebooks/../layer_1/operon.py:58\u001b[0m, in \u001b[0;36mOperon_class.add\u001b[0;34m(self, name, enzymes_linked, mixed_covariance, activated)\u001b[0m\n\u001b[1;32m     55\u001b[0m \u001b[38;5;28;01mfor\u001b[39;00m enzyme \u001b[38;5;129;01min\u001b[39;00m enzymes_linked:\n\u001b[1;32m     56\u001b[0m     \u001b[38;5;66;03m# If the enzyme is in the enzyme or or metabolite dataframe\u001b[39;00m\n\u001b[1;32m     57\u001b[0m     \u001b[38;5;28;01mif\u001b[39;00m enzyme \u001b[38;5;129;01mnot\u001b[39;00m \u001b[38;5;129;01min\u001b[39;00m (\u001b[38;5;28mself\u001b[39m\u001b[38;5;241m.\u001b[39m__class_MODEL_instance\u001b[38;5;241m.\u001b[39mparameters\u001b[38;5;241m.\u001b[39mdf\u001b[38;5;241m.\u001b[39mindex):\n\u001b[0;32m---> 58\u001b[0m         \u001b[38;5;28;01mraise\u001b[39;00m \u001b[38;5;167;01mNameError\u001b[39;00m(\u001b[38;5;124mf\u001b[39m\u001b[38;5;124m\"\u001b[39m\u001b[38;5;124mThe input enzyme \u001b[39m\u001b[38;5;130;01m\\'\u001b[39;00m\u001b[38;5;132;01m{\u001b[39;00menzyme\u001b[38;5;132;01m}\u001b[39;00m\u001b[38;5;130;01m\\'\u001b[39;00m\u001b[38;5;124m is not in the enzymes dataframe !\u001b[39m\u001b[38;5;130;01m\\n\u001b[39;00m\u001b[38;5;124m\"\u001b[39m)\n\u001b[1;32m     61\u001b[0m \u001b[38;5;66;03m# We check if the input value of the mixed covariance is a number\u001b[39;00m\n\u001b[1;32m     62\u001b[0m \u001b[38;5;28;01mif\u001b[39;00m \u001b[38;5;129;01mnot\u001b[39;00m \u001b[38;5;28misinstance\u001b[39m(mixed_covariance, (\u001b[38;5;28mint\u001b[39m, \u001b[38;5;28mfloat\u001b[39m)) :\n",
      "\u001b[0;31mNameError\u001b[0m: The input enzyme 'enzyme_reaction_0' is not in the enzymes dataframe !\n"
     ]
    }
   ],
   "source": [
    "model.operons.add(\"operon_lactose\", enzymes_linked=[\"enzyme_reaction_0\", \"enzyme_reaction_2\"], mixed_covariance=0.42)\n",
    "model.operons.df"
   ]
  },
  {
   "cell_type": "markdown",
   "metadata": {},
   "source": [
    "By default, an operon is activated, you can inactivate it at any moment"
   ]
  },
  {
   "cell_type": "code",
   "execution_count": null,
   "metadata": {},
   "outputs": [
    {
     "ename": "NameError",
     "evalue": "The operon operon_lactose is not in the operon dataframe, please enter a valide name \n",
     "output_type": "error",
     "traceback": [
      "\u001b[0;31m---------------------------------------------------------------------------\u001b[0m",
      "\u001b[0;31mNameError\u001b[0m                                 Traceback (most recent call last)",
      "Cell \u001b[0;32mIn [37], line 1\u001b[0m\n\u001b[0;32m----> 1\u001b[0m model\u001b[38;5;241m.\u001b[39moperons\u001b[38;5;241m.\u001b[39minactivate(\u001b[38;5;124m\"\u001b[39m\u001b[38;5;124moperon_lactose\u001b[39m\u001b[38;5;124m\"\u001b[39m)\n",
      "File \u001b[0;32m~/Documents/BadAss/Notebooks/../layer_1/operon.py:220\u001b[0m, in \u001b[0;36mOperon_class.inactivate\u001b[0;34m(self, name)\u001b[0m\n\u001b[1;32m    218\u001b[0m \u001b[38;5;66;03m# Look if the operon is in the model\u001b[39;00m\n\u001b[1;32m    219\u001b[0m \u001b[38;5;28;01mif\u001b[39;00m name \u001b[38;5;129;01mnot\u001b[39;00m \u001b[38;5;129;01min\u001b[39;00m \u001b[38;5;28mself\u001b[39m\u001b[38;5;241m.\u001b[39mdf\u001b[38;5;241m.\u001b[39mindex:\n\u001b[0;32m--> 220\u001b[0m     \u001b[38;5;28;01mraise\u001b[39;00m \u001b[38;5;167;01mNameError\u001b[39;00m(\u001b[38;5;124mf\u001b[39m\u001b[38;5;124m\"\u001b[39m\u001b[38;5;124mThe operon \u001b[39m\u001b[38;5;132;01m{\u001b[39;00mname\u001b[38;5;132;01m}\u001b[39;00m\u001b[38;5;124m is not in the operon dataframe, please enter a valide name \u001b[39m\u001b[38;5;130;01m\\n\u001b[39;00m\u001b[38;5;124m\"\u001b[39m)\n\u001b[1;32m    222\u001b[0m \u001b[38;5;28mself\u001b[39m\u001b[38;5;241m.\u001b[39mdf\u001b[38;5;241m.\u001b[39mat[name, \u001b[38;5;124m\"\u001b[39m\u001b[38;5;124mActivated\u001b[39m\u001b[38;5;124m\"\u001b[39m] \u001b[38;5;241m=\u001b[39m \u001b[38;5;28;01mFalse\u001b[39;00m\n",
      "\u001b[0;31mNameError\u001b[0m: The operon operon_lactose is not in the operon dataframe, please enter a valide name \n"
     ]
    }
   ],
   "source": [
    "model.operons.inactivate(\"operon_lactose\")"
   ]
  },
  {
   "cell_type": "markdown",
   "metadata": {},
   "source": [
    "## <font color='green'> [2.4] Elasticity matrix of parameters </font> "
   ]
  },
  {
   "cell_type": "code",
   "execution_count": null,
   "metadata": {},
   "outputs": [
    {
     "data": {
      "text/html": [
       "<div>\n",
       "<style scoped>\n",
       "    .dataframe tbody tr th:only-of-type {\n",
       "        vertical-align: middle;\n",
       "    }\n",
       "\n",
       "    .dataframe tbody tr th {\n",
       "        vertical-align: top;\n",
       "    }\n",
       "\n",
       "    .dataframe thead th {\n",
       "        text-align: right;\n",
       "    }\n",
       "</style>\n",
       "<table border=\"1\" class=\"dataframe\">\n",
       "  <thead>\n",
       "    <tr style=\"text-align: right;\">\n",
       "      <th></th>\n",
       "      <th>meta_0_para</th>\n",
       "      <th>meta_3_para</th>\n",
       "      <th>enzyme_reaction_0_para</th>\n",
       "      <th>enzyme_reaction_1_para</th>\n",
       "      <th>enzyme_reaction_2_para</th>\n",
       "    </tr>\n",
       "  </thead>\n",
       "  <tbody>\n",
       "    <tr>\n",
       "      <th>reaction_0</th>\n",
       "      <td>0.5</td>\n",
       "      <td>-0.0</td>\n",
       "      <td>1.0</td>\n",
       "      <td>0.0</td>\n",
       "      <td>0.0</td>\n",
       "    </tr>\n",
       "    <tr>\n",
       "      <th>reaction_1</th>\n",
       "      <td>-0.0</td>\n",
       "      <td>-0.0</td>\n",
       "      <td>0.0</td>\n",
       "      <td>1.0</td>\n",
       "      <td>0.0</td>\n",
       "    </tr>\n",
       "    <tr>\n",
       "      <th>reaction_2</th>\n",
       "      <td>-0.0</td>\n",
       "      <td>-0.5</td>\n",
       "      <td>0.0</td>\n",
       "      <td>0.0</td>\n",
       "      <td>1.0</td>\n",
       "    </tr>\n",
       "  </tbody>\n",
       "</table>\n",
       "</div>"
      ],
      "text/plain": [
       "            meta_0_para  meta_3_para  enzyme_reaction_0_para  \\\n",
       "reaction_0          0.5         -0.0                     1.0   \n",
       "reaction_1         -0.0         -0.0                     0.0   \n",
       "reaction_2         -0.0         -0.5                     0.0   \n",
       "\n",
       "            enzyme_reaction_1_para  enzyme_reaction_2_para  \n",
       "reaction_0                     0.0                     0.0  \n",
       "reaction_1                     1.0                     0.0  \n",
       "reaction_2                     0.0                     1.0  "
      ]
     },
     "execution_count": 38,
     "metadata": {},
     "output_type": "execute_result"
    }
   ],
   "source": [
    "model.elasticity.p.df"
   ]
  },
  {
   "cell_type": "markdown",
   "metadata": {},
   "source": [
    "You can change the elasticity matrix by changing 1 by 1 each element using the methods of the Pandas module     \n",
    "or by using model.elasticity.p.change() (slowest but there is a security to check the input)"
   ]
  },
  {
   "cell_type": "code",
   "execution_count": null,
   "metadata": {},
   "outputs": [
    {
     "data": {
      "text/html": [
       "<div>\n",
       "<style scoped>\n",
       "    .dataframe tbody tr th:only-of-type {\n",
       "        vertical-align: middle;\n",
       "    }\n",
       "\n",
       "    .dataframe tbody tr th {\n",
       "        vertical-align: top;\n",
       "    }\n",
       "\n",
       "    .dataframe thead th {\n",
       "        text-align: right;\n",
       "    }\n",
       "</style>\n",
       "<table border=\"1\" class=\"dataframe\">\n",
       "  <thead>\n",
       "    <tr style=\"text-align: right;\">\n",
       "      <th></th>\n",
       "      <th>meta_0_para</th>\n",
       "      <th>meta_3_para</th>\n",
       "      <th>enzyme_reaction_0_para</th>\n",
       "      <th>enzyme_reaction_1_para</th>\n",
       "      <th>enzyme_reaction_2_para</th>\n",
       "    </tr>\n",
       "  </thead>\n",
       "  <tbody>\n",
       "    <tr>\n",
       "      <th>reaction_0</th>\n",
       "      <td>0.5</td>\n",
       "      <td>-0.0</td>\n",
       "      <td>-2.0</td>\n",
       "      <td>0.0</td>\n",
       "      <td>0.0</td>\n",
       "    </tr>\n",
       "    <tr>\n",
       "      <th>reaction_1</th>\n",
       "      <td>-0.0</td>\n",
       "      <td>-0.0</td>\n",
       "      <td>0.0</td>\n",
       "      <td>3.0</td>\n",
       "      <td>0.0</td>\n",
       "    </tr>\n",
       "    <tr>\n",
       "      <th>reaction_2</th>\n",
       "      <td>-0.0</td>\n",
       "      <td>-0.5</td>\n",
       "      <td>0.0</td>\n",
       "      <td>0.0</td>\n",
       "      <td>1.0</td>\n",
       "    </tr>\n",
       "  </tbody>\n",
       "</table>\n",
       "</div>"
      ],
      "text/plain": [
       "            meta_0_para  meta_3_para  enzyme_reaction_0_para  \\\n",
       "reaction_0          0.5         -0.0                    -2.0   \n",
       "reaction_1         -0.0         -0.0                     0.0   \n",
       "reaction_2         -0.0         -0.5                     0.0   \n",
       "\n",
       "            enzyme_reaction_1_para  enzyme_reaction_2_para  \n",
       "reaction_0                     0.0                     0.0  \n",
       "reaction_1                     3.0                     0.0  \n",
       "reaction_2                     0.0                     1.0  "
      ]
     },
     "execution_count": 39,
     "metadata": {},
     "output_type": "execute_result"
    }
   ],
   "source": [
    "model.elasticity.p.change(flux_name=\"reaction_0\", parameter_name=\"enzyme_reaction_0_para\", value=-2.)\n",
    "model.elasticity.p.df.at[\"reaction_1\", \"enzyme_reaction_1_para\"] = 3\n",
    "model.elasticity.p.df"
   ]
  },
  {
   "cell_type": "markdown",
   "metadata": {},
   "source": [
    "## <font color='green'> [2.5] Elasticities matrix of internal metabolites </font> "
   ]
  },
  {
   "cell_type": "markdown",
   "metadata": {},
   "source": [
    "Only the internal metabolites are in the $\\varepsilon_s$ elasticiy matrix"
   ]
  },
  {
   "cell_type": "code",
   "execution_count": null,
   "metadata": {},
   "outputs": [
    {
     "data": {
      "text/html": [
       "<div>\n",
       "<style scoped>\n",
       "    .dataframe tbody tr th:only-of-type {\n",
       "        vertical-align: middle;\n",
       "    }\n",
       "\n",
       "    .dataframe tbody tr th {\n",
       "        vertical-align: top;\n",
       "    }\n",
       "\n",
       "    .dataframe thead th {\n",
       "        text-align: right;\n",
       "    }\n",
       "</style>\n",
       "<table border=\"1\" class=\"dataframe\">\n",
       "  <thead>\n",
       "    <tr style=\"text-align: right;\">\n",
       "      <th></th>\n",
       "      <th>meta_1</th>\n",
       "      <th>meta_2</th>\n",
       "    </tr>\n",
       "  </thead>\n",
       "  <tbody>\n",
       "    <tr>\n",
       "      <th>reaction_0</th>\n",
       "      <td>0</td>\n",
       "      <td>0</td>\n",
       "    </tr>\n",
       "    <tr>\n",
       "      <th>reaction_1</th>\n",
       "      <td>0</td>\n",
       "      <td>0</td>\n",
       "    </tr>\n",
       "    <tr>\n",
       "      <th>reaction_2</th>\n",
       "      <td>0</td>\n",
       "      <td>0</td>\n",
       "    </tr>\n",
       "  </tbody>\n",
       "</table>\n",
       "</div>"
      ],
      "text/plain": [
       "            meta_1  meta_2\n",
       "reaction_0       0       0\n",
       "reaction_1       0       0\n",
       "reaction_2       0       0"
      ]
     },
     "execution_count": 40,
     "metadata": {},
     "output_type": "execute_result"
    }
   ],
   "source": [
    "model.elasticity.s.df"
   ]
  },
  {
   "cell_type": "markdown",
   "metadata": {},
   "source": [
    "You can change the elasticity matrix by changing 1 by 1 each element using the methods of the Pandas module     \n",
    "or by using model.elasticity.s.change() (slowest but there is a security to check the input)"
   ]
  },
  {
   "cell_type": "code",
   "execution_count": null,
   "metadata": {},
   "outputs": [
    {
     "data": {
      "text/html": [
       "<div>\n",
       "<style scoped>\n",
       "    .dataframe tbody tr th:only-of-type {\n",
       "        vertical-align: middle;\n",
       "    }\n",
       "\n",
       "    .dataframe tbody tr th {\n",
       "        vertical-align: top;\n",
       "    }\n",
       "\n",
       "    .dataframe thead th {\n",
       "        text-align: right;\n",
       "    }\n",
       "</style>\n",
       "<table border=\"1\" class=\"dataframe\">\n",
       "  <thead>\n",
       "    <tr style=\"text-align: right;\">\n",
       "      <th></th>\n",
       "      <th>meta_1</th>\n",
       "      <th>meta_2</th>\n",
       "    </tr>\n",
       "  </thead>\n",
       "  <tbody>\n",
       "    <tr>\n",
       "      <th>reaction_0</th>\n",
       "      <td>1</td>\n",
       "      <td>0</td>\n",
       "    </tr>\n",
       "    <tr>\n",
       "      <th>reaction_1</th>\n",
       "      <td>0</td>\n",
       "      <td>0</td>\n",
       "    </tr>\n",
       "    <tr>\n",
       "      <th>reaction_2</th>\n",
       "      <td>0</td>\n",
       "      <td>-1</td>\n",
       "    </tr>\n",
       "  </tbody>\n",
       "</table>\n",
       "</div>"
      ],
      "text/plain": [
       "            meta_1  meta_2\n",
       "reaction_0       1       0\n",
       "reaction_1       0       0\n",
       "reaction_2       0      -1"
      ]
     },
     "execution_count": 41,
     "metadata": {},
     "output_type": "execute_result"
    }
   ],
   "source": [
    "model.elasticity.s.df.at[\"reaction_0\", \"meta_1\"] = 1\n",
    "model.elasticity.s.change(\"reaction_2\", \"meta_2\", -1)\n",
    "model.elasticity.s.df"
   ]
  },
  {
   "cell_type": "markdown",
   "metadata": {},
   "source": [
    "Or by adding an entire Numpy matrix of the same size"
   ]
  },
  {
   "cell_type": "code",
   "execution_count": null,
   "metadata": {},
   "outputs": [
    {
     "data": {
      "text/html": [
       "<div>\n",
       "<style scoped>\n",
       "    .dataframe tbody tr th:only-of-type {\n",
       "        vertical-align: middle;\n",
       "    }\n",
       "\n",
       "    .dataframe tbody tr th {\n",
       "        vertical-align: top;\n",
       "    }\n",
       "\n",
       "    .dataframe thead th {\n",
       "        text-align: right;\n",
       "    }\n",
       "</style>\n",
       "<table border=\"1\" class=\"dataframe\">\n",
       "  <thead>\n",
       "    <tr style=\"text-align: right;\">\n",
       "      <th></th>\n",
       "      <th>meta_1</th>\n",
       "      <th>meta_2</th>\n",
       "    </tr>\n",
       "  </thead>\n",
       "  <tbody>\n",
       "    <tr>\n",
       "      <th>reaction_0</th>\n",
       "      <td>1</td>\n",
       "      <td>-4</td>\n",
       "    </tr>\n",
       "    <tr>\n",
       "      <th>reaction_1</th>\n",
       "      <td>-2</td>\n",
       "      <td>5</td>\n",
       "    </tr>\n",
       "    <tr>\n",
       "      <th>reaction_2</th>\n",
       "      <td>3</td>\n",
       "      <td>-6</td>\n",
       "    </tr>\n",
       "  </tbody>\n",
       "</table>\n",
       "</div>"
      ],
      "text/plain": [
       "            meta_1  meta_2\n",
       "reaction_0       1      -4\n",
       "reaction_1      -2       5\n",
       "reaction_2       3      -6"
      ]
     },
     "execution_count": 42,
     "metadata": {},
     "output_type": "execute_result"
    }
   ],
   "source": [
    "matrix_data = np.array([[1,-4],\n",
    "                        [-2,5],\n",
    "                        [3,-6]])\n",
    "\n",
    "model.elasticity.s.df[:] = matrix_data\n",
    "model.elasticity.s.df"
   ]
  },
  {
   "cell_type": "markdown",
   "metadata": {},
   "source": [
    "You can assume that the enzymes are half-saturated, the elasticity is therefore equal to $-0.5N^T$"
   ]
  },
  {
   "cell_type": "code",
   "execution_count": null,
   "metadata": {},
   "outputs": [
    {
     "data": {
      "text/html": [
       "<div>\n",
       "<style scoped>\n",
       "    .dataframe tbody tr th:only-of-type {\n",
       "        vertical-align: middle;\n",
       "    }\n",
       "\n",
       "    .dataframe tbody tr th {\n",
       "        vertical-align: top;\n",
       "    }\n",
       "\n",
       "    .dataframe thead th {\n",
       "        text-align: right;\n",
       "    }\n",
       "</style>\n",
       "<table border=\"1\" class=\"dataframe\">\n",
       "  <thead>\n",
       "    <tr style=\"text-align: right;\">\n",
       "      <th></th>\n",
       "      <th>meta_1</th>\n",
       "      <th>meta_2</th>\n",
       "    </tr>\n",
       "  </thead>\n",
       "  <tbody>\n",
       "    <tr>\n",
       "      <th>reaction_0</th>\n",
       "      <td>-0.5</td>\n",
       "      <td>-0.0</td>\n",
       "    </tr>\n",
       "    <tr>\n",
       "      <th>reaction_1</th>\n",
       "      <td>0.5</td>\n",
       "      <td>-0.5</td>\n",
       "    </tr>\n",
       "    <tr>\n",
       "      <th>reaction_2</th>\n",
       "      <td>-0.0</td>\n",
       "      <td>0.5</td>\n",
       "    </tr>\n",
       "  </tbody>\n",
       "</table>\n",
       "</div>"
      ],
      "text/plain": [
       "            meta_1  meta_2\n",
       "reaction_0    -0.5    -0.0\n",
       "reaction_1     0.5    -0.5\n",
       "reaction_2    -0.0     0.5"
      ]
     },
     "execution_count": 43,
     "metadata": {},
     "output_type": "execute_result"
    }
   ],
   "source": [
    "model.elasticity.s.half_satured()\n",
    "model.elasticity.s.df"
   ]
  },
  {
   "cell_type": "markdown",
   "metadata": {},
   "source": [
    "# <font color='red'> [3] Post-simulation analysis </font> "
   ]
  },
  {
   "cell_type": "code",
   "execution_count": null,
   "metadata": {},
   "outputs": [
    {
     "name": "stdout",
     "output_type": "stream",
     "text": [
      " \n"
     ]
    }
   ],
   "source": [
    "import sys\n",
    "sys.path.append('../')\n",
    "\n",
    "from main import *\n",
    "\n",
    "model = MODEL()"
   ]
  },
  {
   "cell_type": "code",
   "execution_count": null,
   "metadata": {},
   "outputs": [
    {
     "name": "stdout",
     "output_type": "stream",
     "text": [
      " \n",
      "Name of the removed parameter : Temperature\n"
     ]
    }
   ],
   "source": [
    "model.creat_linear(4)\n",
    "model.parameters.add_externals()\n",
    "model.enzymes.add_to_all_reaction()\n",
    "model.parameters.add_enzymes()\n",
    "model.parameters.remove(\"Temperature\")\n",
    "model.elasticity.s.half_satured()"
   ]
  },
  {
   "cell_type": "code",
   "execution_count": null,
   "metadata": {},
   "outputs": [
    {
     "data": {
      "text/html": [
       "<div>\n",
       "<style scoped>\n",
       "    .dataframe tbody tr th:only-of-type {\n",
       "        vertical-align: middle;\n",
       "    }\n",
       "\n",
       "    .dataframe tbody tr th {\n",
       "        vertical-align: top;\n",
       "    }\n",
       "\n",
       "    .dataframe thead th {\n",
       "        text-align: right;\n",
       "    }\n",
       "</style>\n",
       "<table border=\"1\" class=\"dataframe\">\n",
       "  <thead>\n",
       "    <tr style=\"text-align: right;\">\n",
       "      <th></th>\n",
       "      <th>meta_1</th>\n",
       "      <th>meta_2</th>\n",
       "    </tr>\n",
       "  </thead>\n",
       "  <tbody>\n",
       "    <tr>\n",
       "      <th>reaction_0</th>\n",
       "      <td>-0.5</td>\n",
       "      <td>-0.0</td>\n",
       "    </tr>\n",
       "    <tr>\n",
       "      <th>reaction_1</th>\n",
       "      <td>0.5</td>\n",
       "      <td>-0.5</td>\n",
       "    </tr>\n",
       "    <tr>\n",
       "      <th>reaction_2</th>\n",
       "      <td>-0.0</td>\n",
       "      <td>0.5</td>\n",
       "    </tr>\n",
       "  </tbody>\n",
       "</table>\n",
       "</div>"
      ],
      "text/plain": [
       "            meta_1  meta_2\n",
       "reaction_0    -0.5    -0.0\n",
       "reaction_1     0.5    -0.5\n",
       "reaction_2    -0.0     0.5"
      ]
     },
     "execution_count": 79,
     "metadata": {},
     "output_type": "execute_result"
    }
   ],
   "source": [
    "model.elasticity.s.df"
   ]
  },
  {
   "cell_type": "code",
   "execution_count": null,
   "metadata": {},
   "outputs": [
    {
     "data": {
      "text/html": [
       "<div>\n",
       "<style scoped>\n",
       "    .dataframe tbody tr th:only-of-type {\n",
       "        vertical-align: middle;\n",
       "    }\n",
       "\n",
       "    .dataframe tbody tr th {\n",
       "        vertical-align: top;\n",
       "    }\n",
       "\n",
       "    .dataframe thead th {\n",
       "        text-align: right;\n",
       "    }\n",
       "</style>\n",
       "<table border=\"1\" class=\"dataframe\">\n",
       "  <thead>\n",
       "    <tr style=\"text-align: right;\">\n",
       "      <th></th>\n",
       "      <th>meta_1</th>\n",
       "      <th>meta_2</th>\n",
       "    </tr>\n",
       "  </thead>\n",
       "  <tbody>\n",
       "    <tr>\n",
       "      <th>reaction_0</th>\n",
       "      <td>-1.0</td>\n",
       "      <td>0.0</td>\n",
       "    </tr>\n",
       "    <tr>\n",
       "      <th>reaction_1</th>\n",
       "      <td>0.5</td>\n",
       "      <td>-5.0</td>\n",
       "    </tr>\n",
       "    <tr>\n",
       "      <th>reaction_2</th>\n",
       "      <td>0.0</td>\n",
       "      <td>5.0</td>\n",
       "    </tr>\n",
       "  </tbody>\n",
       "</table>\n",
       "</div>"
      ],
      "text/plain": [
       "            meta_1  meta_2\n",
       "reaction_0    -1.0     0.0\n",
       "reaction_1     0.5    -5.0\n",
       "reaction_2     0.0     5.0"
      ]
     },
     "execution_count": 73,
     "metadata": {},
     "output_type": "execute_result"
    }
   ],
   "source": [
    "matrix_data = np.array([[ -1.  ,   0],\n",
    "                        [  0.5 , -5],\n",
    "                        [  0.  ,  5]])\n",
    "\n",
    "model.elasticity.s.df[:] = matrix_data\n",
    "model.elasticity.s.df"
   ]
  },
  {
   "cell_type": "code",
   "execution_count": null,
   "metadata": {},
   "outputs": [],
   "source": [
    "model.elasticity.s.fill_sub_elasticity()"
   ]
  },
  {
   "cell_type": "code",
   "execution_count": null,
   "metadata": {},
   "outputs": [
    {
     "data": {
      "text/html": [
       "<div>\n",
       "<style scoped>\n",
       "    .dataframe tbody tr th:only-of-type {\n",
       "        vertical-align: middle;\n",
       "    }\n",
       "\n",
       "    .dataframe tbody tr th {\n",
       "        vertical-align: top;\n",
       "    }\n",
       "\n",
       "    .dataframe thead th {\n",
       "        text-align: right;\n",
       "    }\n",
       "</style>\n",
       "<table border=\"1\" class=\"dataframe\">\n",
       "  <thead>\n",
       "    <tr style=\"text-align: right;\">\n",
       "      <th></th>\n",
       "      <th>meta_1</th>\n",
       "      <th>meta_2</th>\n",
       "    </tr>\n",
       "  </thead>\n",
       "  <tbody>\n",
       "    <tr>\n",
       "      <th>reaction_0</th>\n",
       "      <td>0.128007</td>\n",
       "      <td>0.219976</td>\n",
       "    </tr>\n",
       "    <tr>\n",
       "      <th>reaction_1</th>\n",
       "      <td>0.259928</td>\n",
       "      <td>0.566640</td>\n",
       "    </tr>\n",
       "    <tr>\n",
       "      <th>reaction_2</th>\n",
       "      <td>-0.064285</td>\n",
       "      <td>-0.167879</td>\n",
       "    </tr>\n",
       "  </tbody>\n",
       "</table>\n",
       "</div>"
      ],
      "text/plain": [
       "              meta_1    meta_2\n",
       "reaction_0  0.128007  0.219976\n",
       "reaction_1  0.259928  0.566640\n",
       "reaction_2 -0.064285 -0.167879"
      ]
     },
     "execution_count": 47,
     "metadata": {},
     "output_type": "execute_result"
    }
   ],
   "source": [
    "model.elasticity.s.regulation"
   ]
  },
  {
   "cell_type": "code",
   "execution_count": null,
   "metadata": {},
   "outputs": [],
   "source": [
    "model.regulations.add(\"reg_1\", regulated=\"reaction_0\", regulator=\"meta_2\", coefficient=-0.5)\n",
    "model.regulations.add(\"reg_2\", regulated=\"reaction_2\", regulator=\"meta_1\", coefficient=0.5)"
   ]
  },
  {
   "cell_type": "code",
   "execution_count": null,
   "metadata": {},
   "outputs": [
    {
     "data": {
      "text/html": [
       "<div>\n",
       "<style scoped>\n",
       "    .dataframe tbody tr th:only-of-type {\n",
       "        vertical-align: middle;\n",
       "    }\n",
       "\n",
       "    .dataframe tbody tr th {\n",
       "        vertical-align: top;\n",
       "    }\n",
       "\n",
       "    .dataframe thead th {\n",
       "        text-align: right;\n",
       "    }\n",
       "</style>\n",
       "<table border=\"1\" class=\"dataframe\">\n",
       "  <thead>\n",
       "    <tr style=\"text-align: right;\">\n",
       "      <th></th>\n",
       "      <th>meta_1</th>\n",
       "      <th>meta_2</th>\n",
       "    </tr>\n",
       "  </thead>\n",
       "  <tbody>\n",
       "    <tr>\n",
       "      <th>reaction_0</th>\n",
       "      <td>0.916103</td>\n",
       "      <td>-0.075059</td>\n",
       "    </tr>\n",
       "    <tr>\n",
       "      <th>reaction_1</th>\n",
       "      <td>0.259928</td>\n",
       "      <td>0.777602</td>\n",
       "    </tr>\n",
       "    <tr>\n",
       "      <th>reaction_2</th>\n",
       "      <td>0.435715</td>\n",
       "      <td>-0.167879</td>\n",
       "    </tr>\n",
       "  </tbody>\n",
       "</table>\n",
       "</div>"
      ],
      "text/plain": [
       "              meta_1    meta_2\n",
       "reaction_0  0.916103 -0.075059\n",
       "reaction_1  0.259928  0.777602\n",
       "reaction_2  0.435715 -0.167879"
      ]
     },
     "execution_count": 49,
     "metadata": {},
     "output_type": "execute_result"
    }
   ],
   "source": [
    "model.elasticity.s.df"
   ]
  },
  {
   "cell_type": "code",
   "execution_count": null,
   "metadata": {},
   "outputs": [
    {
     "data": {
      "image/png": "[encoded data removed]",
      "text/plain": [
       "<Figure size 640x480 with 2 Axes>"
      ]
     },
     "metadata": {},
     "output_type": "display_data"
    },
    {
     "data": {
      "text/plain": [
       "(<Figure size 640x480 with 2 Axes>,\n",
       " <AxesSubplot: title={'center': 'Correlation'}>,\n",
       " <matplotlib.image.AxesImage at 0x7b787e49b8b0>)"
      ]
     },
     "execution_count": 50,
     "metadata": {},
     "output_type": "execute_result"
    }
   ],
   "source": [
    "model.plot(result=\"rho\", label=True)"
   ]
  },
  {
   "cell_type": "markdown",
   "metadata": {},
   "source": [
    "## <font color='green'> [3.1] Structure's variable </font> "
   ]
  },
  {
   "cell_type": "markdown",
   "metadata": {},
   "source": [
    "The stoichiometric matrix $N$ (or $S$ for the culturless peoples)"
   ]
  },
  {
   "cell_type": "code",
   "execution_count": null,
   "metadata": {},
   "outputs": [],
   "source": [
    "model.Stoichio_matrix_pd"
   ]
  },
  {
   "cell_type": "markdown",
   "metadata": {},
   "source": [
    "You also can get a reduced version of the stoichiometric matrix and the link matrix associated"
   ]
  },
  {
   "cell_type": "code",
   "execution_count": null,
   "metadata": {},
   "outputs": [],
   "source": [
    "L, N_r = model.Link_matrix\n",
    "print(\"Link matrix :\\n\",L)\n",
    "N_r"
   ]
  },
  {
   "cell_type": "markdown",
   "metadata": {},
   "source": [
    "## <font color='green'> [3.2] Jacobian matrix </font> "
   ]
  },
  {
   "cell_type": "markdown",
   "metadata": {},
   "source": [
    "The Jacobian matrix is recomputed each time there is a modification in $N$ or $E_s$, else it is stored in a cache"
   ]
  },
  {
   "cell_type": "code",
   "execution_count": null,
   "metadata": {},
   "outputs": [],
   "source": [
    "model.Jacobian"
   ]
  },
  {
   "cell_type": "code",
   "execution_count": null,
   "metadata": {},
   "outputs": [],
   "source": [
    "model.Jacobian_reversed"
   ]
  },
  {
   "cell_type": "markdown",
   "metadata": {},
   "source": [
    "## <font color='green'> [3.3] MCA response coefficient </font> "
   ]
  },
  {
   "cell_type": "markdown",
   "metadata": {},
   "source": [
    "Sub element of the response matrix : $R^s_p$ and $R^v_p$"
   ]
  },
  {
   "cell_type": "code",
   "execution_count": null,
   "metadata": {},
   "outputs": [],
   "source": [
    "model.R_v_p"
   ]
  },
  {
   "cell_type": "code",
   "execution_count": null,
   "metadata": {},
   "outputs": [],
   "source": [
    "model.R_s_p"
   ]
  },
  {
   "cell_type": "markdown",
   "metadata": {},
   "source": [
    "The entire response matrix is constituted of $R^s_p$ and $R^v_p$ as a block matrix"
   ]
  },
  {
   "cell_type": "code",
   "execution_count": null,
   "metadata": {},
   "outputs": [],
   "source": [
    "model.R"
   ]
  },
  {
   "cell_type": "markdown",
   "metadata": {},
   "source": [
    "## <font color='green'> [3.4] Covariance, Correlation and Mutual Information </font> \n"
   ]
  },
  {
   "cell_type": "markdown",
   "metadata": {},
   "source": [
    "### <font color='white'> [3.4.1] Covariance</font> "
   ]
  },
  {
   "cell_type": "markdown",
   "metadata": {},
   "source": [
    "The program can compute the covariance matrix of the model by a matrix product of the response matrix and the covariance matrix of the parameters (a multivariate normal distribution independent by default) to study the transmission of information through the system"
   ]
  },
  {
   "cell_type": "code",
   "execution_count": null,
   "metadata": {},
   "outputs": [],
   "source": [
    "model.covariance"
   ]
  },
  {
   "cell_type": "markdown",
   "metadata": {},
   "source": [
    "### <font color='white'> [3.4.2] Corelation </font> "
   ]
  },
  {
   "cell_type": "markdown",
   "metadata": {},
   "source": [
    "You can therefore compute the correlation"
   ]
  },
  {
   "cell_type": "code",
   "execution_count": null,
   "metadata": {},
   "outputs": [],
   "source": [
    "model.correlation"
   ]
  },
  {
   "cell_type": "markdown",
   "metadata": {},
   "source": [
    "### <font color='white'> [3.4.3] Entropy </font> "
   ]
  },
  {
   "cell_type": "code",
   "execution_count": null,
   "metadata": {},
   "outputs": [],
   "source": [
    "model.entropy"
   ]
  },
  {
   "cell_type": "markdown",
   "metadata": {},
   "source": [
    "You can also study the entropy between groups of elements of the model"
   ]
  },
  {
   "cell_type": "markdown",
   "metadata": {},
   "source": [
    "Taking as input :\n",
    "- [] -> Every element is studied individually\n",
    "- dict -> name of the groups as keys and list of str of the elements as values\n",
    "- list of list -> list of groups with default names"
   ]
  },
  {
   "cell_type": "code",
   "execution_count": null,
   "metadata": {},
   "outputs": [],
   "source": [
    "model.group_entropy([[\"meta_0_para\", \"meta_1\"],[\"enzyme_reaction_0_para\", \"reaction_2\"]])"
   ]
  },
  {
   "cell_type": "markdown",
   "metadata": {},
   "source": [
    "### <font color='white'> [3.4.4] Conditional entropy </font> "
   ]
  },
  {
   "cell_type": "code",
   "execution_count": null,
   "metadata": {},
   "outputs": [],
   "source": [
    "model.entropy_conditional"
   ]
  },
  {
   "cell_type": "markdown",
   "metadata": {},
   "source": [
    "### <font color='white'> [3.4.5] Joint entropy </font> "
   ]
  },
  {
   "cell_type": "code",
   "execution_count": null,
   "metadata": {},
   "outputs": [],
   "source": [
    "model.joint_entropy"
   ]
  },
  {
   "cell_type": "markdown",
   "metadata": {},
   "source": [
    "### <font color='white'> [3.4.6] Mutual Information </font> "
   ]
  },
  {
   "cell_type": "code",
   "execution_count": null,
   "metadata": {},
   "outputs": [],
   "source": [
    "model.MI"
   ]
  },
  {
   "cell_type": "markdown",
   "metadata": {},
   "source": [
    "You can also plot a histogram of the mutual information and conditional entropy (the sum represents its entropy) of a certain element with every other elements of the model"
   ]
  },
  {
   "cell_type": "code",
   "execution_count": null,
   "metadata": {},
   "outputs": [],
   "source": [
    "model.plot_entropy(\"meta_1\")"
   ]
  },
  {
   "cell_type": "markdown",
   "metadata": {},
   "source": [
    "or you can do the inverse and plot a histogram of every elements of the model compare to an certain element"
   ]
  },
  {
   "cell_type": "code",
   "execution_count": null,
   "metadata": {},
   "outputs": [],
   "source": [
    "model.plot_entropy(\"meta_1\", reversed=True)"
   ]
  },
  {
   "cell_type": "markdown",
   "metadata": {},
   "source": [
    "## <font color='green'> [3.5] Sampling </font> \n"
   ]
  },
  {
   "cell_type": "markdown",
   "metadata": {},
   "source": [
    "You can sample some data from the model and look for the mean value of the correlation or mutual information matrix"
   ]
  },
  {
   "cell_type": "markdown",
   "metadata": {},
   "source": [
    "### <font color='white'> [3.5.1] Updating the dataframe of the sampling data </font> "
   ]
  },
  {
   "cell_type": "code",
   "execution_count": null,
   "metadata": {},
   "outputs": [],
   "source": [
    "model.data_sampling"
   ]
  },
  {
   "cell_type": "markdown",
   "metadata": {},
   "source": [
    "You have to add to the sampling dataframe the element of the model that you want to sample"
   ]
  },
  {
   "cell_type": "code",
   "execution_count": null,
   "metadata": {},
   "outputs": [],
   "source": [
    "model.add_sampling_data([\"reaction_0\",\"enzyme_reaction_1_para\"], \"elasticity_p\", mean = True)\n",
    "\n",
    "model.data_sampling"
   ]
  },
  {
   "cell_type": "markdown",
   "metadata": {},
   "source": [
    "### <font color='white'> [3.5.2] Launch of the sampling loop </font> "
   ]
  },
  {
   "cell_type": "code",
   "execution_count": null,
   "metadata": {},
   "outputs": [],
   "source": [
    "model.sampling(N=10, result=\"rho\", seed_constant=False)"
   ]
  },
  {
   "cell_type": "markdown",
   "metadata": {},
   "source": [
    "# <font color='red'> [4] Graph of the result </font> "
   ]
  },
  {
   "cell_type": "markdown",
   "metadata": {},
   "source": [
    "## <font color='green'> [4.1] Heat map </font> \n"
   ]
  },
  {
   "cell_type": "markdown",
   "metadata": {},
   "source": [
    "You can display some previous results on a heat map"
   ]
  },
  {
   "cell_type": "code",
   "execution_count": null,
   "metadata": {},
   "outputs": [],
   "source": [
    "model.plot(result=\"rho\", title=\"Corelation\")"
   ]
  },
  {
   "cell_type": "markdown",
   "metadata": {},
   "source": [
    "## <font color='green'> [4.2] Boxplot </font> \n"
   ]
  },
  {
   "cell_type": "markdown",
   "metadata": {},
   "source": [
    "You can open a window to display a graphic interface to study the influence of the fixation of a variable"
   ]
  },
  {
   "cell_type": "code",
   "execution_count": null,
   "metadata": {},
   "outputs": [],
   "source": [
    "#model.graphic_interface()"
   ]
  },
  {
   "cell_type": "markdown",
   "metadata": {},
   "source": [
    "If you want to study the influence of multiple fixations of elements, use .boxplot() or .group_entropy_fixed_vector instead"
   ]
  },
  {
   "cell_type": "markdown",
   "metadata": {},
   "source": [
    "## <font color='green'> [4.3] Eschermap </font> \n"
   ]
  },
  {
   "cell_type": "markdown",
   "metadata": {},
   "source": [
    "If you have a model file and a map file (both in .json), you can display things on an Esher map"
   ]
  },
  {
   "cell_type": "code",
   "execution_count": null,
   "metadata": {},
   "outputs": [],
   "source": [
    "model_path = \"../Exemples/linear/model_linear.json\"\n",
    "map_path = \"../Exemples/linear/map_linear.json\""
   ]
  },
  {
   "cell_type": "markdown",
   "metadata": {},
   "source": [
    "### <font color='white'> [4.3.1] Display the reference state </font> "
   ]
  },
  {
   "cell_type": "code",
   "execution_count": null,
   "metadata": {},
   "outputs": [],
   "source": [
    "model.escher_reference(model_json=model_path, map_json=map_path)"
   ]
  },
  {
   "cell_type": "markdown",
   "metadata": {},
   "source": [
    "### <font color='white'> [4.3.2] Display MI or correlation </font> "
   ]
  },
  {
   "cell_type": "markdown",
   "metadata": {},
   "source": [
    "You can display the mutual information or the correlation between every metabolite and an element of the model"
   ]
  },
  {
   "cell_type": "code",
   "execution_count": null,
   "metadata": {},
   "outputs": [],
   "source": [
    "model.escher_information(studied=\"enzyme_reaction_1_para\", result=\"rho\", model_json=model_path, map_json=map_path)"
   ]
  },
  {
   "cell_type": "markdown",
   "metadata": {},
   "source": [
    "### <font color='white'> [4.3.3] Display mean deviation </font> "
   ]
  },
  {
   "cell_type": "markdown",
   "metadata": {},
   "source": [
    "You can also display on Escher map of the mean deviation that occurs when you fixe an element of the model to a certain value"
   ]
  },
  {
   "cell_type": "code",
   "execution_count": null,
   "metadata": {},
   "outputs": [],
   "source": [
    "model.escher_mean_deviation(fixed_element=\"enzyme_reaction_1_para\", fixed_value=1.5, model_json=model_path, map_json=map_path)"
   ]
  },
  {
   "cell_type": "code",
   "execution_count": null,
   "metadata": {},
   "outputs": [],
   "source": [
    "t_0 = time.time()\n",
    "\n",
    "N_ela = 3\n",
    "import random\n",
    "\n",
    "modified_elasticity = []\n",
    "elasticity_value = []\n",
    "\n",
    "for i in range(N_ela) :\n",
    "    flux = random.choice(model.elasticity.s.df.index)\n",
    "    meta = random.choice(model.elasticity.s.df.columns)\n",
    "    modified_elasticity.append([flux, meta])\n",
    "\n",
    "    elasticity_value.append(np.random.uniform(-1.0, 1.0))\n",
    "\n",
    "print()\n",
    "print(modified_elasticity)\n",
    "print(elasticity_value)\n",
    "print()\n",
    "print()\n",
    "\n",
    "model.MOO(modified_elasticity, elasticity_value, print_result=False)\n",
    "\n",
    "t_end = time.time() - t_0\n",
    "print(f\"final time : {t_end}\")"
   ]
  },
  {
   "cell_type": "code",
   "execution_count": null,
   "metadata": {},
   "outputs": [],
   "source": [
    "model.real_data[\"Correlation\"]"
   ]
  }
 ],
 "metadata": {
  "kernelspec": {
   "display_name": "Python 3",
   "language": "python",
   "name": "python3"
  },
  "language_info": {
   "codemirror_mode": {
    "name": "ipython",
    "version": 3
   },
   "file_extension": ".py",
   "mimetype": "text/x-python",
   "name": "python",
   "nbconvert_exporter": "python",
   "pygments_lexer": "ipython3",
   "version": "3.10.12"
  },
  "orig_nbformat": 4
 },
 "nbformat": 4,
 "nbformat_minor": 2
}
